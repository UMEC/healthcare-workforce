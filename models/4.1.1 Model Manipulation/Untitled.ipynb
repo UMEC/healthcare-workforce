{
 "cells": [
  {
   "cell_type": "markdown",
   "metadata": {},
   "source": [
    "* {\"request_type\": \"available_years\", \"value\": \"all\"}\n",
    "* {\"request_type\": \"geo_profile\", \"value\": \"all\"}\n",
    "* {\"request_type\": \"provider_profile\", \"value\": \"all\"}\n",
    "* {\"request_type\": \"save_model\", \"value\": \"model_id\", \"directory\": \"/sample/directory\"}\n",
    "* {\"request_type\": \"load_model\", \"value\": \"model_id\", \"directory\" : \"/sample/directory\"}"
   ]
  },
  {
   "cell_type": "code",
   "execution_count": 10,
   "metadata": {},
   "outputs": [],
   "source": [
    "import json"
   ]
  },
  {
   "cell_type": "code",
   "execution_count": 11,
   "metadata": {},
   "outputs": [],
   "source": [
    "command_string = '{\"request_type\": \"load_model\", \"value\": \"model_id\", \"directory\" : \"/sample/directory\"}'"
   ]
  },
  {
   "cell_type": "code",
   "execution_count": 12,
   "metadata": {},
   "outputs": [
    {
     "name": "stdout",
     "output_type": "stream",
     "text": [
      "load_model model_id /sample/directory\n"
     ]
    }
   ],
   "source": [
    "# parse the command line argument into a JSON object\n",
    "try:\n",
    "    parsed_command = json.loads(command_string)\n",
    "except Exception as e:\n",
    "    respond(None,command,provider_type, \"ERROR: Invalid argument - not in JSON format: \"+str(e))\n",
    "if \"request_type\" in parsed_command:\n",
    "    command = str(parsed_command[\"request_type\"])\n",
    "else:\n",
    "    respond(None,command,provider_type, \"ERROR: Invalid argument - no request_type defined: \"+str(e))\n",
    "if \"value\" in parsed_command:\n",
    "    value = str(parsed_command[\"value\"])\n",
    "if \"directory\" in parsed_command:\n",
    "    directory = str(parsed_command[\"directory\"])\n",
    "print(command,value,directory)"
   ]
  },
  {
   "cell_type": "code",
   "execution_count": null,
   "metadata": {},
   "outputs": [],
   "source": []
  }
 ],
 "metadata": {
  "kernelspec": {
   "display_name": "Python 3",
   "language": "python",
   "name": "python3"
  },
  "language_info": {
   "codemirror_mode": {
    "name": "ipython",
    "version": 3
   },
   "file_extension": ".py",
   "mimetype": "text/x-python",
   "name": "python",
   "nbconvert_exporter": "python",
   "pygments_lexer": "ipython3",
   "version": "3.6.5"
  }
 },
 "nbformat": 4,
 "nbformat_minor": 2
}
