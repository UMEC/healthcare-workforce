{
 "cells": [
  {
   "cell_type": "markdown",
   "metadata": {},
   "source": [
    "# Provider Profile"
   ]
  },
  {
   "cell_type": "code",
   "execution_count": null,
   "metadata": {},
   "outputs": [],
   "source": [
    "# coding: utf-8\n",
    "#\n",
    "# This is the bare bones of the component 4.1.1 Model Manipulation\n",
    "# It receives a JSON formatted instruction via the command line in\n",
    "# the form:\n",
    "#\n",
    "# python model_manip.py\n",
    "#\n",
    "# Then send a string similar to the following in via std in:\n",
    "# {\"request_type\": \"provider_profile\", \"value\": \"Psych\"}\n",
    "#\n",
    "# It responds via std out with a JSON string that includes the originating call\n",
    "# and an additional response string (which in itself is a JSON string)\n",
    "\n",
    "import pandas as pd\n",
    "import json\n",
    "import sys\n",
    "import os\n",
    "\n",
    "#directory = os.path.abspath(os.path.dirname(os.path.realpath(__file__)) + \"/../test/data_input_component_CSV/\")\n",
    "directory = \"../test/data_input_component_CSV/\"\n",
    "\n",
    "command=\"null\"\n",
    "provider_type=\"null\""
   ]
  },
  {
   "cell_type": "code",
   "execution_count": null,
   "metadata": {},
   "outputs": [],
   "source": [
    "def respond(response_msg,verb,object,error_msg=None):\n",
    "    \"\"\"Prints a JSON formatted service response to std out and exits the program\n",
    "\n",
    "        Parameters\n",
    "        ----------\n",
    "        response_msg : str, mandatory\n",
    "            The message included in the response attribute of the JSON out\n",
    "        verb : str, mandatory\n",
    "            The command that was received (if any)\n",
    "        object: str, mandatory\n",
    "            The target for the command that was received (if any)\n",
    "        error_msg : str, optional\n",
    "            An error message string\n",
    "    \"\"\"\n",
    "    if (error_msg != None):\n",
    "      response_msg = '{\"error_msg\":\"' + error_msg + '\"}'\n",
    "    response = '{\"request\":[{\"request_type\":\"' + verb + '\", \"value\": \"' + object + '\"}],\"response\":[' + response_msg + ']}'\n",
    "    print (response)\n",
    "    sys.exit(0)"
   ]
  },
  {
   "cell_type": "code",
   "execution_count": null,
   "metadata": {},
   "outputs": [],
   "source": [
    "command_string = input(\"\")"
   ]
  },
  {
   "cell_type": "code",
   "execution_count": null,
   "metadata": {},
   "outputs": [],
   "source": [
    "# parse the command line argument into a JSON object\n",
    "try:\n",
    "    parsed_command = json.loads(command_string)\n",
    "    provider_type = str(parsed_command[\"value\"])\n",
    "    command = str(parsed_command[\"request_type\"])\n",
    "    command\n",
    "    provider_type\n",
    "except Exception as e:\n",
    "    respond(None,command,provider_type, \"ERROR: Could not parse argument: \"+str(e))"
   ]
  },
  {
   "cell_type": "code",
   "execution_count": null,
   "metadata": {},
   "outputs": [],
   "source": [
    "# check to see if command is understood\n",
    "if command != \"provider_profile\":\n",
    "    respond(None,command,provider_type, \"ERROR: Unknown function call.\")"
   ]
  },
  {
   "cell_type": "code",
   "execution_count": null,
   "metadata": {},
   "outputs": [],
   "source": [
    "# Next we import the relevant sheets from the Data Input Component (to begin with only three)\n",
    "try:\n",
    "    provider_list = pd.read_csv(directory + \"/provider_list.csv\")\n",
    "    provider_supply = pd.read_csv(directory + \"/provider_supply.csv\")\n",
    "    acute_service_prov_priority = pd.read_csv(directory + \"/acute_service_prov_priority.csv\")\n",
    "except Exception as e:\n",
    "    respond(None,command,provider_type, \"ERROR: Could not read input files.\"+str(e))"
   ]
  },
  {
   "cell_type": "code",
   "execution_count": null,
   "metadata": {},
   "outputs": [],
   "source": [
    "provider_list.head(5)"
   ]
  },
  {
   "cell_type": "code",
   "execution_count": null,
   "metadata": {},
   "outputs": [],
   "source": [
    "# First we create the header for the provider type with their full title and wage\n",
    "provider_head_profile = provider_list.loc[provider_list['provider_abbr'] == provider_type]\n",
    "# Then we check to see if the requested provider type is in the current provider list\n",
    "if len(provider_head_profile.index) != 1:\n",
    "    respond(None,command,provider_type, \"ERROR: Provider type is not known.\")\n",
    "provider_head_profile"
   ]
  },
  {
   "cell_type": "code",
   "execution_count": null,
   "metadata": {},
   "outputs": [],
   "source": [
    "provider_supply.head(5)"
   ]
  },
  {
   "cell_type": "code",
   "execution_count": null,
   "metadata": {},
   "outputs": [],
   "source": [
    "# Second, we want to create the geographic profile of the provider type\n",
    "# First we reduce the data frame to the three provider columns\n",
    "provider_supply = provider_supply[['provider_abbr','provider_county','provider_num']]\n",
    "# Then we reduce the data frame to just the rows relevant to the requested provider type\n",
    "provider_supply1 = provider_supply.loc[provider_supply['provider_abbr'] == provider_type]\n",
    "# Finally we strip out the provider abbrevialtion column as it is now redundant\n",
    "provider_supply_profile = provider_supply1[['provider_county','provider_num']]"
   ]
  },
  {
   "cell_type": "code",
   "execution_count": null,
   "metadata": {},
   "outputs": [],
   "source": [
    "provider_supply_profile.head(5)"
   ]
  },
  {
   "cell_type": "code",
   "execution_count": null,
   "metadata": {},
   "outputs": [],
   "source": [
    "acute_service_prov_priority.head(5)"
   ]
  },
  {
   "cell_type": "code",
   "execution_count": null,
   "metadata": {},
   "outputs": [],
   "source": [
    "# For the final part of the profile, we change the provider type column in the service\n",
    "# to provider mapping matrix to the priority column that we will output\n",
    "acute_service_prov_priority.rename(columns={provider_type: 'priority'}, inplace=True)\n",
    "# We then order the services from the most suitable for that provider down to the\n",
    "# ones that they are not allowed to perform\n",
    "acute_service_prov_priority=acute_service_prov_priority.sort_values(by=['priority','acute_encounter','acute_cateogry','acute_service'])\n",
    "# We then reduce the output of the dataframe to the needed four columns\n",
    "profile_services = acute_service_prov_priority[['priority','acute_encounter','acute_cateogry','acute_service']]\n",
    "profile_services.head(10)"
   ]
  },
  {
   "cell_type": "code",
   "execution_count": null,
   "metadata": {},
   "outputs": [],
   "source": [
    "def strip_brackets(JSON_string):\n",
    "    \"\"\"Strips the brackets\n",
    "\n",
    "        Parameters\n",
    "        ----------\n",
    "        JSON_string : str, mandatory\n",
    "            The JSON string to strip the leading and trailing end brackets from\n",
    "    \"\"\"\n",
    "    result = JSON_string.strip(\"[]\")\n",
    "    return result"
   ]
  },
  {
   "cell_type": "code",
   "execution_count": null,
   "metadata": {},
   "outputs": [],
   "source": [
    "# Finally we assemble the final JSON output from the three separate bits of the profile\n",
    "out = '{\"header\":' + provider_head_profile.to_json(orient='records') + ','\n",
    "out = out + '\"supply\":' + provider_supply_profile.to_json(orient='records') + ','\n",
    "out = out + '\"services\":' + profile_services.to_json(orient='records') + '}'\n",
    "# And issue them via std out and exit\n",
    "#respond(out,command,provider_type)\n",
    "respond(out,command,provider_type)"
   ]
  },
  {
   "cell_type": "code",
   "execution_count": null,
   "metadata": {},
   "outputs": [],
   "source": []
  },
  {
   "cell_type": "code",
   "execution_count": null,
   "metadata": {},
   "outputs": [],
   "source": []
  },
  {
   "cell_type": "code",
   "execution_count": null,
   "metadata": {},
   "outputs": [],
   "source": []
  }
 ],
 "metadata": {
  "kernelspec": {
   "display_name": "Python 3",
   "language": "python",
   "name": "python3"
  },
  "language_info": {
   "codemirror_mode": {
    "name": "ipython",
    "version": 3
   },
   "file_extension": ".py",
   "mimetype": "text/x-python",
   "name": "python",
   "nbconvert_exporter": "python",
   "pygments_lexer": "ipython3",
   "version": "3.6.5"
  }
 },
 "nbformat": 4,
 "nbformat_minor": 2
}
