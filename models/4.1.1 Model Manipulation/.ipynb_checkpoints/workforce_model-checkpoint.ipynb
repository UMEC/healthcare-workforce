{
 "cells": [
  {
   "cell_type": "markdown",
   "metadata": {},
   "source": [
    "# Workforce Model"
   ]
  },
  {
   "cell_type": "markdown",
   "metadata": {},
   "source": [
    "This program creates a pandas from the imported Excel spreadsheet.\n",
    "\n",
    "It can return three types of information as a result of requests from the front end:\n",
    "\n",
    "* {\"request_type\": \"available_years\", \"value\": \"all\"}\n",
    "* {\"request_type\": \"geo_profile\", \"value\": \"all\"}\n",
    "* {\"request_type\": \"provider_profile\", \"value\": \"all\"}\n",
    "* {\"request_type\": \"save_model\", \"value\": \"directory\"}\n",
    "\n",
    "It can also process deltas to this information as a result of user input from the front end:\n",
    "\n",
    "* {JSON_string}\n",
    "\n",
    "The JSON_string will be formatted similarly to the request types.\n",
    "\n",
    "In response to these deltas, it will run the relevant optimization model depending upon the\n",
    "deltas and constraints provided in the JSON string.\n",
    "\n",
    "### jupyter nbconvert --to script workforce_model.ipynb\n"
   ]
  },
  {
   "cell_type": "markdown",
   "metadata": {},
   "source": [
    "The model uses the imported Excel sheets that are created by the workforce_pandas module"
   ]
  },
  {
   "cell_type": "code",
   "execution_count": 19,
   "metadata": {},
   "outputs": [],
   "source": [
    "import workforce_pandas as wfpd\n",
    "import json\n",
    "import sys\n",
    "import pickle\n",
    "command=\"null\"\n",
    "provider_type=\"null\""
   ]
  },
  {
   "cell_type": "code",
   "execution_count": 2,
   "metadata": {
    "scrolled": true
   },
   "outputs": [
    {
     "data": {
      "text/plain": [
       "['pop_chronic_trend',\n",
       " 'pop_chronic_prev',\n",
       " 'chron_care_freq',\n",
       " 'geo_area_list',\n",
       " 'service_characteristics',\n",
       " 'pop_acute_need',\n",
       " 'frontsheet',\n",
       " 'population',\n",
       " 'provider_supply',\n",
       " 'pop_prev_need',\n",
       " 'provider_list',\n",
       " 'encounter_detail',\n",
       " 'metadata',\n",
       " 'overhead_work',\n",
       " 'encounter_types']"
      ]
     },
     "execution_count": 2,
     "metadata": {},
     "output_type": "execute_result"
    }
   ],
   "source": [
    "wfpd.sheets"
   ]
  },
  {
   "cell_type": "markdown",
   "metadata": {},
   "source": [
    "The model takes the input of a JSON string from stdin"
   ]
  },
  {
   "cell_type": "code",
   "execution_count": 3,
   "metadata": {},
   "outputs": [
    {
     "name": "stdout",
     "output_type": "stream",
     "text": [
      "{\"request_type\": \"geo_profile\", \"value\": \"all\"}\n"
     ]
    }
   ],
   "source": [
    "command_string = input(\"\")"
   ]
  },
  {
   "cell_type": "markdown",
   "metadata": {},
   "source": [
    "All responses are formatted and sent using the respond function below:"
   ]
  },
  {
   "cell_type": "code",
   "execution_count": 4,
   "metadata": {},
   "outputs": [],
   "source": [
    "def respond(response_msg,verb,object,error_msg=None):\n",
    "    \"\"\"Prints a JSON formatted service response to std out and exits the program\n",
    "\n",
    "        Parameters\n",
    "        ----------\n",
    "        response_msg : str, mandatory\n",
    "            The message included in the response attribute of the JSON out\n",
    "        verb : str, mandatory\n",
    "            The command that was received (if any)\n",
    "        object: str, mandatory\n",
    "            The target for the command that was received (if any)\n",
    "        error_msg : str, optional\n",
    "            An error message string\n",
    "    \"\"\"\n",
    "    if (error_msg != None):\n",
    "        response_msg = '{\"error_msg\":\"' + error_msg + '\"}'\n",
    "    response = '{\"request\":{\"request_type\":\"' + verb + '\", \"value\": \"' + object + '\"},\"response\":' + response_msg + '}'\n",
    "    print (response)\n",
    "    sys.exit(0)"
   ]
  },
  {
   "cell_type": "markdown",
   "metadata": {},
   "source": [
    "This input command is parsed into a couple of strings, or an exception is raised and then passed back to the caller"
   ]
  },
  {
   "cell_type": "code",
   "execution_count": 5,
   "metadata": {},
   "outputs": [
    {
     "data": {
      "text/plain": [
       "'geo_profile'"
      ]
     },
     "execution_count": 5,
     "metadata": {},
     "output_type": "execute_result"
    }
   ],
   "source": [
    "# parse the command line argument into a JSON object\n",
    "try:\n",
    "    parsed_command = json.loads(command_string)\n",
    "    value = str(parsed_command[\"value\"])\n",
    "    command = str(parsed_command[\"request_type\"])\n",
    "except Exception as e:\n",
    "    respond(None,command,provider_type, \"ERROR: Could not parse argument: \"+str(e))\n",
    "command"
   ]
  },
  {
   "cell_type": "markdown",
   "metadata": {},
   "source": [
    "The next two functions are used to manipulate the automatically generated JSON strings as they often don't conform to the format that we require in our responses"
   ]
  },
  {
   "cell_type": "code",
   "execution_count": 6,
   "metadata": {},
   "outputs": [],
   "source": [
    "def strip_brackets(JSON_string):\n",
    "    \"\"\"Strips the square brackets from a JSON string\n",
    "\n",
    "        Parameters\n",
    "        ----------\n",
    "        JSON_string : str, mandatory\n",
    "            The JSON string to strip the leading and trailing end square brackets from\n",
    "    \"\"\"\n",
    "    result = JSON_string.strip(\"[]\")\n",
    "    return result"
   ]
  },
  {
   "cell_type": "code",
   "execution_count": 7,
   "metadata": {},
   "outputs": [],
   "source": [
    "def strip_curlies(JSON_string):\n",
    "    \"\"\"Strips the curly brackets from a JSON string\n",
    "\n",
    "        Parameters\n",
    "        ----------\n",
    "        JSON_string : str, mandatory\n",
    "            The JSON string to strip the leading and trailing curly brackets from\n",
    "    \"\"\"\n",
    "    result = JSON_string.strip(\"{}\")\n",
    "    return result"
   ]
  },
  {
   "cell_type": "markdown",
   "metadata": {},
   "source": [
    "The next three functions manipulate pandas dataframes in various ways to assist in turning them into JSON strings.  _df_to_json_attri is useful for single simple rows and uses the in-built functions to perform the transform.  The _sub_json_object_ and _frame_sub_json_object_ manipulate the dataframes themselves to categories of related data in dataframes for conversion into JSON strings"
   ]
  },
  {
   "cell_type": "code",
   "execution_count": 8,
   "metadata": {},
   "outputs": [],
   "source": [
    "def sub_json_object(source,index_column,value):\n",
    "    \"\"\"Takes a wfpd dataframe (i.e. a csv sheet in pandas form)\n",
    "        and filters it on provided value on its index_column.  The\n",
    "        index column is then removed, effectively providing a table\n",
    "        of related data.  This table is then returned as a dataframe.\n",
    "        Useful function for transforming pandas JSON friendly structures.\n",
    "    \n",
    "        Works well for simple rows, but is a little naive in terms of transformation for\n",
    "        multiple row tables or those with categories.\n",
    "\n",
    "        Parameters\n",
    "        ----------\n",
    "        source : string\n",
    "            The name of the wfpd dataframe (aka Excel sheet name)\n",
    "        index_column : string\n",
    "            The name of the column on the wfpd dataframe to filter on\n",
    "        value : string\n",
    "            The value to filter on\n",
    "    \"\"\"\n",
    "    dataframe = wfpd.dataframes[source]\n",
    "    dataframe = dataframe.loc[dataframe[index_column] == value]\n",
    "    dataframe = dataframe.drop(index_column,1)\n",
    "    return dataframe"
   ]
  },
  {
   "cell_type": "code",
   "execution_count": 9,
   "metadata": {},
   "outputs": [],
   "source": [
    "def frame_sub_json_object(dataframe,index_column,value):\n",
    "    \"\"\" Essentially the same as the sub_json_object function, but can take an\n",
    "        arbitrary dataframe, rather than a wfpd dataframe.\n",
    "        \n",
    "        Takes a dataframe and filters it on a provided value on its index_column.\n",
    "        The index column is then removed, effectively providing a table\n",
    "        of related data.  This table is then returned as a dataframe.\n",
    "        Useful function for transforming pandas JSON friendly structures.\n",
    "        \n",
    "        Parameters\n",
    "        ----------\n",
    "        source : string\n",
    "            The name of the wfpd dataframe (aka Excel sheet name)\n",
    "        index_column : string\n",
    "            The name of the column on the wfpd dataframe to filter on\n",
    "        value : string\n",
    "            The value to filter on\n",
    "    \"\"\"\n",
    "    dataframe = dataframe.loc[dataframe[index_column] == value]\n",
    "    dataframe = dataframe.drop(index_column,1)\n",
    "    return dataframe"
   ]
  },
  {
   "cell_type": "markdown",
   "metadata": {},
   "source": [
    "The next two functions manipulate dataframes directly into JSON.  The _df_to_json_attribs_ takes a dataframe with a primary key_column and iterates through the values of that column and turns each row into a JSON object.  The _df_to_json_ function simply uses the standard pandas to JSON function to convert a single row into a JSON string."
   ]
  },
  {
   "cell_type": "code",
   "execution_count": 10,
   "metadata": {},
   "outputs": [],
   "source": [
    "def df_to_json_attribs(dataframe,key_column):\n",
    "    \"\"\" Iterates through each row in a dataframe that has a primary unique key\n",
    "        and turns it into a JSON string\n",
    "        \n",
    "        Parameters\n",
    "        ----------\n",
    "        dataframe : pd\n",
    "            The name of the wfpd dataframe (aka Excel sheet name)\n",
    "        key_column : string\n",
    "            The name of the column on the wfpd dataframe to filter on\n",
    "    \"\"\"    \n",
    "    elements = len(dataframe)\n",
    "    json = \"{\"\n",
    "    count = 0\n",
    "    for index, row in dataframe.iterrows():\n",
    "        element = row[key_column]\n",
    "        json = json + '\"' + element + '\":{'\n",
    "        attribute_frame = dataframe.loc[dataframe[key_column] == element]\n",
    "        attribute_frame = attribute_frame.drop(key_column,1)\n",
    "        json = json + strip_curlies(strip_brackets(df_to_json(attribute_frame)))\n",
    "        if count != (elements-1):\n",
    "            json = json + \"},\"\n",
    "        else:\n",
    "            json = json + \"}\"\n",
    "        count = count + 1\n",
    "    json = json + \"}\"\n",
    "    return json"
   ]
  },
  {
   "cell_type": "code",
   "execution_count": 11,
   "metadata": {},
   "outputs": [],
   "source": [
    "def df_to_json(dataframe):\n",
    "    \"\"\"Turns a pandas dataframe into a JSON string.\n",
    "    \n",
    "        Works file for single rows, but is a little naive in terms of transformation for\n",
    "        multiple row tables\n",
    "\n",
    "        Parameters\n",
    "        ----------\n",
    "        dataframe : pd, mandatory\n",
    "            The pandas dataframe to turn into a JSON string\n",
    "    \"\"\"\n",
    "    json = dataframe.to_json(orient='records')\n",
    "    return json"
   ]
  },
  {
   "cell_type": "markdown",
   "metadata": {},
   "source": [
    "This function returns the available years in the model; the user can select the individual year they wish to look at and send this back to the model."
   ]
  },
  {
   "cell_type": "code",
   "execution_count": 12,
   "metadata": {},
   "outputs": [],
   "source": [
    "def available_years():\n",
    "    \"\"\"Returns a JSON string of the available years in the model.\n",
    "    \"\"\"\n",
    "    out = \"\"\n",
    "    my_dataframe = wfpd.dataframes['population']\n",
    "    list=my_dataframe.columns.values[3:]\n",
    "    out = ('{ \"available_years\":[')\n",
    "    years = len(list)\n",
    "    year_count=0\n",
    "    for item in list:\n",
    "        out = out + (json.dumps(item))\n",
    "        if year_count != (years -1):\n",
    "            out = out + (\",\")\n",
    "        else:\n",
    "            out = out + (\"]}\")\n",
    "        year_count = year_count + 1\n",
    "    return out"
   ]
  },
  {
   "cell_type": "markdown",
   "metadata": {},
   "source": [
    "This function returns the data relevant to each geographic area, by geographic area.  This includes the sdoh index and the details of the primary care providers in each of the geographic areas."
   ]
  },
  {
   "cell_type": "code",
   "execution_count": 13,
   "metadata": {},
   "outputs": [],
   "source": [
    "def geo_profile():\n",
    "    \"\"\" Creates a easily addressable JSON string from the wfpd pandas dataframes that\n",
    "        reports back to the front end the following data:\n",
    "        \n",
    "        By county/area:\n",
    "            area sdoh index\n",
    "            area provider supply by provider_type, for each provider/area combination\n",
    "                number of providers\n",
    "                growth trend\n",
    "                mean_wage\n",
    "    \"\"\" \n",
    "    primary_key_df_name = 'geo_area_list'\n",
    "    primary_key_column = 'geo_area'\n",
    "    primary_key_dataframe = wfpd.dataframes[primary_key_df_name]\n",
    "    elements = len(primary_key_dataframe)\n",
    "    #print (elements)\n",
    "    out = \"{\"\n",
    "    for index, row in primary_key_dataframe.iterrows():\n",
    "        element = row[primary_key_column]\n",
    "        out = out + '\"' + element + '\":{'\n",
    "        out = out + strip_curlies(strip_brackets(df_to_json(sub_json_object(primary_key_df_name,primary_key_column,element)))) + \",\"  \n",
    "        out = out + '\"supply\":'\n",
    "        out = out + df_to_json_attribs(sub_json_object('provider_supply','provider_geo_area',element),'provider_abbr') \n",
    "        if index != elements-1:\n",
    "            out = out + \"},\"\n",
    "        else:\n",
    "            out = out + \"}\"\n",
    "    out = out + \"}\"\n",
    "    return out"
   ]
  },
  {
   "cell_type": "markdown",
   "metadata": {},
   "source": [
    "For each provider this function provides a category based view of which services they can provide - and how suitable those services are for them to carry out.  For each service a minimum and maximum face to face time is defined.  It also provides a supply based view of each provider supply by county, including the numbers per county, the expected growth rate, mean wage and wage trends.\n",
    "\n",
    "NB: As the following function demonstrates, constructing easily navigable JSON from pandas is a non-trivial operation.  In retrospect, the creation of the JSON string should have been done by programmatically building a Python structure that is capable of being serialised then serialising it.  For more information see [here](https://realpython.com/python-json/)."
   ]
  },
  {
   "cell_type": "code",
   "execution_count": 14,
   "metadata": {},
   "outputs": [],
   "source": [
    "def provider_profile():\n",
    "    out = \"\"\n",
    "    primary_key_df_name = 'provider_list'\n",
    "    primary_key_column = 'provider_abbr'\n",
    "    primary_key_dataframe = wfpd.dataframes[primary_key_df_name]\n",
    "    # we will iterate the outer loop once for each provider type\n",
    "    elements = len(primary_key_dataframe)\n",
    "    # open the JSON string and set loop counter to zero\n",
    "    out = \"{\"\n",
    "    count = 0\n",
    "    # create a loop that will iterate through each row in the provider list\n",
    "    for index, row in primary_key_dataframe.iterrows():\n",
    "        # extract the provider name\n",
    "        element = row[primary_key_column]\n",
    "        # open a JSON object that correspondes to the provider type\n",
    "        out = out + '\"' + element + '\":{'\n",
    "        # write to the JSON all the top level attributes of the provider\n",
    "        out = out + strip_curlies(strip_brackets(df_to_json(sub_json_object(primary_key_df_name,primary_key_column,element))))\n",
    "        # retrieve the dataframe that contains the provider/serice matrix\n",
    "        pa_services = wfpd.dataframes['service_characteristics']\n",
    "        # change N/A to 'no' to prevent processing errors\n",
    "        pa_services = pa_services.fillna(\"no\")\n",
    "        # filter the dataframe to just those things this provider can do\n",
    "        pa_services = pa_services.loc[pa_services[element] != \"no\"]\n",
    "        # now strip the dataframe back to the information we need (including the provider column)\n",
    "        pa_services = pa_services[['svc_category','svc_desc','min_f2f_time','max_f2f_time',element]]\n",
    "        pa_services = pa_services.rename(columns={element:'score'})    \n",
    "        #  for each of the services identified, create a unique list of the service categories they belong to\n",
    "        service_category_list = pa_services['svc_category'].unique()\n",
    "        # we can now work out how many categories we need to loop around\n",
    "        inner_element_size = len(service_category_list)\n",
    "        # now we add a second object to the provider type which contains information about the services they\n",
    "        # can perform\n",
    "        out = out + \",\"\n",
    "        out = out + '\"services:\":['\n",
    "        count3 = 0\n",
    "        # we're now going to loop for every row in the service_category array\n",
    "        for row2 in service_category_list:\n",
    "            # take a copy of pa_services as we will be filtering it\n",
    "            inner_pa_service = pa_services\n",
    "            key_column = 'svc_category'\n",
    "            inner_element = row2\n",
    "            # define the service category name as an array\n",
    "            out = out + '{\"'+inner_element+'\":['\n",
    "\n",
    "            inner_pa_service = inner_pa_service.loc[inner_pa_service[key_column] == row2]\n",
    "            inner_pa_service = inner_pa_service.drop(key_column,1)\n",
    "            #print (inner_pa_service)\n",
    "            ii_key_column = 'svc_desc'\n",
    "            ii_elements = len(inner_pa_service)\n",
    "            count2 = 0\n",
    "            for index3, row3 in inner_pa_service.iterrows():\n",
    "                ii_element = row3[ii_key_column]\n",
    "                #print (\"      Very inner element:\" + ii_element)\n",
    "                out = out + '{\"' + ii_element + '\":{'\n",
    "                out = out + strip_curlies(strip_brackets(df_to_json(frame_sub_json_object(inner_pa_service,ii_key_column,ii_element))))\n",
    "                if count2 != (ii_elements-1) :\n",
    "                    out = out + \"}},\"\n",
    "                else:\n",
    "                    out = out + \"}}\"\n",
    "                count2 = count2 + 1\n",
    "            if count3 != (inner_element_size-1) :\n",
    "                out = out + \"]},\"\n",
    "            else:\n",
    "                out = out + \"]}\"\n",
    "            count3 = count3 + 1 \n",
    "        out = out + \"],\"\n",
    "        out = out + '\"supply\":'\n",
    "        out = out + df_to_json_attribs(sub_json_object('provider_supply','provider_abbr',element),'provider_geo_area') \n",
    "        if count != elements-1:\n",
    "            out = out + \"},\"\n",
    "        else:\n",
    "            out = out + \"}\"\n",
    "        count = count + 1\n",
    "    out = out + \"}\"\n",
    "    return out"
   ]
  },
  {
   "cell_type": "code",
   "execution_count": null,
   "metadata": {},
   "outputs": [],
   "source": [
    "def pickle(location):\n",
    "    out = pickle.dumps(wfpd.dataframes,protocol=pickle.HIGHEST_PROTOCOL)\n",
    "    return out"
   ]
  },
  {
   "cell_type": "code",
   "execution_count": 15,
   "metadata": {},
   "outputs": [
    {
     "name": "stdout",
     "output_type": "stream",
     "text": [
      "{\"request\":{\"request_type\":\"geo_profile\", \"value\": \"all\"},\"response\":{\"Beaver County\":{\"sdoh_index\":3.0,\"supply\":{\"Phys\":{\"provider_num\":5.0,\"provider_growth_trend\":0.01,\"provider_mean_wage\":177958.0,\"provider_wage_trend\":0.02},\"PA\":{\"provider_num\":5.0,\"provider_growth_trend\":0.01,\"provider_mean_wage\":105690.0,\"provider_wage_trend\":0.02},\"NP\":{\"provider_num\":5.0,\"provider_growth_trend\":0.01,\"provider_mean_wage\":95994.0,\"provider_wage_trend\":0.02},\"RN\":{\"provider_num\":5.0,\"provider_growth_trend\":0.01,\"provider_mean_wage\":57595.0,\"provider_wage_trend\":0.02},\"PharmD\":{\"provider_num\":5.0,\"provider_growth_trend\":0.01,\"provider_mean_wage\":125000.0,\"provider_wage_trend\":0.02},\"MA\":{\"provider_num\":8.0,\"provider_growth_trend\":0.01,\"provider_mean_wage\":32500.0,\"provider_wage_trend\":0.02},\"Educ\":{\"provider_num\":6.0,\"provider_growth_trend\":0.01,\"provider_mean_wage\":55652.0,\"provider_wage_trend\":0.02},\"Psych\":{\"provider_num\":5.0,\"provider_growth_trend\":0.01,\"provider_mean_wage\":204194.0,\"provider_wage_trend\":0.02},\"LCSW\":{\"provider_num\":6.0,\"provider_growth_trend\":0.01,\"provider_mean_wage\":62000.0,\"provider_wage_trend\":0.02},\"CMHC\":{\"provider_num\":5.0,\"provider_growth_trend\":0.01,\"provider_mean_wage\":52500.0,\"provider_wage_trend\":0.02},\"MFT\":{\"provider_num\":5.0,\"provider_growth_trend\":0.01,\"provider_mean_wage\":55590.0,\"provider_wage_trend\":0.02}}},\"Box Elder County\":{\"sdoh_index\":3.0,\"supply\":{\"Phys\":{\"provider_num\":12.0,\"provider_growth_trend\":0.01,\"provider_mean_wage\":177958.0,\"provider_wage_trend\":0.02},\"PA\":{\"provider_num\":5.0,\"provider_growth_trend\":0.01,\"provider_mean_wage\":105690.0,\"provider_wage_trend\":0.02},\"NP\":{\"provider_num\":9.0,\"provider_growth_trend\":0.01,\"provider_mean_wage\":95994.0,\"provider_wage_trend\":0.02},\"RN\":{\"provider_num\":15.0,\"provider_growth_trend\":0.01,\"provider_mean_wage\":57595.0,\"provider_wage_trend\":0.02},\"PharmD\":{\"provider_num\":13.0,\"provider_growth_trend\":0.01,\"provider_mean_wage\":125000.0,\"provider_wage_trend\":0.02},\"MA\":{\"provider_num\":24.0,\"provider_growth_trend\":0.01,\"provider_mean_wage\":32500.0,\"provider_wage_trend\":0.02},\"Educ\":{\"provider_num\":8.0,\"provider_growth_trend\":0.01,\"provider_mean_wage\":55652.0,\"provider_wage_trend\":0.02},\"Psych\":{\"provider_num\":5.0,\"provider_growth_trend\":0.01,\"provider_mean_wage\":204194.0,\"provider_wage_trend\":0.02},\"LCSW\":{\"provider_num\":8.0,\"provider_growth_trend\":0.01,\"provider_mean_wage\":62000.0,\"provider_wage_trend\":0.02},\"CMHC\":{\"provider_num\":5.0,\"provider_growth_trend\":0.01,\"provider_mean_wage\":52500.0,\"provider_wage_trend\":0.02},\"MFT\":{\"provider_num\":5.0,\"provider_growth_trend\":0.01,\"provider_mean_wage\":55590.0,\"provider_wage_trend\":0.02}}},\"Cache County\":{\"sdoh_index\":3.0,\"supply\":{\"Phys\":{\"provider_num\":14.0,\"provider_growth_trend\":0.01,\"provider_mean_wage\":177958.0,\"provider_wage_trend\":0.02},\"PA\":{\"provider_num\":5.0,\"provider_growth_trend\":0.01,\"provider_mean_wage\":105690.0,\"provider_wage_trend\":0.02},\"NP\":{\"provider_num\":14.0,\"provider_growth_trend\":0.01,\"provider_mean_wage\":95994.0,\"provider_wage_trend\":0.02},\"RN\":{\"provider_num\":87.0,\"provider_growth_trend\":0.01,\"provider_mean_wage\":57595.0,\"provider_wage_trend\":0.02},\"PharmD\":{\"provider_num\":39.0,\"provider_growth_trend\":0.01,\"provider_mean_wage\":125000.0,\"provider_wage_trend\":0.02},\"MA\":{\"provider_num\":28.0,\"provider_growth_trend\":0.01,\"provider_mean_wage\":32500.0,\"provider_wage_trend\":0.02},\"Educ\":{\"provider_num\":19.0,\"provider_growth_trend\":0.01,\"provider_mean_wage\":55652.0,\"provider_wage_trend\":0.02},\"Psych\":{\"provider_num\":22.0,\"provider_growth_trend\":0.01,\"provider_mean_wage\":204194.0,\"provider_wage_trend\":0.02},\"LCSW\":{\"provider_num\":19.0,\"provider_growth_trend\":0.01,\"provider_mean_wage\":62000.0,\"provider_wage_trend\":0.02},\"CMHC\":{\"provider_num\":5.0,\"provider_growth_trend\":0.01,\"provider_mean_wage\":52500.0,\"provider_wage_trend\":0.02},\"MFT\":{\"provider_num\":14.0,\"provider_growth_trend\":0.01,\"provider_mean_wage\":55590.0,\"provider_wage_trend\":0.02}}},\"Carbon County\":{\"sdoh_index\":3.0,\"supply\":{\"Phys\":{\"provider_num\":5.0,\"provider_growth_trend\":0.01,\"provider_mean_wage\":177958.0,\"provider_wage_trend\":0.02},\"PA\":{\"provider_num\":5.0,\"provider_growth_trend\":0.01,\"provider_mean_wage\":105690.0,\"provider_wage_trend\":0.02},\"NP\":{\"provider_num\":5.0,\"provider_growth_trend\":0.01,\"provider_mean_wage\":95994.0,\"provider_wage_trend\":0.02},\"RN\":{\"provider_num\":23.0,\"provider_growth_trend\":0.01,\"provider_mean_wage\":57595.0,\"provider_wage_trend\":0.02},\"PharmD\":{\"provider_num\":8.0,\"provider_growth_trend\":0.01,\"provider_mean_wage\":125000.0,\"provider_wage_trend\":0.02},\"MA\":{\"provider_num\":6.0,\"provider_growth_trend\":0.01,\"provider_mean_wage\":32500.0,\"provider_wage_trend\":0.02},\"Educ\":{\"provider_num\":7.0,\"provider_growth_trend\":0.01,\"provider_mean_wage\":55652.0,\"provider_wage_trend\":0.02},\"Psych\":{\"provider_num\":5.0,\"provider_growth_trend\":0.01,\"provider_mean_wage\":204194.0,\"provider_wage_trend\":0.02},\"LCSW\":{\"provider_num\":7.0,\"provider_growth_trend\":0.01,\"provider_mean_wage\":62000.0,\"provider_wage_trend\":0.02},\"CMHC\":{\"provider_num\":5.0,\"provider_growth_trend\":0.01,\"provider_mean_wage\":52500.0,\"provider_wage_trend\":0.02},\"MFT\":{\"provider_num\":5.0,\"provider_growth_trend\":0.01,\"provider_mean_wage\":55590.0,\"provider_wage_trend\":0.02}}},\"Daggett County\":{\"sdoh_index\":3.0,\"supply\":{\"Phys\":{\"provider_num\":5.0,\"provider_growth_trend\":0.01,\"provider_mean_wage\":177958.0,\"provider_wage_trend\":0.02},\"PA\":{\"provider_num\":5.0,\"provider_growth_trend\":0.01,\"provider_mean_wage\":105690.0,\"provider_wage_trend\":0.02},\"NP\":{\"provider_num\":5.0,\"provider_growth_trend\":0.01,\"provider_mean_wage\":95994.0,\"provider_wage_trend\":0.02},\"RN\":{\"provider_num\":5.0,\"provider_growth_trend\":0.01,\"provider_mean_wage\":57595.0,\"provider_wage_trend\":0.02},\"PharmD\":{\"provider_num\":5.0,\"provider_growth_trend\":0.01,\"provider_mean_wage\":125000.0,\"provider_wage_trend\":0.02},\"MA\":{\"provider_num\":5.0,\"provider_growth_trend\":0.01,\"provider_mean_wage\":32500.0,\"provider_wage_trend\":0.02},\"Educ\":{\"provider_num\":5.0,\"provider_growth_trend\":0.01,\"provider_mean_wage\":55652.0,\"provider_wage_trend\":0.02},\"Psych\":{\"provider_num\":5.0,\"provider_growth_trend\":0.01,\"provider_mean_wage\":204194.0,\"provider_wage_trend\":0.02},\"LCSW\":{\"provider_num\":5.0,\"provider_growth_trend\":0.01,\"provider_mean_wage\":62000.0,\"provider_wage_trend\":0.02},\"CMHC\":{\"provider_num\":5.0,\"provider_growth_trend\":0.01,\"provider_mean_wage\":52500.0,\"provider_wage_trend\":0.02},\"MFT\":{\"provider_num\":5.0,\"provider_growth_trend\":0.01,\"provider_mean_wage\":55590.0,\"provider_wage_trend\":0.02}}},\"Davis County\":{\"sdoh_index\":3.0,\"supply\":{\"Phys\":{\"provider_num\":46.0,\"provider_growth_trend\":0.01,\"provider_mean_wage\":177958.0,\"provider_wage_trend\":0.02},\"PA\":{\"provider_num\":19.0,\"provider_growth_trend\":0.01,\"provider_mean_wage\":105690.0,\"provider_wage_trend\":0.02},\"NP\":{\"provider_num\":19.0,\"provider_growth_trend\":0.01,\"provider_mean_wage\":95994.0,\"provider_wage_trend\":0.02},\"RN\":{\"provider_num\":155.0,\"provider_growth_trend\":0.01,\"provider_mean_wage\":57595.0,\"provider_wage_trend\":0.02},\"PharmD\":{\"provider_num\":89.0,\"provider_growth_trend\":0.01,\"provider_mean_wage\":125000.0,\"provider_wage_trend\":0.02},\"MA\":{\"provider_num\":92.0,\"provider_growth_trend\":0.01,\"provider_mean_wage\":32500.0,\"provider_wage_trend\":0.02},\"Educ\":{\"provider_num\":73.0,\"provider_growth_trend\":0.01,\"provider_mean_wage\":55652.0,\"provider_wage_trend\":0.02},\"Psych\":{\"provider_num\":16.0,\"provider_growth_trend\":0.01,\"provider_mean_wage\":204194.0,\"provider_wage_trend\":0.02},\"LCSW\":{\"provider_num\":73.0,\"provider_growth_trend\":0.01,\"provider_mean_wage\":62000.0,\"provider_wage_trend\":0.02},\"CMHC\":{\"provider_num\":23.0,\"provider_growth_trend\":0.01,\"provider_mean_wage\":52500.0,\"provider_wage_trend\":0.02},\"MFT\":{\"provider_num\":11.0,\"provider_growth_trend\":0.01,\"provider_mean_wage\":55590.0,\"provider_wage_trend\":0.02}}},\"Duchesne County\":{\"sdoh_index\":3.0,\"supply\":{\"Phys\":{\"provider_num\":5.0,\"provider_growth_trend\":0.01,\"provider_mean_wage\":177958.0,\"provider_wage_trend\":0.02},\"PA\":{\"provider_num\":5.0,\"provider_growth_trend\":0.01,\"provider_mean_wage\":105690.0,\"provider_wage_trend\":0.02},\"NP\":{\"provider_num\":5.0,\"provider_growth_trend\":0.01,\"provider_mean_wage\":95994.0,\"provider_wage_trend\":0.02},\"RN\":{\"provider_num\":8.0,\"provider_growth_trend\":0.01,\"provider_mean_wage\":57595.0,\"provider_wage_trend\":0.02},\"PharmD\":{\"provider_num\":10.0,\"provider_growth_trend\":0.01,\"provider_mean_wage\":125000.0,\"provider_wage_trend\":0.02},\"MA\":{\"provider_num\":5.0,\"provider_growth_trend\":0.01,\"provider_mean_wage\":32500.0,\"provider_wage_trend\":0.02},\"Educ\":{\"provider_num\":6.0,\"provider_growth_trend\":0.01,\"provider_mean_wage\":55652.0,\"provider_wage_trend\":0.02},\"Psych\":{\"provider_num\":5.0,\"provider_growth_trend\":0.01,\"provider_mean_wage\":204194.0,\"provider_wage_trend\":0.02},\"LCSW\":{\"provider_num\":6.0,\"provider_growth_trend\":0.01,\"provider_mean_wage\":62000.0,\"provider_wage_trend\":0.02},\"CMHC\":{\"provider_num\":5.0,\"provider_growth_trend\":0.01,\"provider_mean_wage\":52500.0,\"provider_wage_trend\":0.02},\"MFT\":{\"provider_num\":5.0,\"provider_growth_trend\":0.01,\"provider_mean_wage\":55590.0,\"provider_wage_trend\":0.02}}},\"Emery County\":{\"sdoh_index\":3.0,\"supply\":{\"Phys\":{\"provider_num\":5.0,\"provider_growth_trend\":0.01,\"provider_mean_wage\":177958.0,\"provider_wage_trend\":0.02},\"PA\":{\"provider_num\":5.0,\"provider_growth_trend\":0.01,\"provider_mean_wage\":105690.0,\"provider_wage_trend\":0.02},\"NP\":{\"provider_num\":5.0,\"provider_growth_trend\":0.01,\"provider_mean_wage\":95994.0,\"provider_wage_trend\":0.02},\"RN\":{\"provider_num\":6.0,\"provider_growth_trend\":0.01,\"provider_mean_wage\":57595.0,\"provider_wage_trend\":0.02},\"PharmD\":{\"provider_num\":5.0,\"provider_growth_trend\":0.01,\"provider_mean_wage\":125000.0,\"provider_wage_trend\":0.02},\"MA\":{\"provider_num\":5.0,\"provider_growth_trend\":0.01,\"provider_mean_wage\":32500.0,\"provider_wage_trend\":0.02},\"Educ\":{\"provider_num\":5.0,\"provider_growth_trend\":0.01,\"provider_mean_wage\":55652.0,\"provider_wage_trend\":0.02},\"Psych\":{\"provider_num\":5.0,\"provider_growth_trend\":0.01,\"provider_mean_wage\":204194.0,\"provider_wage_trend\":0.02},\"LCSW\":{\"provider_num\":5.0,\"provider_growth_trend\":0.01,\"provider_mean_wage\":62000.0,\"provider_wage_trend\":0.02},\"CMHC\":{\"provider_num\":5.0,\"provider_growth_trend\":0.01,\"provider_mean_wage\":52500.0,\"provider_wage_trend\":0.02},\"MFT\":{\"provider_num\":5.0,\"provider_growth_trend\":0.01,\"provider_mean_wage\":55590.0,\"provider_wage_trend\":0.02}}},\"Garfield County\":{\"sdoh_index\":3.0,\"supply\":{\"Phys\":{\"provider_num\":5.0,\"provider_growth_trend\":0.01,\"provider_mean_wage\":177958.0,\"provider_wage_trend\":0.02},\"PA\":{\"provider_num\":5.0,\"provider_growth_trend\":0.01,\"provider_mean_wage\":105690.0,\"provider_wage_trend\":0.02},\"NP\":{\"provider_num\":5.0,\"provider_growth_trend\":0.01,\"provider_mean_wage\":95994.0,\"provider_wage_trend\":0.02},\"RN\":{\"provider_num\":5.0,\"provider_growth_trend\":0.01,\"provider_mean_wage\":57595.0,\"provider_wage_trend\":0.02},\"PharmD\":{\"provider_num\":5.0,\"provider_growth_trend\":0.01,\"provider_mean_wage\":125000.0,\"provider_wage_trend\":0.02},\"MA\":{\"provider_num\":5.0,\"provider_growth_trend\":0.01,\"provider_mean_wage\":32500.0,\"provider_wage_trend\":0.02},\"Educ\":{\"provider_num\":5.0,\"provider_growth_trend\":0.01,\"provider_mean_wage\":55652.0,\"provider_wage_trend\":0.02},\"Psych\":{\"provider_num\":5.0,\"provider_growth_trend\":0.01,\"provider_mean_wage\":204194.0,\"provider_wage_trend\":0.02},\"LCSW\":{\"provider_num\":5.0,\"provider_growth_trend\":0.01,\"provider_mean_wage\":62000.0,\"provider_wage_trend\":0.02},\"CMHC\":{\"provider_num\":5.0,\"provider_growth_trend\":0.01,\"provider_mean_wage\":52500.0,\"provider_wage_trend\":0.02},\"MFT\":{\"provider_num\":5.0,\"provider_growth_trend\":0.01,\"provider_mean_wage\":55590.0,\"provider_wage_trend\":0.02}}},\"Grand County\":{\"sdoh_index\":3.0,\"supply\":{\"Phys\":{\"provider_num\":6.0,\"provider_growth_trend\":0.01,\"provider_mean_wage\":177958.0,\"provider_wage_trend\":0.02},\"PA\":{\"provider_num\":5.0,\"provider_growth_trend\":0.01,\"provider_mean_wage\":105690.0,\"provider_wage_trend\":0.02},\"NP\":{\"provider_num\":5.0,\"provider_growth_trend\":0.01,\"provider_mean_wage\":95994.0,\"provider_wage_trend\":0.02},\"RN\":{\"provider_num\":8.0,\"provider_growth_trend\":0.01,\"provider_mean_wage\":57595.0,\"provider_wage_trend\":0.02},\"PharmD\":{\"provider_num\":5.0,\"provider_growth_trend\":0.01,\"provider_mean_wage\":125000.0,\"provider_wage_trend\":0.02},\"MA\":{\"provider_num\":12.0,\"provider_growth_trend\":0.01,\"provider_mean_wage\":32500.0,\"provider_wage_trend\":0.02},\"Educ\":{\"provider_num\":5.0,\"provider_growth_trend\":0.01,\"provider_mean_wage\":55652.0,\"provider_wage_trend\":0.02},\"Psych\":{\"provider_num\":5.0,\"provider_growth_trend\":0.01,\"provider_mean_wage\":204194.0,\"provider_wage_trend\":0.02},\"LCSW\":{\"provider_num\":5.0,\"provider_growth_trend\":0.01,\"provider_mean_wage\":62000.0,\"provider_wage_trend\":0.02},\"CMHC\":{\"provider_num\":5.0,\"provider_growth_trend\":0.01,\"provider_mean_wage\":52500.0,\"provider_wage_trend\":0.02},\"MFT\":{\"provider_num\":5.0,\"provider_growth_trend\":0.01,\"provider_mean_wage\":55590.0,\"provider_wage_trend\":0.02}}},\"Iron County\":{\"sdoh_index\":3.0,\"supply\":{\"Phys\":{\"provider_num\":7.0,\"provider_growth_trend\":0.01,\"provider_mean_wage\":177958.0,\"provider_wage_trend\":0.02},\"PA\":{\"provider_num\":6.0,\"provider_growth_trend\":0.01,\"provider_mean_wage\":105690.0,\"provider_wage_trend\":0.02},\"NP\":{\"provider_num\":6.0,\"provider_growth_trend\":0.01,\"provider_mean_wage\":95994.0,\"provider_wage_trend\":0.02},\"RN\":{\"provider_num\":30.0,\"provider_growth_trend\":0.01,\"provider_mean_wage\":57595.0,\"provider_wage_trend\":0.02},\"PharmD\":{\"provider_num\":15.0,\"provider_growth_trend\":0.01,\"provider_mean_wage\":125000.0,\"provider_wage_trend\":0.02},\"MA\":{\"provider_num\":14.0,\"provider_growth_trend\":0.01,\"provider_mean_wage\":32500.0,\"provider_wage_trend\":0.02},\"Educ\":{\"provider_num\":18.0,\"provider_growth_trend\":0.01,\"provider_mean_wage\":55652.0,\"provider_wage_trend\":0.02},\"Psych\":{\"provider_num\":5.0,\"provider_growth_trend\":0.01,\"provider_mean_wage\":204194.0,\"provider_wage_trend\":0.02},\"LCSW\":{\"provider_num\":18.0,\"provider_growth_trend\":0.01,\"provider_mean_wage\":62000.0,\"provider_wage_trend\":0.02},\"CMHC\":{\"provider_num\":11.0,\"provider_growth_trend\":0.01,\"provider_mean_wage\":52500.0,\"provider_wage_trend\":0.02},\"MFT\":{\"provider_num\":5.0,\"provider_growth_trend\":0.01,\"provider_mean_wage\":55590.0,\"provider_wage_trend\":0.02}}},\"Juab County\":{\"sdoh_index\":3.0,\"supply\":{\"Phys\":{\"provider_num\":5.0,\"provider_growth_trend\":0.01,\"provider_mean_wage\":177958.0,\"provider_wage_trend\":0.02},\"PA\":{\"provider_num\":5.0,\"provider_growth_trend\":0.01,\"provider_mean_wage\":105690.0,\"provider_wage_trend\":0.02},\"NP\":{\"provider_num\":5.0,\"provider_growth_trend\":0.01,\"provider_mean_wage\":95994.0,\"provider_wage_trend\":0.02},\"RN\":{\"provider_num\":5.0,\"provider_growth_trend\":0.01,\"provider_mean_wage\":57595.0,\"provider_wage_trend\":0.02},\"PharmD\":{\"provider_num\":5.0,\"provider_growth_trend\":0.01,\"provider_mean_wage\":125000.0,\"provider_wage_trend\":0.02},\"MA\":{\"provider_num\":6.0,\"provider_growth_trend\":0.01,\"provider_mean_wage\":32500.0,\"provider_wage_trend\":0.02},\"Educ\":{\"provider_num\":5.0,\"provider_growth_trend\":0.01,\"provider_mean_wage\":55652.0,\"provider_wage_trend\":0.02},\"Psych\":{\"provider_num\":5.0,\"provider_growth_trend\":0.01,\"provider_mean_wage\":204194.0,\"provider_wage_trend\":0.02},\"LCSW\":{\"provider_num\":5.0,\"provider_growth_trend\":0.01,\"provider_mean_wage\":62000.0,\"provider_wage_trend\":0.02},\"CMHC\":{\"provider_num\":5.0,\"provider_growth_trend\":0.01,\"provider_mean_wage\":52500.0,\"provider_wage_trend\":0.02},\"MFT\":{\"provider_num\":5.0,\"provider_growth_trend\":0.01,\"provider_mean_wage\":55590.0,\"provider_wage_trend\":0.02}}},\"Kane County\":{\"sdoh_index\":3.0,\"supply\":{\"Phys\":{\"provider_num\":5.0,\"provider_growth_trend\":0.01,\"provider_mean_wage\":177958.0,\"provider_wage_trend\":0.02},\"PA\":{\"provider_num\":5.0,\"provider_growth_trend\":0.01,\"provider_mean_wage\":105690.0,\"provider_wage_trend\":0.02},\"NP\":{\"provider_num\":5.0,\"provider_growth_trend\":0.01,\"provider_mean_wage\":95994.0,\"provider_wage_trend\":0.02},\"RN\":{\"provider_num\":5.0,\"provider_growth_trend\":0.01,\"provider_mean_wage\":57595.0,\"provider_wage_trend\":0.02},\"PharmD\":{\"provider_num\":5.0,\"provider_growth_trend\":0.01,\"provider_mean_wage\":125000.0,\"provider_wage_trend\":0.02},\"MA\":{\"provider_num\":5.0,\"provider_growth_trend\":0.01,\"provider_mean_wage\":32500.0,\"provider_wage_trend\":0.02},\"Educ\":{\"provider_num\":5.0,\"provider_growth_trend\":0.01,\"provider_mean_wage\":55652.0,\"provider_wage_trend\":0.02},\"Psych\":{\"provider_num\":5.0,\"provider_growth_trend\":0.01,\"provider_mean_wage\":204194.0,\"provider_wage_trend\":0.02},\"LCSW\":{\"provider_num\":5.0,\"provider_growth_trend\":0.01,\"provider_mean_wage\":62000.0,\"provider_wage_trend\":0.02},\"CMHC\":{\"provider_num\":5.0,\"provider_growth_trend\":0.01,\"provider_mean_wage\":52500.0,\"provider_wage_trend\":0.02},\"MFT\":{\"provider_num\":5.0,\"provider_growth_trend\":0.01,\"provider_mean_wage\":55590.0,\"provider_wage_trend\":0.02}}},\"Millard County\":{\"sdoh_index\":3.0,\"supply\":{\"Phys\":{\"provider_num\":5.0,\"provider_growth_trend\":0.01,\"provider_mean_wage\":177958.0,\"provider_wage_trend\":0.02},\"PA\":{\"provider_num\":5.0,\"provider_growth_trend\":0.01,\"provider_mean_wage\":105690.0,\"provider_wage_trend\":0.02},\"NP\":{\"provider_num\":5.0,\"provider_growth_trend\":0.01,\"provider_mean_wage\":95994.0,\"provider_wage_trend\":0.02},\"RN\":{\"provider_num\":7.0,\"provider_growth_trend\":0.01,\"provider_mean_wage\":57595.0,\"provider_wage_trend\":0.02},\"PharmD\":{\"provider_num\":5.0,\"provider_growth_trend\":0.01,\"provider_mean_wage\":125000.0,\"provider_wage_trend\":0.02},\"MA\":{\"provider_num\":10.0,\"provider_growth_trend\":0.01,\"provider_mean_wage\":32500.0,\"provider_wage_trend\":0.02},\"Educ\":{\"provider_num\":5.0,\"provider_growth_trend\":0.01,\"provider_mean_wage\":55652.0,\"provider_wage_trend\":0.02},\"Psych\":{\"provider_num\":5.0,\"provider_growth_trend\":0.01,\"provider_mean_wage\":204194.0,\"provider_wage_trend\":0.02},\"LCSW\":{\"provider_num\":5.0,\"provider_growth_trend\":0.01,\"provider_mean_wage\":62000.0,\"provider_wage_trend\":0.02},\"CMHC\":{\"provider_num\":5.0,\"provider_growth_trend\":0.01,\"provider_mean_wage\":52500.0,\"provider_wage_trend\":0.02},\"MFT\":{\"provider_num\":5.0,\"provider_growth_trend\":0.01,\"provider_mean_wage\":55590.0,\"provider_wage_trend\":0.02}}},\"Morgan County\":{\"sdoh_index\":3.0,\"supply\":{\"Phys\":{\"provider_num\":5.0,\"provider_growth_trend\":0.01,\"provider_mean_wage\":177958.0,\"provider_wage_trend\":0.02},\"PA\":{\"provider_num\":5.0,\"provider_growth_trend\":0.01,\"provider_mean_wage\":105690.0,\"provider_wage_trend\":0.02},\"NP\":{\"provider_num\":5.0,\"provider_growth_trend\":0.01,\"provider_mean_wage\":95994.0,\"provider_wage_trend\":0.02},\"RN\":{\"provider_num\":5.0,\"provider_growth_trend\":0.01,\"provider_mean_wage\":57595.0,\"provider_wage_trend\":0.02},\"PharmD\":{\"provider_num\":5.0,\"provider_growth_trend\":0.01,\"provider_mean_wage\":125000.0,\"provider_wage_trend\":0.02},\"MA\":{\"provider_num\":5.0,\"provider_growth_trend\":0.01,\"provider_mean_wage\":32500.0,\"provider_wage_trend\":0.02},\"Educ\":{\"provider_num\":5.0,\"provider_growth_trend\":0.01,\"provider_mean_wage\":55652.0,\"provider_wage_trend\":0.02},\"Psych\":{\"provider_num\":5.0,\"provider_growth_trend\":0.01,\"provider_mean_wage\":204194.0,\"provider_wage_trend\":0.02},\"LCSW\":{\"provider_num\":5.0,\"provider_growth_trend\":0.01,\"provider_mean_wage\":62000.0,\"provider_wage_trend\":0.02},\"CMHC\":{\"provider_num\":5.0,\"provider_growth_trend\":0.01,\"provider_mean_wage\":52500.0,\"provider_wage_trend\":0.02},\"MFT\":{\"provider_num\":5.0,\"provider_growth_trend\":0.01,\"provider_mean_wage\":55590.0,\"provider_wage_trend\":0.02}}},\"Piute County\":{\"sdoh_index\":3.0,\"supply\":{\"Phys\":{\"provider_num\":5.0,\"provider_growth_trend\":0.01,\"provider_mean_wage\":177958.0,\"provider_wage_trend\":0.02},\"PA\":{\"provider_num\":5.0,\"provider_growth_trend\":0.01,\"provider_mean_wage\":105690.0,\"provider_wage_trend\":0.02},\"NP\":{\"provider_num\":5.0,\"provider_growth_trend\":0.01,\"provider_mean_wage\":95994.0,\"provider_wage_trend\":0.02},\"RN\":{\"provider_num\":5.0,\"provider_growth_trend\":0.01,\"provider_mean_wage\":57595.0,\"provider_wage_trend\":0.02},\"PharmD\":{\"provider_num\":5.0,\"provider_growth_trend\":0.01,\"provider_mean_wage\":125000.0,\"provider_wage_trend\":0.02},\"MA\":{\"provider_num\":5.0,\"provider_growth_trend\":0.01,\"provider_mean_wage\":32500.0,\"provider_wage_trend\":0.02},\"Educ\":{\"provider_num\":5.0,\"provider_growth_trend\":0.01,\"provider_mean_wage\":55652.0,\"provider_wage_trend\":0.02},\"Psych\":{\"provider_num\":5.0,\"provider_growth_trend\":0.01,\"provider_mean_wage\":204194.0,\"provider_wage_trend\":0.02},\"LCSW\":{\"provider_num\":5.0,\"provider_growth_trend\":0.01,\"provider_mean_wage\":62000.0,\"provider_wage_trend\":0.02},\"CMHC\":{\"provider_num\":5.0,\"provider_growth_trend\":0.01,\"provider_mean_wage\":52500.0,\"provider_wage_trend\":0.02},\"MFT\":{\"provider_num\":5.0,\"provider_growth_trend\":0.01,\"provider_mean_wage\":55590.0,\"provider_wage_trend\":0.02}}},\"Rich County\":{\"sdoh_index\":3.0,\"supply\":{\"Phys\":{\"provider_num\":5.0,\"provider_growth_trend\":0.01,\"provider_mean_wage\":177958.0,\"provider_wage_trend\":0.02},\"PA\":{\"provider_num\":5.0,\"provider_growth_trend\":0.01,\"provider_mean_wage\":105690.0,\"provider_wage_trend\":0.02},\"NP\":{\"provider_num\":5.0,\"provider_growth_trend\":0.01,\"provider_mean_wage\":95994.0,\"provider_wage_trend\":0.02},\"RN\":{\"provider_num\":5.0,\"provider_growth_trend\":0.01,\"provider_mean_wage\":57595.0,\"provider_wage_trend\":0.02},\"PharmD\":{\"provider_num\":5.0,\"provider_growth_trend\":0.01,\"provider_mean_wage\":125000.0,\"provider_wage_trend\":0.02},\"MA\":{\"provider_num\":5.0,\"provider_growth_trend\":0.01,\"provider_mean_wage\":32500.0,\"provider_wage_trend\":0.02},\"Educ\":{\"provider_num\":5.0,\"provider_growth_trend\":0.01,\"provider_mean_wage\":55652.0,\"provider_wage_trend\":0.02},\"Psych\":{\"provider_num\":5.0,\"provider_growth_trend\":0.01,\"provider_mean_wage\":204194.0,\"provider_wage_trend\":0.02},\"LCSW\":{\"provider_num\":5.0,\"provider_growth_trend\":0.01,\"provider_mean_wage\":62000.0,\"provider_wage_trend\":0.02},\"CMHC\":{\"provider_num\":5.0,\"provider_growth_trend\":0.01,\"provider_mean_wage\":52500.0,\"provider_wage_trend\":0.02},\"MFT\":{\"provider_num\":5.0,\"provider_growth_trend\":0.01,\"provider_mean_wage\":55590.0,\"provider_wage_trend\":0.02}}},\"Salt Lake County\":{\"sdoh_index\":3.0,\"supply\":{\"Phys\":{\"provider_num\":165.0,\"provider_growth_trend\":0.01,\"provider_mean_wage\":177958.0,\"provider_wage_trend\":0.02},\"PA\":{\"provider_num\":72.0,\"provider_growth_trend\":0.01,\"provider_mean_wage\":105690.0,\"provider_wage_trend\":0.02},\"NP\":{\"provider_num\":305.0,\"provider_growth_trend\":0.01,\"provider_mean_wage\":95994.0,\"provider_wage_trend\":0.02},\"RN\":{\"provider_num\":977.0,\"provider_growth_trend\":0.01,\"provider_mean_wage\":57595.0,\"provider_wage_trend\":0.02},\"PharmD\":{\"provider_num\":538.0,\"provider_growth_trend\":0.01,\"provider_mean_wage\":125000.0,\"provider_wage_trend\":0.02},\"MA\":{\"provider_num\":330.0,\"provider_growth_trend\":0.01,\"provider_mean_wage\":32500.0,\"provider_wage_trend\":0.02},\"Educ\":{\"provider_num\":561.0,\"provider_growth_trend\":0.01,\"provider_mean_wage\":55652.0,\"provider_wage_trend\":0.02},\"Psych\":{\"provider_num\":12.0,\"provider_growth_trend\":0.01,\"provider_mean_wage\":204194.0,\"provider_wage_trend\":0.02},\"LCSW\":{\"provider_num\":561.0,\"provider_growth_trend\":0.01,\"provider_mean_wage\":62000.0,\"provider_wage_trend\":0.02},\"CMHC\":{\"provider_num\":151.0,\"provider_growth_trend\":0.01,\"provider_mean_wage\":52500.0,\"provider_wage_trend\":0.02},\"MFT\":{\"provider_num\":51.0,\"provider_growth_trend\":0.01,\"provider_mean_wage\":55590.0,\"provider_wage_trend\":0.02}}},\"San Juan County\":{\"sdoh_index\":3.0,\"supply\":{\"Phys\":{\"provider_num\":7.0,\"provider_growth_trend\":0.01,\"provider_mean_wage\":177958.0,\"provider_wage_trend\":0.02},\"PA\":{\"provider_num\":7.0,\"provider_growth_trend\":0.01,\"provider_mean_wage\":105690.0,\"provider_wage_trend\":0.02},\"NP\":{\"provider_num\":5.0,\"provider_growth_trend\":0.01,\"provider_mean_wage\":95994.0,\"provider_wage_trend\":0.02},\"RN\":{\"provider_num\":10.0,\"provider_growth_trend\":0.01,\"provider_mean_wage\":57595.0,\"provider_wage_trend\":0.02},\"PharmD\":{\"provider_num\":6.0,\"provider_growth_trend\":0.01,\"provider_mean_wage\":125000.0,\"provider_wage_trend\":0.02},\"MA\":{\"provider_num\":14.0,\"provider_growth_trend\":0.01,\"provider_mean_wage\":32500.0,\"provider_wage_trend\":0.02},\"Educ\":{\"provider_num\":5.0,\"provider_growth_trend\":0.01,\"provider_mean_wage\":55652.0,\"provider_wage_trend\":0.02},\"Psych\":{\"provider_num\":175.0,\"provider_growth_trend\":0.01,\"provider_mean_wage\":204194.0,\"provider_wage_trend\":0.02},\"LCSW\":{\"provider_num\":5.0,\"provider_growth_trend\":0.01,\"provider_mean_wage\":62000.0,\"provider_wage_trend\":0.02},\"CMHC\":{\"provider_num\":5.0,\"provider_growth_trend\":0.01,\"provider_mean_wage\":52500.0,\"provider_wage_trend\":0.02},\"MFT\":{\"provider_num\":5.0,\"provider_growth_trend\":0.01,\"provider_mean_wage\":55590.0,\"provider_wage_trend\":0.02}}},\"Sanpete County\":{\"sdoh_index\":3.0,\"supply\":{\"Phys\":{\"provider_num\":8.0,\"provider_growth_trend\":0.01,\"provider_mean_wage\":177958.0,\"provider_wage_trend\":0.02},\"PA\":{\"provider_num\":5.0,\"provider_growth_trend\":0.01,\"provider_mean_wage\":105690.0,\"provider_wage_trend\":0.02},\"NP\":{\"provider_num\":5.0,\"provider_growth_trend\":0.01,\"provider_mean_wage\":95994.0,\"provider_wage_trend\":0.02},\"RN\":{\"provider_num\":8.0,\"provider_growth_trend\":0.01,\"provider_mean_wage\":57595.0,\"provider_wage_trend\":0.02},\"PharmD\":{\"provider_num\":13.0,\"provider_growth_trend\":0.01,\"provider_mean_wage\":125000.0,\"provider_wage_trend\":0.02},\"MA\":{\"provider_num\":16.0,\"provider_growth_trend\":0.01,\"provider_mean_wage\":32500.0,\"provider_wage_trend\":0.02},\"Educ\":{\"provider_num\":7.0,\"provider_growth_trend\":0.01,\"provider_mean_wage\":55652.0,\"provider_wage_trend\":0.02},\"Psych\":{\"provider_num\":5.0,\"provider_growth_trend\":0.01,\"provider_mean_wage\":204194.0,\"provider_wage_trend\":0.02},\"LCSW\":{\"provider_num\":7.0,\"provider_growth_trend\":0.01,\"provider_mean_wage\":62000.0,\"provider_wage_trend\":0.02},\"CMHC\":{\"provider_num\":7.0,\"provider_growth_trend\":0.01,\"provider_mean_wage\":52500.0,\"provider_wage_trend\":0.02},\"MFT\":{\"provider_num\":5.0,\"provider_growth_trend\":0.01,\"provider_mean_wage\":55590.0,\"provider_wage_trend\":0.02}}},\"Sevier County\":{\"sdoh_index\":3.0,\"supply\":{\"Phys\":{\"provider_num\":5.0,\"provider_growth_trend\":0.01,\"provider_mean_wage\":177958.0,\"provider_wage_trend\":0.02},\"PA\":{\"provider_num\":5.0,\"provider_growth_trend\":0.01,\"provider_mean_wage\":105690.0,\"provider_wage_trend\":0.02},\"NP\":{\"provider_num\":5.0,\"provider_growth_trend\":0.01,\"provider_mean_wage\":95994.0,\"provider_wage_trend\":0.02},\"RN\":{\"provider_num\":14.0,\"provider_growth_trend\":0.01,\"provider_mean_wage\":57595.0,\"provider_wage_trend\":0.02},\"PharmD\":{\"provider_num\":7.0,\"provider_growth_trend\":0.01,\"provider_mean_wage\":125000.0,\"provider_wage_trend\":0.02},\"MA\":{\"provider_num\":6.0,\"provider_growth_trend\":0.01,\"provider_mean_wage\":32500.0,\"provider_wage_trend\":0.02},\"Educ\":{\"provider_num\":7.0,\"provider_growth_trend\":0.01,\"provider_mean_wage\":55652.0,\"provider_wage_trend\":0.02},\"Psych\":{\"provider_num\":5.0,\"provider_growth_trend\":0.01,\"provider_mean_wage\":204194.0,\"provider_wage_trend\":0.02},\"LCSW\":{\"provider_num\":7.0,\"provider_growth_trend\":0.01,\"provider_mean_wage\":62000.0,\"provider_wage_trend\":0.02},\"CMHC\":{\"provider_num\":5.0,\"provider_growth_trend\":0.01,\"provider_mean_wage\":52500.0,\"provider_wage_trend\":0.02},\"MFT\":{\"provider_num\":5.0,\"provider_growth_trend\":0.01,\"provider_mean_wage\":55590.0,\"provider_wage_trend\":0.02}}},\"Summit County\":{\"sdoh_index\":3.0,\"supply\":{\"Phys\":{\"provider_num\":10.0,\"provider_growth_trend\":0.01,\"provider_mean_wage\":177958.0,\"provider_wage_trend\":0.02},\"PA\":{\"provider_num\":6.0,\"provider_growth_trend\":0.01,\"provider_mean_wage\":105690.0,\"provider_wage_trend\":0.02},\"NP\":{\"provider_num\":7.0,\"provider_growth_trend\":0.01,\"provider_mean_wage\":95994.0,\"provider_wage_trend\":0.02},\"RN\":{\"provider_num\":25.0,\"provider_growth_trend\":0.01,\"provider_mean_wage\":57595.0,\"provider_wage_trend\":0.02},\"PharmD\":{\"provider_num\":13.0,\"provider_growth_trend\":0.01,\"provider_mean_wage\":125000.0,\"provider_wage_trend\":0.02},\"MA\":{\"provider_num\":20.0,\"provider_growth_trend\":0.01,\"provider_mean_wage\":32500.0,\"provider_wage_trend\":0.02},\"Educ\":{\"provider_num\":9.0,\"provider_growth_trend\":0.01,\"provider_mean_wage\":55652.0,\"provider_wage_trend\":0.02},\"Psych\":{\"provider_num\":6.0,\"provider_growth_trend\":0.01,\"provider_mean_wage\":204194.0,\"provider_wage_trend\":0.02},\"LCSW\":{\"provider_num\":9.0,\"provider_growth_trend\":0.01,\"provider_mean_wage\":62000.0,\"provider_wage_trend\":0.02},\"CMHC\":{\"provider_num\":9.0,\"provider_growth_trend\":0.01,\"provider_mean_wage\":52500.0,\"provider_wage_trend\":0.02},\"MFT\":{\"provider_num\":8.0,\"provider_growth_trend\":0.01,\"provider_mean_wage\":55590.0,\"provider_wage_trend\":0.02}}},\"Tooele County\":{\"sdoh_index\":3.0,\"supply\":{\"Phys\":{\"provider_num\":5.0,\"provider_growth_trend\":0.01,\"provider_mean_wage\":177958.0,\"provider_wage_trend\":0.02},\"PA\":{\"provider_num\":5.0,\"provider_growth_trend\":0.01,\"provider_mean_wage\":105690.0,\"provider_wage_trend\":0.02},\"NP\":{\"provider_num\":5.0,\"provider_growth_trend\":0.01,\"provider_mean_wage\":95994.0,\"provider_wage_trend\":0.02},\"RN\":{\"provider_num\":15.0,\"provider_growth_trend\":0.01,\"provider_mean_wage\":57595.0,\"provider_wage_trend\":0.02},\"PharmD\":{\"provider_num\":13.0,\"provider_growth_trend\":0.01,\"provider_mean_wage\":125000.0,\"provider_wage_trend\":0.02},\"MA\":{\"provider_num\":8.0,\"provider_growth_trend\":0.01,\"provider_mean_wage\":32500.0,\"provider_wage_trend\":0.02},\"Educ\":{\"provider_num\":9.0,\"provider_growth_trend\":0.01,\"provider_mean_wage\":55652.0,\"provider_wage_trend\":0.02},\"Psych\":{\"provider_num\":5.0,\"provider_growth_trend\":0.01,\"provider_mean_wage\":204194.0,\"provider_wage_trend\":0.02},\"LCSW\":{\"provider_num\":9.0,\"provider_growth_trend\":0.01,\"provider_mean_wage\":62000.0,\"provider_wage_trend\":0.02},\"CMHC\":{\"provider_num\":6.0,\"provider_growth_trend\":0.01,\"provider_mean_wage\":52500.0,\"provider_wage_trend\":0.02},\"MFT\":{\"provider_num\":5.0,\"provider_growth_trend\":0.01,\"provider_mean_wage\":55590.0,\"provider_wage_trend\":0.02}}},\"Uintah County\":{\"sdoh_index\":3.0,\"supply\":{\"Phys\":{\"provider_num\":7.0,\"provider_growth_trend\":0.01,\"provider_mean_wage\":177958.0,\"provider_wage_trend\":0.02},\"PA\":{\"provider_num\":5.0,\"provider_growth_trend\":0.01,\"provider_mean_wage\":105690.0,\"provider_wage_trend\":0.02},\"NP\":{\"provider_num\":5.0,\"provider_growth_trend\":0.01,\"provider_mean_wage\":95994.0,\"provider_wage_trend\":0.02},\"RN\":{\"provider_num\":15.0,\"provider_growth_trend\":0.01,\"provider_mean_wage\":57595.0,\"provider_wage_trend\":0.02},\"PharmD\":{\"provider_num\":7.0,\"provider_growth_trend\":0.01,\"provider_mean_wage\":125000.0,\"provider_wage_trend\":0.02},\"MA\":{\"provider_num\":14.0,\"provider_growth_trend\":0.01,\"provider_mean_wage\":32500.0,\"provider_wage_trend\":0.02},\"Educ\":{\"provider_num\":9.0,\"provider_growth_trend\":0.01,\"provider_mean_wage\":55652.0,\"provider_wage_trend\":0.02},\"Psych\":{\"provider_num\":5.0,\"provider_growth_trend\":0.01,\"provider_mean_wage\":204194.0,\"provider_wage_trend\":0.02},\"LCSW\":{\"provider_num\":9.0,\"provider_growth_trend\":0.01,\"provider_mean_wage\":62000.0,\"provider_wage_trend\":0.02},\"CMHC\":{\"provider_num\":5.0,\"provider_growth_trend\":0.01,\"provider_mean_wage\":52500.0,\"provider_wage_trend\":0.02},\"MFT\":{\"provider_num\":5.0,\"provider_growth_trend\":0.01,\"provider_mean_wage\":55590.0,\"provider_wage_trend\":0.02}}},\"Utah County\":{\"sdoh_index\":3.0,\"supply\":{\"Phys\":{\"provider_num\":80.0,\"provider_growth_trend\":0.01,\"provider_mean_wage\":177958.0,\"provider_wage_trend\":0.02},\"PA\":{\"provider_num\":32.0,\"provider_growth_trend\":0.01,\"provider_mean_wage\":105690.0,\"provider_wage_trend\":0.02},\"NP\":{\"provider_num\":68.0,\"provider_growth_trend\":0.01,\"provider_mean_wage\":95994.0,\"provider_wage_trend\":0.02},\"RN\":{\"provider_num\":352.0,\"provider_growth_trend\":0.01,\"provider_mean_wage\":57595.0,\"provider_wage_trend\":0.02},\"PharmD\":{\"provider_num\":120.0,\"provider_growth_trend\":0.01,\"provider_mean_wage\":125000.0,\"provider_wage_trend\":0.02},\"MA\":{\"provider_num\":160.0,\"provider_growth_trend\":0.01,\"provider_mean_wage\":32500.0,\"provider_wage_trend\":0.02},\"Educ\":{\"provider_num\":158.0,\"provider_growth_trend\":0.01,\"provider_mean_wage\":55652.0,\"provider_wage_trend\":0.02},\"Psych\":{\"provider_num\":76.0,\"provider_growth_trend\":0.01,\"provider_mean_wage\":204194.0,\"provider_wage_trend\":0.02},\"LCSW\":{\"provider_num\":158.0,\"provider_growth_trend\":0.01,\"provider_mean_wage\":62000.0,\"provider_wage_trend\":0.02},\"CMHC\":{\"provider_num\":46.0,\"provider_growth_trend\":0.01,\"provider_mean_wage\":52500.0,\"provider_wage_trend\":0.02},\"MFT\":{\"provider_num\":45.0,\"provider_growth_trend\":0.01,\"provider_mean_wage\":55590.0,\"provider_wage_trend\":0.02}}},\"Wasatch County\":{\"sdoh_index\":3.0,\"supply\":{\"Phys\":{\"provider_num\":6.0,\"provider_growth_trend\":0.01,\"provider_mean_wage\":177958.0,\"provider_wage_trend\":0.02},\"PA\":{\"provider_num\":5.0,\"provider_growth_trend\":0.01,\"provider_mean_wage\":105690.0,\"provider_wage_trend\":0.02},\"NP\":{\"provider_num\":5.0,\"provider_growth_trend\":0.01,\"provider_mean_wage\":95994.0,\"provider_wage_trend\":0.02},\"RN\":{\"provider_num\":12.0,\"provider_growth_trend\":0.01,\"provider_mean_wage\":57595.0,\"provider_wage_trend\":0.02},\"PharmD\":{\"provider_num\":10.0,\"provider_growth_trend\":0.01,\"provider_mean_wage\":125000.0,\"provider_wage_trend\":0.02},\"MA\":{\"provider_num\":12.0,\"provider_growth_trend\":0.01,\"provider_mean_wage\":32500.0,\"provider_wage_trend\":0.02},\"Educ\":{\"provider_num\":5.0,\"provider_growth_trend\":0.01,\"provider_mean_wage\":55652.0,\"provider_wage_trend\":0.02},\"Psych\":{\"provider_num\":5.0,\"provider_growth_trend\":0.01,\"provider_mean_wage\":204194.0,\"provider_wage_trend\":0.02},\"LCSW\":{\"provider_num\":5.0,\"provider_growth_trend\":0.01,\"provider_mean_wage\":62000.0,\"provider_wage_trend\":0.02},\"CMHC\":{\"provider_num\":5.0,\"provider_growth_trend\":0.01,\"provider_mean_wage\":52500.0,\"provider_wage_trend\":0.02},\"MFT\":{\"provider_num\":5.0,\"provider_growth_trend\":0.01,\"provider_mean_wage\":55590.0,\"provider_wage_trend\":0.02}}},\"Washington County\":{\"sdoh_index\":3.0,\"supply\":{\"Phys\":{\"provider_num\":18.0,\"provider_growth_trend\":0.01,\"provider_mean_wage\":177958.0,\"provider_wage_trend\":0.02},\"PA\":{\"provider_num\":8.0,\"provider_growth_trend\":0.01,\"provider_mean_wage\":105690.0,\"provider_wage_trend\":0.02},\"NP\":{\"provider_num\":27.0,\"provider_growth_trend\":0.01,\"provider_mean_wage\":95994.0,\"provider_wage_trend\":0.02},\"RN\":{\"provider_num\":103.0,\"provider_growth_trend\":0.01,\"provider_mean_wage\":57595.0,\"provider_wage_trend\":0.02},\"PharmD\":{\"provider_num\":58.0,\"provider_growth_trend\":0.01,\"provider_mean_wage\":125000.0,\"provider_wage_trend\":0.02},\"MA\":{\"provider_num\":36.0,\"provider_growth_trend\":0.01,\"provider_mean_wage\":32500.0,\"provider_wage_trend\":0.02},\"Educ\":{\"provider_num\":52.0,\"provider_growth_trend\":0.01,\"provider_mean_wage\":55652.0,\"provider_wage_trend\":0.02},\"Psych\":{\"provider_num\":11.0,\"provider_growth_trend\":0.01,\"provider_mean_wage\":204194.0,\"provider_wage_trend\":0.02},\"LCSW\":{\"provider_num\":52.0,\"provider_growth_trend\":0.01,\"provider_mean_wage\":62000.0,\"provider_wage_trend\":0.02},\"CMHC\":{\"provider_num\":22.0,\"provider_growth_trend\":0.01,\"provider_mean_wage\":52500.0,\"provider_wage_trend\":0.02},\"MFT\":{\"provider_num\":16.0,\"provider_growth_trend\":0.01,\"provider_mean_wage\":55590.0,\"provider_wage_trend\":0.02}}},\"Wayne County\":{\"sdoh_index\":3.0,\"supply\":{\"Phys\":{\"provider_num\":5.0,\"provider_growth_trend\":0.01,\"provider_mean_wage\":177958.0,\"provider_wage_trend\":0.02},\"PA\":{\"provider_num\":5.0,\"provider_growth_trend\":0.01,\"provider_mean_wage\":105690.0,\"provider_wage_trend\":0.02},\"NP\":{\"provider_num\":5.0,\"provider_growth_trend\":0.01,\"provider_mean_wage\":95994.0,\"provider_wage_trend\":0.02},\"RN\":{\"provider_num\":5.0,\"provider_growth_trend\":0.01,\"provider_mean_wage\":57595.0,\"provider_wage_trend\":0.02},\"PharmD\":{\"provider_num\":5.0,\"provider_growth_trend\":0.01,\"provider_mean_wage\":125000.0,\"provider_wage_trend\":0.02},\"MA\":{\"provider_num\":5.0,\"provider_growth_trend\":0.01,\"provider_mean_wage\":32500.0,\"provider_wage_trend\":0.02},\"Educ\":{\"provider_num\":5.0,\"provider_growth_trend\":0.01,\"provider_mean_wage\":55652.0,\"provider_wage_trend\":0.02},\"Psych\":{\"provider_num\":5.0,\"provider_growth_trend\":0.01,\"provider_mean_wage\":204194.0,\"provider_wage_trend\":0.02},\"LCSW\":{\"provider_num\":5.0,\"provider_growth_trend\":0.01,\"provider_mean_wage\":62000.0,\"provider_wage_trend\":0.02},\"CMHC\":{\"provider_num\":5.0,\"provider_growth_trend\":0.01,\"provider_mean_wage\":52500.0,\"provider_wage_trend\":0.02},\"MFT\":{\"provider_num\":5.0,\"provider_growth_trend\":0.01,\"provider_mean_wage\":55590.0,\"provider_wage_trend\":0.02}}},\"Weber County\":{\"sdoh_index\":3.0,\"supply\":{\"Phys\":{\"provider_num\":41.0,\"provider_growth_trend\":0.01,\"provider_mean_wage\":177958.0,\"provider_wage_trend\":0.02},\"PA\":{\"provider_num\":19.0,\"provider_growth_trend\":0.01,\"provider_mean_wage\":105690.0,\"provider_wage_trend\":0.02},\"NP\":{\"provider_num\":47.0,\"provider_growth_trend\":0.01,\"provider_mean_wage\":95994.0,\"provider_wage_trend\":0.02},\"RN\":{\"provider_num\":230.0,\"provider_growth_trend\":0.01,\"provider_mean_wage\":57595.0,\"provider_wage_trend\":0.02},\"PharmD\":{\"provider_num\":83.0,\"provider_growth_trend\":0.01,\"provider_mean_wage\":125000.0,\"provider_wage_trend\":0.02},\"MA\":{\"provider_num\":82.0,\"provider_growth_trend\":0.01,\"provider_mean_wage\":32500.0,\"provider_wage_trend\":0.02},\"Educ\":{\"provider_num\":79.0,\"provider_growth_trend\":0.01,\"provider_mean_wage\":55652.0,\"provider_wage_trend\":0.02},\"Psych\":{\"provider_num\":18.0,\"provider_growth_trend\":0.01,\"provider_mean_wage\":204194.0,\"provider_wage_trend\":0.02},\"LCSW\":{\"provider_num\":79.0,\"provider_growth_trend\":0.01,\"provider_mean_wage\":62000.0,\"provider_wage_trend\":0.02},\"CMHC\":{\"provider_num\":16.0,\"provider_growth_trend\":0.01,\"provider_mean_wage\":52500.0,\"provider_wage_trend\":0.02},\"MFT\":{\"provider_num\":15.0,\"provider_growth_trend\":0.01,\"provider_mean_wage\":55590.0,\"provider_wage_trend\":0.02}}},\"Bear River MCD\":{\"sdoh_index\":3.0,\"supply\":{\"Phys\":{\"provider_num\":31.0,\"provider_growth_trend\":0.01,\"provider_mean_wage\":177958.0,\"provider_wage_trend\":0.02},\"PA\":{\"provider_num\":15.0,\"provider_growth_trend\":0.01,\"provider_mean_wage\":105690.0,\"provider_wage_trend\":0.02},\"NP\":{\"provider_num\":28.0,\"provider_growth_trend\":0.01,\"provider_mean_wage\":95994.0,\"provider_wage_trend\":0.02},\"RN\":{\"provider_num\":107.0,\"provider_growth_trend\":0.01,\"provider_mean_wage\":57595.0,\"provider_wage_trend\":0.02},\"PharmD\":{\"provider_num\":57.0,\"provider_growth_trend\":0.01,\"provider_mean_wage\":125000.0,\"provider_wage_trend\":0.02},\"MA\":{\"provider_num\":57.0,\"provider_growth_trend\":0.01,\"provider_mean_wage\":32500.0,\"provider_wage_trend\":0.02},\"Educ\":{\"provider_num\":32.0,\"provider_growth_trend\":0.01,\"provider_mean_wage\":55652.0,\"provider_wage_trend\":0.02},\"Psych\":{\"provider_num\":32.0,\"provider_growth_trend\":0.01,\"provider_mean_wage\":204194.0,\"provider_wage_trend\":0.02},\"LCSW\":{\"provider_num\":32.0,\"provider_growth_trend\":0.01,\"provider_mean_wage\":62000.0,\"provider_wage_trend\":0.02},\"CMHC\":{\"provider_num\":15.0,\"provider_growth_trend\":0.01,\"provider_mean_wage\":52500.0,\"provider_wage_trend\":0.02},\"MFT\":{\"provider_num\":24.0,\"provider_growth_trend\":0.01,\"provider_mean_wage\":55590.0,\"provider_wage_trend\":0.02}}},\"Central MCD\":{\"sdoh_index\":3.0,\"supply\":{\"Phys\":{\"provider_num\":33.0,\"provider_growth_trend\":0.01,\"provider_mean_wage\":177958.0,\"provider_wage_trend\":0.02},\"PA\":{\"provider_num\":30.0,\"provider_growth_trend\":0.01,\"provider_mean_wage\":105690.0,\"provider_wage_trend\":0.02},\"NP\":{\"provider_num\":30.0,\"provider_growth_trend\":0.01,\"provider_mean_wage\":95994.0,\"provider_wage_trend\":0.02},\"RN\":{\"provider_num\":44.0,\"provider_growth_trend\":0.01,\"provider_mean_wage\":57595.0,\"provider_wage_trend\":0.02},\"PharmD\":{\"provider_num\":40.0,\"provider_growth_trend\":0.01,\"provider_mean_wage\":125000.0,\"provider_wage_trend\":0.02},\"MA\":{\"provider_num\":48.0,\"provider_growth_trend\":0.01,\"provider_mean_wage\":32500.0,\"provider_wage_trend\":0.02},\"Educ\":{\"provider_num\":34.0,\"provider_growth_trend\":0.01,\"provider_mean_wage\":55652.0,\"provider_wage_trend\":0.02},\"Psych\":{\"provider_num\":30.0,\"provider_growth_trend\":0.01,\"provider_mean_wage\":204194.0,\"provider_wage_trend\":0.02},\"LCSW\":{\"provider_num\":34.0,\"provider_growth_trend\":0.01,\"provider_mean_wage\":62000.0,\"provider_wage_trend\":0.02},\"CMHC\":{\"provider_num\":32.0,\"provider_growth_trend\":0.01,\"provider_mean_wage\":52500.0,\"provider_wage_trend\":0.02},\"MFT\":{\"provider_num\":30.0,\"provider_growth_trend\":0.01,\"provider_mean_wage\":55590.0,\"provider_wage_trend\":0.02}}},\"Mountainland MCD\":{\"sdoh_index\":3.0,\"supply\":{\"Phys\":{\"provider_num\":96.0,\"provider_growth_trend\":0.01,\"provider_mean_wage\":177958.0,\"provider_wage_trend\":0.02},\"PA\":{\"provider_num\":43.0,\"provider_growth_trend\":0.01,\"provider_mean_wage\":105690.0,\"provider_wage_trend\":0.02},\"NP\":{\"provider_num\":80.0,\"provider_growth_trend\":0.01,\"provider_mean_wage\":95994.0,\"provider_wage_trend\":0.02},\"RN\":{\"provider_num\":389.0,\"provider_growth_trend\":0.01,\"provider_mean_wage\":57595.0,\"provider_wage_trend\":0.02},\"PharmD\":{\"provider_num\":143.0,\"provider_growth_trend\":0.01,\"provider_mean_wage\":125000.0,\"provider_wage_trend\":0.02},\"MA\":{\"provider_num\":192.0,\"provider_growth_trend\":0.01,\"provider_mean_wage\":32500.0,\"provider_wage_trend\":0.02},\"Educ\":{\"provider_num\":172.0,\"provider_growth_trend\":0.01,\"provider_mean_wage\":55652.0,\"provider_wage_trend\":0.02},\"Psych\":{\"provider_num\":87.0,\"provider_growth_trend\":0.01,\"provider_mean_wage\":204194.0,\"provider_wage_trend\":0.02},\"LCSW\":{\"provider_num\":172.0,\"provider_growth_trend\":0.01,\"provider_mean_wage\":62000.0,\"provider_wage_trend\":0.02},\"CMHC\":{\"provider_num\":60.0,\"provider_growth_trend\":0.01,\"provider_mean_wage\":52500.0,\"provider_wage_trend\":0.02},\"MFT\":{\"provider_num\":58.0,\"provider_growth_trend\":0.01,\"provider_mean_wage\":55590.0,\"provider_wage_trend\":0.02}}},\"Southeast MCD\":{\"sdoh_index\":3.0,\"supply\":{\"Phys\":{\"provider_num\":23.0,\"provider_growth_trend\":0.01,\"provider_mean_wage\":177958.0,\"provider_wage_trend\":0.02},\"PA\":{\"provider_num\":22.0,\"provider_growth_trend\":0.01,\"provider_mean_wage\":105690.0,\"provider_wage_trend\":0.02},\"NP\":{\"provider_num\":20.0,\"provider_growth_trend\":0.01,\"provider_mean_wage\":95994.0,\"provider_wage_trend\":0.02},\"RN\":{\"provider_num\":47.0,\"provider_growth_trend\":0.01,\"provider_mean_wage\":57595.0,\"provider_wage_trend\":0.02},\"PharmD\":{\"provider_num\":24.0,\"provider_growth_trend\":0.01,\"provider_mean_wage\":125000.0,\"provider_wage_trend\":0.02},\"MA\":{\"provider_num\":37.0,\"provider_growth_trend\":0.01,\"provider_mean_wage\":32500.0,\"provider_wage_trend\":0.02},\"Educ\":{\"provider_num\":22.0,\"provider_growth_trend\":0.01,\"provider_mean_wage\":55652.0,\"provider_wage_trend\":0.02},\"Psych\":{\"provider_num\":190.0,\"provider_growth_trend\":0.01,\"provider_mean_wage\":204194.0,\"provider_wage_trend\":0.02},\"LCSW\":{\"provider_num\":22.0,\"provider_growth_trend\":0.01,\"provider_mean_wage\":62000.0,\"provider_wage_trend\":0.02},\"CMHC\":{\"provider_num\":20.0,\"provider_growth_trend\":0.01,\"provider_mean_wage\":52500.0,\"provider_wage_trend\":0.02},\"MFT\":{\"provider_num\":20.0,\"provider_growth_trend\":0.01,\"provider_mean_wage\":55590.0,\"provider_wage_trend\":0.02}}},\"Southwest MCD\":{\"sdoh_index\":3.0,\"supply\":{\"Phys\":{\"provider_num\":40.0,\"provider_growth_trend\":0.01,\"provider_mean_wage\":177958.0,\"provider_wage_trend\":0.02},\"PA\":{\"provider_num\":29.0,\"provider_growth_trend\":0.01,\"provider_mean_wage\":105690.0,\"provider_wage_trend\":0.02},\"NP\":{\"provider_num\":48.0,\"provider_growth_trend\":0.01,\"provider_mean_wage\":95994.0,\"provider_wage_trend\":0.02},\"RN\":{\"provider_num\":148.0,\"provider_growth_trend\":0.01,\"provider_mean_wage\":57595.0,\"provider_wage_trend\":0.02},\"PharmD\":{\"provider_num\":88.0,\"provider_growth_trend\":0.01,\"provider_mean_wage\":125000.0,\"provider_wage_trend\":0.02},\"MA\":{\"provider_num\":68.0,\"provider_growth_trend\":0.01,\"provider_mean_wage\":32500.0,\"provider_wage_trend\":0.02},\"Educ\":{\"provider_num\":86.0,\"provider_growth_trend\":0.01,\"provider_mean_wage\":55652.0,\"provider_wage_trend\":0.02},\"Psych\":{\"provider_num\":31.0,\"provider_growth_trend\":0.01,\"provider_mean_wage\":204194.0,\"provider_wage_trend\":0.02},\"LCSW\":{\"provider_num\":86.0,\"provider_growth_trend\":0.01,\"provider_mean_wage\":62000.0,\"provider_wage_trend\":0.02},\"CMHC\":{\"provider_num\":48.0,\"provider_growth_trend\":0.01,\"provider_mean_wage\":52500.0,\"provider_wage_trend\":0.02},\"MFT\":{\"provider_num\":36.0,\"provider_growth_trend\":0.01,\"provider_mean_wage\":55590.0,\"provider_wage_trend\":0.02}}},\"Uintah Basin MCD\":{\"sdoh_index\":3.0,\"supply\":{\"Phys\":{\"provider_num\":17.0,\"provider_growth_trend\":0.01,\"provider_mean_wage\":177958.0,\"provider_wage_trend\":0.02},\"PA\":{\"provider_num\":15.0,\"provider_growth_trend\":0.01,\"provider_mean_wage\":105690.0,\"provider_wage_trend\":0.02},\"NP\":{\"provider_num\":15.0,\"provider_growth_trend\":0.01,\"provider_mean_wage\":95994.0,\"provider_wage_trend\":0.02},\"RN\":{\"provider_num\":28.0,\"provider_growth_trend\":0.01,\"provider_mean_wage\":57595.0,\"provider_wage_trend\":0.02},\"PharmD\":{\"provider_num\":22.0,\"provider_growth_trend\":0.01,\"provider_mean_wage\":125000.0,\"provider_wage_trend\":0.02},\"MA\":{\"provider_num\":24.0,\"provider_growth_trend\":0.01,\"provider_mean_wage\":32500.0,\"provider_wage_trend\":0.02},\"Educ\":{\"provider_num\":20.0,\"provider_growth_trend\":0.01,\"provider_mean_wage\":55652.0,\"provider_wage_trend\":0.02},\"Psych\":{\"provider_num\":15.0,\"provider_growth_trend\":0.01,\"provider_mean_wage\":204194.0,\"provider_wage_trend\":0.02},\"LCSW\":{\"provider_num\":20.0,\"provider_growth_trend\":0.01,\"provider_mean_wage\":62000.0,\"provider_wage_trend\":0.02},\"CMHC\":{\"provider_num\":15.0,\"provider_growth_trend\":0.01,\"provider_mean_wage\":52500.0,\"provider_wage_trend\":0.02},\"MFT\":{\"provider_num\":15.0,\"provider_growth_trend\":0.01,\"provider_mean_wage\":55590.0,\"provider_wage_trend\":0.02}}},\"Wasatch MCD\":{\"sdoh_index\":3.0,\"supply\":{\"Phys\":{\"provider_num\":262.0,\"provider_growth_trend\":0.01,\"provider_mean_wage\":177958.0,\"provider_wage_trend\":0.02},\"PA\":{\"provider_num\":120.0,\"provider_growth_trend\":0.01,\"provider_mean_wage\":105690.0,\"provider_wage_trend\":0.02},\"NP\":{\"provider_num\":381.0,\"provider_growth_trend\":0.01,\"provider_mean_wage\":95994.0,\"provider_wage_trend\":0.02},\"RN\":{\"provider_num\":1382.0,\"provider_growth_trend\":0.01,\"provider_mean_wage\":57595.0,\"provider_wage_trend\":0.02},\"PharmD\":{\"provider_num\":728.0,\"provider_growth_trend\":0.01,\"provider_mean_wage\":125000.0,\"provider_wage_trend\":0.02},\"MA\":{\"provider_num\":517.0,\"provider_growth_trend\":0.01,\"provider_mean_wage\":32500.0,\"provider_wage_trend\":0.02},\"Educ\":{\"provider_num\":727.0,\"provider_growth_trend\":0.01,\"provider_mean_wage\":55652.0,\"provider_wage_trend\":0.02},\"Psych\":{\"provider_num\":56.0,\"provider_growth_trend\":0.01,\"provider_mean_wage\":204194.0,\"provider_wage_trend\":0.02},\"LCSW\":{\"provider_num\":727.0,\"provider_growth_trend\":0.01,\"provider_mean_wage\":62000.0,\"provider_wage_trend\":0.02},\"CMHC\":{\"provider_num\":201.0,\"provider_growth_trend\":0.01,\"provider_mean_wage\":52500.0,\"provider_wage_trend\":0.02},\"MFT\":{\"provider_num\":87.0,\"provider_growth_trend\":0.01,\"provider_mean_wage\":55590.0,\"provider_wage_trend\":0.02}}},\"State of Utah\":{\"sdoh_index\":3.0,\"supply\":{\"Phys\":{\"provider_num\":502.0,\"provider_growth_trend\":0.01,\"provider_mean_wage\":177958.0,\"provider_wage_trend\":0.02},\"PA\":{\"provider_num\":274.0,\"provider_growth_trend\":0.01,\"provider_mean_wage\":105690.0,\"provider_wage_trend\":0.02},\"NP\":{\"provider_num\":602.0,\"provider_growth_trend\":0.01,\"provider_mean_wage\":95994.0,\"provider_wage_trend\":0.02},\"RN\":{\"provider_num\":2145.0,\"provider_growth_trend\":0.01,\"provider_mean_wage\":57595.0,\"provider_wage_trend\":0.02},\"PharmD\":{\"provider_num\":1102.0,\"provider_growth_trend\":0.01,\"provider_mean_wage\":125000.0,\"provider_wage_trend\":0.02},\"MA\":{\"provider_num\":943.0,\"provider_growth_trend\":0.01,\"provider_mean_wage\":32500.0,\"provider_wage_trend\":0.02},\"Educ\":{\"provider_num\":1093.0,\"provider_growth_trend\":0.01,\"provider_mean_wage\":55652.0,\"provider_wage_trend\":0.02},\"Psych\":{\"provider_num\":441.0,\"provider_growth_trend\":0.01,\"provider_mean_wage\":204194.0,\"provider_wage_trend\":0.02},\"LCSW\":{\"provider_num\":1093.0,\"provider_growth_trend\":0.01,\"provider_mean_wage\":62000.0,\"provider_wage_trend\":0.02},\"CMHC\":{\"provider_num\":391.0,\"provider_growth_trend\":0.01,\"provider_mean_wage\":52500.0,\"provider_wage_trend\":0.02},\"MFT\":{\"provider_num\":270.0,\"provider_growth_trend\":0.01,\"provider_mean_wage\":55590.0,\"provider_wage_trend\":0.02}}}}}\n"
     ]
    },
    {
     "ename": "SystemExit",
     "evalue": "0",
     "output_type": "error",
     "traceback": [
      "An exception has occurred, use %tb to see the full traceback.\n",
      "\u001b[0;31mSystemExit\u001b[0m\u001b[0;31m:\u001b[0m 0\n"
     ]
    },
    {
     "name": "stderr",
     "output_type": "stream",
     "text": [
      "/Users/hopkira/anaconda3/lib/python3.6/site-packages/IPython/core/interactiveshell.py:2971: UserWarning: To exit: use 'exit', 'quit', or Ctrl-D.\n",
      "  warn(\"To exit: use 'exit', 'quit', or Ctrl-D.\", stacklevel=1)\n"
     ]
    }
   ],
   "source": [
    "# check to see if command is understood\n",
    "if command == \"available_years\":\n",
    "    result = available_years()\n",
    "elif command == \"geo_profile\":\n",
    "    result = geo_profile()\n",
    "elif command == \"provider_profile\":\n",
    "    result = provider_profile()\n",
    "elif command == \"save_model\":\n",
    "    result == pickle(value)\n",
    "else:\n",
    "    respond(None,command,provider_type, \"ERROR: Unknown function call.\")\n",
    "respond(result,command,value)"
   ]
  },
  {
   "cell_type": "code",
   "execution_count": 23,
   "metadata": {},
   "outputs": [],
   "source": [
    "\n"
   ]
  },
  {
   "cell_type": "code",
   "execution_count": null,
   "metadata": {},
   "outputs": [],
   "source": []
  }
 ],
 "metadata": {
  "kernelspec": {
   "display_name": "Python 3",
   "language": "python",
   "name": "python3"
  },
  "language_info": {
   "codemirror_mode": {
    "name": "ipython",
    "version": 3
   },
   "file_extension": ".py",
   "mimetype": "text/x-python",
   "name": "python",
   "nbconvert_exporter": "python",
   "pygments_lexer": "ipython3",
   "version": "3.6.5"
  }
 },
 "nbformat": 4,
 "nbformat_minor": 2
}
