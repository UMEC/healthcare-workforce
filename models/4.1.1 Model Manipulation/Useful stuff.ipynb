{
 "cells": [
  {
   "cell_type": "markdown",
   "metadata": {},
   "source": [
    "# Useful stuff"
   ]
  },
  {
   "cell_type": "code",
   "execution_count": null,
   "metadata": {},
   "outputs": [],
   "source": [
    "def request_to_response(request):\n",
    "    element_names_array = response[request][1]\n",
    "    response_frames_array = response[request][0]\n",
    "    print(element_names_array)\n",
    "    print(response_frames_array)\n",
    "    json = dataframes_to_json(element_names_array,response_frames_array)\n",
    "    return json"
   ]
  },
  {
   "cell_type": "code",
   "execution_count": null,
   "metadata": {},
   "outputs": [],
   "source": [
    "response = {}\n",
    "response[\"provider_all\"] = [[\"provider_list\",\"provider_supply\",\"service_characteristics\"],[\"provider\",\"supply\",\"services\"]]\n",
    "response[\"geo_all\"] = [[\"geo_area_list\",\"population\"],[\"area\",\"population\"]]"
   ]
  },
  {
   "cell_type": "code",
   "execution_count": null,
   "metadata": {},
   "outputs": [],
   "source": [
    "def dataframes_to_json(element_names_array,response_frames_array):\n",
    "    json = \"\"\n",
    "    print (element_names_array)\n",
    "    print (response_frames_array)\n",
    "    msg_elements = len(response_frames_array)\n",
    "    if msg_elements == 1:\n",
    "        json = list_to_json(wfpd.dataframes[msg_element],elements_names_array[0],\"full\")\n",
    "    for msg_element in response_frames_array:\n",
    "        index = (response_frames_array.index(msg_element))\n",
    "        if index == 0:\n",
    "            json = list_to_json(wfpd.dataframes[msg_element],elements_names_array[index],\"start\")\n",
    "        elif index == (msg_elements-1):\n",
    "            json = json + list_to_json(wfpd.dataframes[msg_element],elements_names_array[index],\"end\")\n",
    "        else:\n",
    "            json = json + list_to_json(wfpd.dataframes[msg_element],elements_names_array[index],\"middle\")\n",
    "    return (json)"
   ]
  },
  {
   "cell_type": "code",
   "execution_count": null,
   "metadata": {},
   "outputs": [],
   "source": [
    "def list_to_json(dataframe, name, position):\n",
    "    out = \"\"\n",
    "    if position == \"start\":\n",
    "        out = '{\"' + name + '\":' + df_to_json(dataframe)\n",
    "        print (\"start\")\n",
    "    elif position == \"middle\":\n",
    "        out = ',\"'+name+'\":' + df_to_json(dataframe)\n",
    "        print (\"middle\")\n",
    "    elif position == \"end\":\n",
    "        out = ',\"'+name+'\":' + df_to_json(dataframe) + '}'\n",
    "        print (\"end\")\n",
    "    elif position == 'full':\n",
    "        out = '{\"' + name + '\":' + df_to_json(dataframe) + '}'\n",
    "    else:\n",
    "        out = \"Unknown position\"\n",
    "    return out"
   ]
  },
  {
   "cell_type": "code",
   "execution_count": null,
   "metadata": {},
   "outputs": [],
   "source": [
    "# DEPRACATED - DO NOT USE\n",
    "# DEPRACATED - DO NOT USE\n",
    "primary_key_df_name = 'provider_list'\n",
    "primary_key_column = 'provider_abbr'\n",
    "primary_key_dataframe = wfpd.dataframes[primary_key_df_name]\n",
    "elements = len(primary_key_dataframe)\n",
    "out = \"{\"\n",
    "for index, row in primary_key_dataframe.iterrows():\n",
    "    element = row[primary_key_column]\n",
    "    out = out + '\"' + element + '\":{'\n",
    "    out = out + strip_curlies(strip_brackets(df_to_json(sub_json_object(primary_key_df_name,primary_key_column,element))))\n",
    "    \n",
    "    #out = out + \",\" \n",
    "    \n",
    "    #out = out + '\"services\":'\n",
    "    pa_services = wfpd.dataframes['service_characteristics']\n",
    "    pa_services = pa_services.fillna(\"no\")\n",
    "    pa_services = pa_services.loc[pa_services[role] != \"no\"]\n",
    "    pa_services = pa_services['svc_desc']\n",
    "    out = out + df_to_json(pa_services)\n",
    "    \n",
    "    #out = out + df_to_json(sub_json_object('provider_supply','provider_abbr',element))\n",
    "    \n",
    "    out = out + \",\"   \n",
    "    \n",
    "    out = out + '\"supply\":'\n",
    "    out = out + df_to_json_attribs(sub_json_object('provider_supply','provider_abbr',element),'provider_geo_area') \n",
    "    \n",
    "    if index != elements-1:\n",
    "        out = out + \"},\"\n",
    "    else:\n",
    "        out = out + \"}\"\n",
    "out = out + \"}\"\n",
    "out\n",
    "#text_file = open(\"output.json\", \"w\")\n",
    "#text_file.write(out)\n",
    "#text_file.close()"
   ]
  }
 ],
 "metadata": {
  "kernelspec": {
   "display_name": "Python 3",
   "language": "python",
   "name": "python3"
  },
  "language_info": {
   "codemirror_mode": {
    "name": "ipython",
    "version": 3
   },
   "file_extension": ".py",
   "mimetype": "text/x-python",
   "name": "python",
   "nbconvert_exporter": "python",
   "pygments_lexer": "ipython3",
   "version": "3.6.5"
  }
 },
 "nbformat": 4,
 "nbformat_minor": 2
}
