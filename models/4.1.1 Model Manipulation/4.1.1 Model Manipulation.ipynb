{
 "cells": [
  {
   "cell_type": "markdown",
   "metadata": {},
   "source": [
    "# 4.1.1. Model Manipulation"
   ]
  },
  {
   "cell_type": "code",
   "execution_count": 1,
   "metadata": {},
   "outputs": [],
   "source": [
    "# coding: utf-8\n",
    "#\n",
    "# This is the bare bones of the component 4.1.1 Model Manipulation\n",
    "# It receives a JSON formatted instruction via the command line in\n",
    "# the form:\n",
    "#\n",
    "# python model_manip.py\n",
    "#\n",
    "# Then send a string similar to the following in via std in:\n",
    "# {\"request_type\": \"provider_profile\", \"value\": \"Psych\"}\n",
    "# {\"request_type\": \"provider_list\", \"value\": \"all\"}\n",
    "# {\"request_type\": \"provider_details\", \"value\": \"all\"}\n",
    "#\n",
    "#\n",
    "# It responds via std out with a JSON string that includes the originating call\n",
    "# and an additional response string (which in itself is a JSON string)\n",
    "#\n",
    "# Originally developed in Jupyter Notebook, it is converted to standard Python via :\n",
    "#  jupyter nbconvert --to script 4_1_1_Model_Manipulation.ipynb\n",
    "#\n",
    "\n",
    "import pandas as pd\n",
    "import json\n",
    "import sys\n",
    "import os\n",
    "\n",
    "#directory = os.path.abspath(os.path.dirname(os.path.realpath(__file__)) + \"/../test/data_input_component_CSV/\")\n",
    "directory = \"../test/data_input_component_CSV/\"\n",
    "\n",
    "command=\"null\"\n",
    "provider_type=\"null\""
   ]
  },
  {
   "cell_type": "code",
   "execution_count": 2,
   "metadata": {},
   "outputs": [],
   "source": [
    "def respond(response_msg,verb,object,error_msg=None):\n",
    "    \"\"\"Prints a JSON formatted service response to std out and exits the program\n",
    "\n",
    "        Parameters\n",
    "        ----------\n",
    "        response_msg : str, mandatory\n",
    "            The message included in the response attribute of the JSON out\n",
    "        verb : str, mandatory\n",
    "            The command that was received (if any)\n",
    "        object: str, mandatory\n",
    "            The target for the command that was received (if any)\n",
    "        error_msg : str, optional\n",
    "            An error message string\n",
    "    \"\"\"\n",
    "    if (error_msg != None):\n",
    "        response_msg = '{\"error_msg\":\"' + error_msg + '\"}'\n",
    "    response = '{\"request\":{\"request_type\":\"' + verb + '\", \"value\": \"' + object + '\"},\"response\":' + response_msg + '}'\n",
    "    print (response)\n",
    "    sys.exit(0)"
   ]
  },
  {
   "cell_type": "code",
   "execution_count": 3,
   "metadata": {},
   "outputs": [],
   "source": [
    "def strip_brackets(JSON_string):\n",
    "    \"\"\"Strips the brackets\n",
    "\n",
    "        Parameters\n",
    "        ----------\n",
    "        JSON_string : str, mandatory\n",
    "            The JSON string to strip the leading and trailing end brackets from\n",
    "    \"\"\"\n",
    "    result = JSON_string.strip(\"[]\")\n",
    "    return result"
   ]
  },
  {
   "cell_type": "code",
   "execution_count": 4,
   "metadata": {},
   "outputs": [],
   "source": [
    "class ProviderClass:        \n",
    "    def get_provider_list(self, provider_list):\n",
    "        # retrieve list of providers\n",
    "        provider_list = provider_list.loc[provider_list['provider_abbr'].notnull()]\n",
    "        provider_list = provider_list[['provider_name','provider_abbr']]\n",
    "        out = '{\"provider\":' + strip_brackets(provider_list.to_json(orient='records')) + '}'\n",
    "        return out\n",
    "    def get_provider_profile(self,provider_type,provider_list,provider_supply,acute_service_prov_priority):\n",
    "        # First we create the header for the provider type with their full title and wage\n",
    "        provider_head_profile = provider_list.loc[provider_list['provider_abbr'] == provider_type]\n",
    "        # Then we check to see if the requested provider type is in the current provider list\n",
    "        if len(provider_head_profile.index) != 1:\n",
    "            respond(None,command,provider_type, \"ERROR: Provider type is not known.\")\n",
    "        # Second, we want to create the geographic profile of the provider type\n",
    "        # First we reduce the data frame to the three provider columns\n",
    "        provider_supply = provider_supply[['provider_abbr','provider_county','provider_num']]\n",
    "        # Then we reduce the data frame to just the rows relevant to the requested provider type\n",
    "        provider_supply1 = provider_supply.loc[provider_supply['provider_abbr'] == provider_type]\n",
    "        # Finally we strip out the provider abbrevialtion column as it is now redundant\n",
    "        provider_supply_profile = provider_supply1[['provider_county','provider_num']]\n",
    "        # For the final part of the profile, we change the provider type column in the service\n",
    "        # to provider mapping matrix to the priority column that we will output\n",
    "        acute_service_prov_priority.rename(columns={provider_type: 'priority'}, inplace=True)\n",
    "        # We then order the services from the most suitable for that provider down to the\n",
    "        # ones that they are not allowed to perform\n",
    "        acute_service_prov_priority=acute_service_prov_priority.sort_values(by=['priority','acute_encounter','acute_cateogry','acute_service'])\n",
    "        # We then reduce the output of the dataframe to the needed four columns\n",
    "        profile_services = acute_service_prov_priority[['priority','acute_encounter','acute_cateogry','acute_service']]\n",
    "        profile_services.head(10)\n",
    "        out = '{\"provider\":' + strip_brackets(provider_head_profile.to_json(orient='records')) + ','\n",
    "        out = out + '\"supply\":' + provider_supply_profile.to_json(orient='records') + ','\n",
    "        out = out + '\"services\":' + profile_services.to_json(orient='records') + '}'\n",
    "        return out\n",
    "    def get_all_providers(self,provider_list,provider_supply,acute_service_prov_priority):\n",
    "        provider_list = provider_list.loc[provider_list['provider_abbr'].notnull()]\n",
    "        provider_list = provider_list[['provider_name','provider_abbr']]\n",
    "        provider_supply = provider_supply[['provider_abbr','provider_county','provider_num']]\n",
    "        acute_service_prov_priority=acute_service_prov_priority.dropna(how='all',axis=1)\n",
    "        out = '{\"provider\":' + provider_list.to_json(orient='records') + ','\n",
    "        out = out + '\"supply\":' + provider_supply.to_json(orient='records') + ','\n",
    "        out = out + '\"services\":' + acute_service_prov_priority.to_json(orient='records') + '}'\n",
    "        return out"
   ]
  },
  {
   "cell_type": "code",
   "execution_count": 5,
   "metadata": {},
   "outputs": [],
   "source": [
    "#    def get_all():\n",
    "#        # get all provider data\n",
    "#    def change_state():\n",
    "#        # update provider data#"
   ]
  },
  {
   "cell_type": "code",
   "execution_count": 6,
   "metadata": {},
   "outputs": [],
   "source": [
    "# Next we import the relevant sheets from the Data Input Component (to begin with only three)\n",
    "try:\n",
    "    provider_list = pd.read_csv(directory + \"/provider_list.csv\")\n",
    "    provider_supply = pd.read_csv(directory + \"/provider_supply.csv\")\n",
    "    acute_service_prov_priority = pd.read_csv(directory + \"/acute_service_prov_priority.csv\")\n",
    "    geo_area_list = pd.read_csv(directory + \"/geo_area_list.csv\")\n",
    "    population = pd.read_csv(directory + \"/population.csv\")\n",
    "except Exception as e:\n",
    "    respond(None,command,provider_type, \"ERROR: Could not read input files.\"+str(e))"
   ]
  },
  {
   "cell_type": "code",
   "execution_count": 7,
   "metadata": {},
   "outputs": [
    {
     "name": "stdout",
     "output_type": "stream",
     "text": [
      "{\"request_type\": \"provider_details\", \"value\": \"all\"}\n"
     ]
    }
   ],
   "source": [
    "command_string = input(\"\")"
   ]
  },
  {
   "cell_type": "code",
   "execution_count": 8,
   "metadata": {},
   "outputs": [
    {
     "data": {
      "text/plain": [
       "<__main__.ProviderClass at 0x1100bf828>"
      ]
     },
     "execution_count": 8,
     "metadata": {},
     "output_type": "execute_result"
    }
   ],
   "source": [
    "provider=ProviderClass()\n",
    "provider"
   ]
  },
  {
   "cell_type": "code",
   "execution_count": 9,
   "metadata": {},
   "outputs": [
    {
     "data": {
      "text/plain": [
       "'provider_details'"
      ]
     },
     "execution_count": 9,
     "metadata": {},
     "output_type": "execute_result"
    }
   ],
   "source": [
    "# parse the command line argument into a JSON object\n",
    "try:\n",
    "    parsed_command = json.loads(command_string)\n",
    "    value = str(parsed_command[\"value\"])\n",
    "    command = str(parsed_command[\"request_type\"])\n",
    "except Exception as e:\n",
    "    respond(None,command,provider_type, \"ERROR: Could not parse argument: \"+str(e))\n",
    "command"
   ]
  },
  {
   "cell_type": "code",
   "execution_count": 10,
   "metadata": {},
   "outputs": [
    {
     "name": "stdout",
     "output_type": "stream",
     "text": [
      "{\"request\":{\"request_type\":\"provider_details\", \"value\": \"all\"},\"response\":{\"provider\":[{\"provider_name\":\"Physician\",\"provider_abbr\":\"Phys\"},{\"provider_name\":\"Physicial Assistant\",\"provider_abbr\":\"PA\"},{\"provider_name\":\"Nurse Practitioner\",\"provider_abbr\":\"NP\"},{\"provider_name\":\"Registered Nurse\",\"provider_abbr\":\"RN\"},{\"provider_name\":\"Psychiatrist\",\"provider_abbr\":\"Psych\"},{\"provider_name\":\"Licensed Clinical Social Worker\",\"provider_abbr\":\"LCSW\"},{\"provider_name\":\"Certified Mental Health Counselor\",\"provider_abbr\":\"CMHC\"},{\"provider_name\":\"Marriage and Family Therapists\",\"provider_abbr\":\"MFT\"},{\"provider_name\":\"Doctor of Pharmacy\",\"provider_abbr\":\"PharmD\"},{\"provider_name\":\"Medical Assistant\",\"provider_abbr\":\"MA\"},{\"provider_name\":\"Educator\",\"provider_abbr\":\"Educ\"}],\"supply\":[{\"provider_abbr\":\"Phys\",\"provider_county\":\"Beaver County\",\"provider_num\":5},{\"provider_abbr\":\"Phys\",\"provider_county\":\"Box Elder County\",\"provider_num\":12},{\"provider_abbr\":\"Phys\",\"provider_county\":\"Cache County\",\"provider_num\":14},{\"provider_abbr\":\"Phys\",\"provider_county\":\"Carbon County\",\"provider_num\":5},{\"provider_abbr\":\"Phys\",\"provider_county\":\"Daggett County\",\"provider_num\":5},{\"provider_abbr\":\"Phys\",\"provider_county\":\"Davis County\",\"provider_num\":46},{\"provider_abbr\":\"Phys\",\"provider_county\":\"Duchesne County\",\"provider_num\":5},{\"provider_abbr\":\"Phys\",\"provider_county\":\"Emery County\",\"provider_num\":5},{\"provider_abbr\":\"Phys\",\"provider_county\":\"Garfield County\",\"provider_num\":5},{\"provider_abbr\":\"Phys\",\"provider_county\":\"Grand County\",\"provider_num\":6},{\"provider_abbr\":\"Phys\",\"provider_county\":\"Iron County\",\"provider_num\":7},{\"provider_abbr\":\"Phys\",\"provider_county\":\"Juab County\",\"provider_num\":5},{\"provider_abbr\":\"Phys\",\"provider_county\":\"Kane County\",\"provider_num\":5},{\"provider_abbr\":\"Phys\",\"provider_county\":\"Millard County\",\"provider_num\":5},{\"provider_abbr\":\"Phys\",\"provider_county\":\"Morgan County\",\"provider_num\":5},{\"provider_abbr\":\"Phys\",\"provider_county\":\"Piute County\",\"provider_num\":5},{\"provider_abbr\":\"Phys\",\"provider_county\":\"Rich County\",\"provider_num\":5},{\"provider_abbr\":\"Phys\",\"provider_county\":\"Salt Lake County\",\"provider_num\":165},{\"provider_abbr\":\"Phys\",\"provider_county\":\"San Juan County\",\"provider_num\":7},{\"provider_abbr\":\"Phys\",\"provider_county\":\"Sanpete County\",\"provider_num\":8},{\"provider_abbr\":\"Phys\",\"provider_county\":\"Sevier County\",\"provider_num\":5},{\"provider_abbr\":\"Phys\",\"provider_county\":\"Summit County\",\"provider_num\":10},{\"provider_abbr\":\"Phys\",\"provider_county\":\"Tooele County\",\"provider_num\":5},{\"provider_abbr\":\"Phys\",\"provider_county\":\"Uintah County\",\"provider_num\":7},{\"provider_abbr\":\"Phys\",\"provider_county\":\"Utah County\",\"provider_num\":80},{\"provider_abbr\":\"Phys\",\"provider_county\":\"Wasatch County\",\"provider_num\":6},{\"provider_abbr\":\"Phys\",\"provider_county\":\"Washington County\",\"provider_num\":18},{\"provider_abbr\":\"Phys\",\"provider_county\":\"Wayne County\",\"provider_num\":5},{\"provider_abbr\":\"Phys\",\"provider_county\":\"Weber County\",\"provider_num\":41},{\"provider_abbr\":\"Phys\",\"provider_county\":\"Bear River MCD\",\"provider_num\":31},{\"provider_abbr\":\"Phys\",\"provider_county\":\"Central MCD\",\"provider_num\":33},{\"provider_abbr\":\"Phys\",\"provider_county\":\"Mountainland MCD\",\"provider_num\":96},{\"provider_abbr\":\"Phys\",\"provider_county\":\"Southeast MCD\",\"provider_num\":23},{\"provider_abbr\":\"Phys\",\"provider_county\":\"Southwest MCD\",\"provider_num\":40},{\"provider_abbr\":\"Phys\",\"provider_county\":\"Uintah Basin MCD\",\"provider_num\":17},{\"provider_abbr\":\"Phys\",\"provider_county\":\"Wasatch MCD\",\"provider_num\":262},{\"provider_abbr\":\"Phys\",\"provider_county\":\"State of Utah\",\"provider_num\":502},{\"provider_abbr\":\"PA\",\"provider_county\":\"Beaver County\",\"provider_num\":5},{\"provider_abbr\":\"PA\",\"provider_county\":\"Box Elder County\",\"provider_num\":5},{\"provider_abbr\":\"PA\",\"provider_county\":\"Cache County\",\"provider_num\":5},{\"provider_abbr\":\"PA\",\"provider_county\":\"Carbon County\",\"provider_num\":5},{\"provider_abbr\":\"PA\",\"provider_county\":\"Daggett County\",\"provider_num\":5},{\"provider_abbr\":\"PA\",\"provider_county\":\"Davis County\",\"provider_num\":19},{\"provider_abbr\":\"PA\",\"provider_county\":\"Duchesne County\",\"provider_num\":5},{\"provider_abbr\":\"PA\",\"provider_county\":\"Emery County\",\"provider_num\":5},{\"provider_abbr\":\"PA\",\"provider_county\":\"Garfield County\",\"provider_num\":5},{\"provider_abbr\":\"PA\",\"provider_county\":\"Grand County\",\"provider_num\":5},{\"provider_abbr\":\"PA\",\"provider_county\":\"Iron County\",\"provider_num\":6},{\"provider_abbr\":\"PA\",\"provider_county\":\"Juab County\",\"provider_num\":5},{\"provider_abbr\":\"PA\",\"provider_county\":\"Kane County\",\"provider_num\":5},{\"provider_abbr\":\"PA\",\"provider_county\":\"Millard County\",\"provider_num\":5},{\"provider_abbr\":\"PA\",\"provider_county\":\"Morgan County\",\"provider_num\":5},{\"provider_abbr\":\"PA\",\"provider_county\":\"Piute County\",\"provider_num\":5},{\"provider_abbr\":\"PA\",\"provider_county\":\"Rich County\",\"provider_num\":5},{\"provider_abbr\":\"PA\",\"provider_county\":\"Salt Lake County\",\"provider_num\":72},{\"provider_abbr\":\"PA\",\"provider_county\":\"San Juan County\",\"provider_num\":7},{\"provider_abbr\":\"PA\",\"provider_county\":\"Sanpete County\",\"provider_num\":5},{\"provider_abbr\":\"PA\",\"provider_county\":\"Sevier County\",\"provider_num\":5},{\"provider_abbr\":\"PA\",\"provider_county\":\"Summit County\",\"provider_num\":6},{\"provider_abbr\":\"PA\",\"provider_county\":\"Tooele County\",\"provider_num\":5},{\"provider_abbr\":\"PA\",\"provider_county\":\"Uintah County\",\"provider_num\":5},{\"provider_abbr\":\"PA\",\"provider_county\":\"Utah County\",\"provider_num\":32},{\"provider_abbr\":\"PA\",\"provider_county\":\"Wasatch County\",\"provider_num\":5},{\"provider_abbr\":\"PA\",\"provider_county\":\"Washington County\",\"provider_num\":8},{\"provider_abbr\":\"PA\",\"provider_county\":\"Wayne County\",\"provider_num\":5},{\"provider_abbr\":\"PA\",\"provider_county\":\"Weber County\",\"provider_num\":19},{\"provider_abbr\":\"PA\",\"provider_county\":\"Bear River MCD\",\"provider_num\":15},{\"provider_abbr\":\"PA\",\"provider_county\":\"Central MCD\",\"provider_num\":30},{\"provider_abbr\":\"PA\",\"provider_county\":\"Mountainland MCD\",\"provider_num\":43},{\"provider_abbr\":\"PA\",\"provider_county\":\"Southeast MCD\",\"provider_num\":22},{\"provider_abbr\":\"PA\",\"provider_county\":\"Southwest MCD\",\"provider_num\":29},{\"provider_abbr\":\"PA\",\"provider_county\":\"Uintah Basin MCD\",\"provider_num\":15},{\"provider_abbr\":\"PA\",\"provider_county\":\"Wasatch MCD\",\"provider_num\":120},{\"provider_abbr\":\"PA\",\"provider_county\":\"State of Utah\",\"provider_num\":274},{\"provider_abbr\":\"NP\",\"provider_county\":\"Beaver County\",\"provider_num\":5},{\"provider_abbr\":\"NP\",\"provider_county\":\"Box Elder County\",\"provider_num\":9},{\"provider_abbr\":\"NP\",\"provider_county\":\"Cache County\",\"provider_num\":14},{\"provider_abbr\":\"NP\",\"provider_county\":\"Carbon County\",\"provider_num\":5},{\"provider_abbr\":\"NP\",\"provider_county\":\"Daggett County\",\"provider_num\":5},{\"provider_abbr\":\"NP\",\"provider_county\":\"Davis County\",\"provider_num\":19},{\"provider_abbr\":\"NP\",\"provider_county\":\"Duchesne County\",\"provider_num\":5},{\"provider_abbr\":\"NP\",\"provider_county\":\"Emery County\",\"provider_num\":5},{\"provider_abbr\":\"NP\",\"provider_county\":\"Garfield County\",\"provider_num\":5},{\"provider_abbr\":\"NP\",\"provider_county\":\"Grand County\",\"provider_num\":5},{\"provider_abbr\":\"NP\",\"provider_county\":\"Iron County\",\"provider_num\":6},{\"provider_abbr\":\"NP\",\"provider_county\":\"Juab County\",\"provider_num\":5},{\"provider_abbr\":\"NP\",\"provider_county\":\"Kane County\",\"provider_num\":5},{\"provider_abbr\":\"NP\",\"provider_county\":\"Millard County\",\"provider_num\":5},{\"provider_abbr\":\"NP\",\"provider_county\":\"Morgan County\",\"provider_num\":5},{\"provider_abbr\":\"NP\",\"provider_county\":\"Piute County\",\"provider_num\":5},{\"provider_abbr\":\"NP\",\"provider_county\":\"Rich County\",\"provider_num\":5},{\"provider_abbr\":\"NP\",\"provider_county\":\"Salt Lake County\",\"provider_num\":305},{\"provider_abbr\":\"NP\",\"provider_county\":\"San Juan County\",\"provider_num\":5},{\"provider_abbr\":\"NP\",\"provider_county\":\"Sanpete County\",\"provider_num\":5},{\"provider_abbr\":\"NP\",\"provider_county\":\"Sevier County\",\"provider_num\":5},{\"provider_abbr\":\"NP\",\"provider_county\":\"Summit County\",\"provider_num\":7},{\"provider_abbr\":\"NP\",\"provider_county\":\"Tooele County\",\"provider_num\":5},{\"provider_abbr\":\"NP\",\"provider_county\":\"Uintah County\",\"provider_num\":5},{\"provider_abbr\":\"NP\",\"provider_county\":\"Utah County\",\"provider_num\":68},{\"provider_abbr\":\"NP\",\"provider_county\":\"Wasatch County\",\"provider_num\":5},{\"provider_abbr\":\"NP\",\"provider_county\":\"Washington County\",\"provider_num\":27},{\"provider_abbr\":\"NP\",\"provider_county\":\"Wayne County\",\"provider_num\":5},{\"provider_abbr\":\"NP\",\"provider_county\":\"Weber County\",\"provider_num\":47},{\"provider_abbr\":\"NP\",\"provider_county\":\"Bear River MCD\",\"provider_num\":28},{\"provider_abbr\":\"NP\",\"provider_county\":\"Central MCD\",\"provider_num\":30},{\"provider_abbr\":\"NP\",\"provider_county\":\"Mountainland MCD\",\"provider_num\":80},{\"provider_abbr\":\"NP\",\"provider_county\":\"Southeast MCD\",\"provider_num\":20},{\"provider_abbr\":\"NP\",\"provider_county\":\"Southwest MCD\",\"provider_num\":48},{\"provider_abbr\":\"NP\",\"provider_county\":\"Uintah Basin MCD\",\"provider_num\":15},{\"provider_abbr\":\"NP\",\"provider_county\":\"Wasatch MCD\",\"provider_num\":381},{\"provider_abbr\":\"NP\",\"provider_county\":\"State of Utah\",\"provider_num\":602},{\"provider_abbr\":\"RN\",\"provider_county\":\"Beaver County\",\"provider_num\":5},{\"provider_abbr\":\"RN\",\"provider_county\":\"Box Elder County\",\"provider_num\":15},{\"provider_abbr\":\"RN\",\"provider_county\":\"Cache County\",\"provider_num\":87},{\"provider_abbr\":\"RN\",\"provider_county\":\"Carbon County\",\"provider_num\":23},{\"provider_abbr\":\"RN\",\"provider_county\":\"Daggett County\",\"provider_num\":5},{\"provider_abbr\":\"RN\",\"provider_county\":\"Davis County\",\"provider_num\":155},{\"provider_abbr\":\"RN\",\"provider_county\":\"Duchesne County\",\"provider_num\":8},{\"provider_abbr\":\"RN\",\"provider_county\":\"Emery County\",\"provider_num\":6},{\"provider_abbr\":\"RN\",\"provider_county\":\"Garfield County\",\"provider_num\":5},{\"provider_abbr\":\"RN\",\"provider_county\":\"Grand County\",\"provider_num\":8},{\"provider_abbr\":\"RN\",\"provider_county\":\"Iron County\",\"provider_num\":30},{\"provider_abbr\":\"RN\",\"provider_county\":\"Juab County\",\"provider_num\":5},{\"provider_abbr\":\"RN\",\"provider_county\":\"Kane County\",\"provider_num\":5},{\"provider_abbr\":\"RN\",\"provider_county\":\"Millard County\",\"provider_num\":7},{\"provider_abbr\":\"RN\",\"provider_county\":\"Morgan County\",\"provider_num\":5},{\"provider_abbr\":\"RN\",\"provider_county\":\"Piute County\",\"provider_num\":5},{\"provider_abbr\":\"RN\",\"provider_county\":\"Rich County\",\"provider_num\":5},{\"provider_abbr\":\"RN\",\"provider_county\":\"Salt Lake County\",\"provider_num\":977},{\"provider_abbr\":\"RN\",\"provider_county\":\"San Juan County\",\"provider_num\":10},{\"provider_abbr\":\"RN\",\"provider_county\":\"Sanpete County\",\"provider_num\":8},{\"provider_abbr\":\"RN\",\"provider_county\":\"Sevier County\",\"provider_num\":14},{\"provider_abbr\":\"RN\",\"provider_county\":\"Summit County\",\"provider_num\":25},{\"provider_abbr\":\"RN\",\"provider_county\":\"Tooele County\",\"provider_num\":15},{\"provider_abbr\":\"RN\",\"provider_county\":\"Uintah County\",\"provider_num\":15},{\"provider_abbr\":\"RN\",\"provider_county\":\"Utah County\",\"provider_num\":352},{\"provider_abbr\":\"RN\",\"provider_county\":\"Wasatch County\",\"provider_num\":12},{\"provider_abbr\":\"RN\",\"provider_county\":\"Washington County\",\"provider_num\":103},{\"provider_abbr\":\"RN\",\"provider_county\":\"Wayne County\",\"provider_num\":5},{\"provider_abbr\":\"RN\",\"provider_county\":\"Weber County\",\"provider_num\":230},{\"provider_abbr\":\"RN\",\"provider_county\":\"Bear River MCD\",\"provider_num\":107},{\"provider_abbr\":\"RN\",\"provider_county\":\"Central MCD\",\"provider_num\":44},{\"provider_abbr\":\"RN\",\"provider_county\":\"Mountainland MCD\",\"provider_num\":389},{\"provider_abbr\":\"RN\",\"provider_county\":\"Southeast MCD\",\"provider_num\":47},{\"provider_abbr\":\"RN\",\"provider_county\":\"Southwest MCD\",\"provider_num\":148},{\"provider_abbr\":\"RN\",\"provider_county\":\"Uintah Basin MCD\",\"provider_num\":28},{\"provider_abbr\":\"RN\",\"provider_county\":\"Wasatch MCD\",\"provider_num\":1382},{\"provider_abbr\":\"RN\",\"provider_county\":\"State of Utah\",\"provider_num\":2145},{\"provider_abbr\":\"Psych\",\"provider_county\":\"Beaver County\",\"provider_num\":5},{\"provider_abbr\":\"Psych\",\"provider_county\":\"Box Elder County\",\"provider_num\":5},{\"provider_abbr\":\"Psych\",\"provider_county\":\"Cache County\",\"provider_num\":22},{\"provider_abbr\":\"Psych\",\"provider_county\":\"Carbon County\",\"provider_num\":5},{\"provider_abbr\":\"Psych\",\"provider_county\":\"Daggett County\",\"provider_num\":5},{\"provider_abbr\":\"Psych\",\"provider_county\":\"Davis County\",\"provider_num\":16},{\"provider_abbr\":\"Psych\",\"provider_county\":\"Duchesne County\",\"provider_num\":5},{\"provider_abbr\":\"Psych\",\"provider_county\":\"Emery County\",\"provider_num\":5},{\"provider_abbr\":\"Psych\",\"provider_county\":\"Garfield County\",\"provider_num\":5},{\"provider_abbr\":\"Psych\",\"provider_county\":\"Grand County\",\"provider_num\":5},{\"provider_abbr\":\"Psych\",\"provider_county\":\"Iron County\",\"provider_num\":5},{\"provider_abbr\":\"Psych\",\"provider_county\":\"Juab County\",\"provider_num\":5},{\"provider_abbr\":\"Psych\",\"provider_county\":\"Kane County\",\"provider_num\":5},{\"provider_abbr\":\"Psych\",\"provider_county\":\"Millard County\",\"provider_num\":5},{\"provider_abbr\":\"Psych\",\"provider_county\":\"Morgan County\",\"provider_num\":5},{\"provider_abbr\":\"Psych\",\"provider_county\":\"Piute County\",\"provider_num\":5},{\"provider_abbr\":\"Psych\",\"provider_county\":\"Rich County\",\"provider_num\":5},{\"provider_abbr\":\"Psych\",\"provider_county\":\"Salt Lake County\",\"provider_num\":12},{\"provider_abbr\":\"Psych\",\"provider_county\":\"San Juan County\",\"provider_num\":175},{\"provider_abbr\":\"Psych\",\"provider_county\":\"Sanpete County\",\"provider_num\":5},{\"provider_abbr\":\"Psych\",\"provider_county\":\"Sevier County\",\"provider_num\":5},{\"provider_abbr\":\"Psych\",\"provider_county\":\"Summit County\",\"provider_num\":6},{\"provider_abbr\":\"Psych\",\"provider_county\":\"Tooele County\",\"provider_num\":5},{\"provider_abbr\":\"Psych\",\"provider_county\":\"Uintah County\",\"provider_num\":5},{\"provider_abbr\":\"Psych\",\"provider_county\":\"Utah County\",\"provider_num\":76},{\"provider_abbr\":\"Psych\",\"provider_county\":\"Wasatch County\",\"provider_num\":5},{\"provider_abbr\":\"Psych\",\"provider_county\":\"Washington County\",\"provider_num\":11},{\"provider_abbr\":\"Psych\",\"provider_county\":\"Wayne County\",\"provider_num\":5},{\"provider_abbr\":\"Psych\",\"provider_county\":\"Weber County\",\"provider_num\":18},{\"provider_abbr\":\"Psych\",\"provider_county\":\"Bear River MCD\",\"provider_num\":32},{\"provider_abbr\":\"Psych\",\"provider_county\":\"Central MCD\",\"provider_num\":30},{\"provider_abbr\":\"Psych\",\"provider_county\":\"Mountainland MCD\",\"provider_num\":87},{\"provider_abbr\":\"Psych\",\"provider_county\":\"Southeast MCD\",\"provider_num\":190},{\"provider_abbr\":\"Psych\",\"provider_county\":\"Southwest MCD\",\"provider_num\":31},{\"provider_abbr\":\"Psych\",\"provider_county\":\"Uintah Basin MCD\",\"provider_num\":15},{\"provider_abbr\":\"Psych\",\"provider_county\":\"Wasatch MCD\",\"provider_num\":56},{\"provider_abbr\":\"Psych\",\"provider_county\":\"State of Utah\",\"provider_num\":441},{\"provider_abbr\":\"LCSW\",\"provider_county\":\"Beaver County\",\"provider_num\":6},{\"provider_abbr\":\"LCSW\",\"provider_county\":\"Box Elder County\",\"provider_num\":8},{\"provider_abbr\":\"LCSW\",\"provider_county\":\"Cache County\",\"provider_num\":19},{\"provider_abbr\":\"LCSW\",\"provider_county\":\"Carbon County\",\"provider_num\":7},{\"provider_abbr\":\"LCSW\",\"provider_county\":\"Daggett County\",\"provider_num\":5},{\"provider_abbr\":\"LCSW\",\"provider_county\":\"Davis County\",\"provider_num\":73},{\"provider_abbr\":\"LCSW\",\"provider_county\":\"Duchesne County\",\"provider_num\":6},{\"provider_abbr\":\"LCSW\",\"provider_county\":\"Emery County\",\"provider_num\":5},{\"provider_abbr\":\"LCSW\",\"provider_county\":\"Garfield County\",\"provider_num\":5},{\"provider_abbr\":\"LCSW\",\"provider_county\":\"Grand County\",\"provider_num\":5},{\"provider_abbr\":\"LCSW\",\"provider_county\":\"Iron County\",\"provider_num\":18},{\"provider_abbr\":\"LCSW\",\"provider_county\":\"Juab County\",\"provider_num\":5},{\"provider_abbr\":\"LCSW\",\"provider_county\":\"Kane County\",\"provider_num\":5},{\"provider_abbr\":\"LCSW\",\"provider_county\":\"Millard County\",\"provider_num\":5},{\"provider_abbr\":\"LCSW\",\"provider_county\":\"Morgan County\",\"provider_num\":5},{\"provider_abbr\":\"LCSW\",\"provider_county\":\"Piute County\",\"provider_num\":5},{\"provider_abbr\":\"LCSW\",\"provider_county\":\"Rich County\",\"provider_num\":5},{\"provider_abbr\":\"LCSW\",\"provider_county\":\"Salt Lake County\",\"provider_num\":561},{\"provider_abbr\":\"LCSW\",\"provider_county\":\"San Juan County\",\"provider_num\":5},{\"provider_abbr\":\"LCSW\",\"provider_county\":\"Sanpete County\",\"provider_num\":7},{\"provider_abbr\":\"LCSW\",\"provider_county\":\"Sevier County\",\"provider_num\":7},{\"provider_abbr\":\"LCSW\",\"provider_county\":\"Summit County\",\"provider_num\":9},{\"provider_abbr\":\"LCSW\",\"provider_county\":\"Tooele County\",\"provider_num\":9},{\"provider_abbr\":\"LCSW\",\"provider_county\":\"Uintah County\",\"provider_num\":9},{\"provider_abbr\":\"LCSW\",\"provider_county\":\"Utah County\",\"provider_num\":158},{\"provider_abbr\":\"LCSW\",\"provider_county\":\"Wasatch County\",\"provider_num\":5},{\"provider_abbr\":\"LCSW\",\"provider_county\":\"Washington County\",\"provider_num\":52},{\"provider_abbr\":\"LCSW\",\"provider_county\":\"Wayne County\",\"provider_num\":5},{\"provider_abbr\":\"LCSW\",\"provider_county\":\"Weber County\",\"provider_num\":79},{\"provider_abbr\":\"LCSW\",\"provider_county\":\"Bear River MCD\",\"provider_num\":32},{\"provider_abbr\":\"LCSW\",\"provider_county\":\"Central MCD\",\"provider_num\":34},{\"provider_abbr\":\"LCSW\",\"provider_county\":\"Mountainland MCD\",\"provider_num\":172},{\"provider_abbr\":\"LCSW\",\"provider_county\":\"Southeast MCD\",\"provider_num\":22},{\"provider_abbr\":\"LCSW\",\"provider_county\":\"Southwest MCD\",\"provider_num\":86},{\"provider_abbr\":\"LCSW\",\"provider_county\":\"Uintah Basin MCD\",\"provider_num\":20},{\"provider_abbr\":\"LCSW\",\"provider_county\":\"Wasatch MCD\",\"provider_num\":727},{\"provider_abbr\":\"LCSW\",\"provider_county\":\"State of Utah\",\"provider_num\":1093},{\"provider_abbr\":\"CMHC\",\"provider_county\":\"Beaver County\",\"provider_num\":5},{\"provider_abbr\":\"CMHC\",\"provider_county\":\"Box Elder County\",\"provider_num\":5},{\"provider_abbr\":\"CMHC\",\"provider_county\":\"Cache County\",\"provider_num\":5},{\"provider_abbr\":\"CMHC\",\"provider_county\":\"Carbon County\",\"provider_num\":5},{\"provider_abbr\":\"CMHC\",\"provider_county\":\"Daggett County\",\"provider_num\":5},{\"provider_abbr\":\"CMHC\",\"provider_county\":\"Davis County\",\"provider_num\":23},{\"provider_abbr\":\"CMHC\",\"provider_county\":\"Duchesne County\",\"provider_num\":5},{\"provider_abbr\":\"CMHC\",\"provider_county\":\"Emery County\",\"provider_num\":5},{\"provider_abbr\":\"CMHC\",\"provider_county\":\"Garfield County\",\"provider_num\":5},{\"provider_abbr\":\"CMHC\",\"provider_county\":\"Grand County\",\"provider_num\":5},{\"provider_abbr\":\"CMHC\",\"provider_county\":\"Iron County\",\"provider_num\":11},{\"provider_abbr\":\"CMHC\",\"provider_county\":\"Juab County\",\"provider_num\":5},{\"provider_abbr\":\"CMHC\",\"provider_county\":\"Kane County\",\"provider_num\":5},{\"provider_abbr\":\"CMHC\",\"provider_county\":\"Millard County\",\"provider_num\":5},{\"provider_abbr\":\"CMHC\",\"provider_county\":\"Morgan County\",\"provider_num\":5},{\"provider_abbr\":\"CMHC\",\"provider_county\":\"Piute County\",\"provider_num\":5},{\"provider_abbr\":\"CMHC\",\"provider_county\":\"Rich County\",\"provider_num\":5},{\"provider_abbr\":\"CMHC\",\"provider_county\":\"Salt Lake County\",\"provider_num\":151},{\"provider_abbr\":\"CMHC\",\"provider_county\":\"San Juan County\",\"provider_num\":5},{\"provider_abbr\":\"CMHC\",\"provider_county\":\"Sanpete County\",\"provider_num\":7},{\"provider_abbr\":\"CMHC\",\"provider_county\":\"Sevier County\",\"provider_num\":5},{\"provider_abbr\":\"CMHC\",\"provider_county\":\"Summit County\",\"provider_num\":9},{\"provider_abbr\":\"CMHC\",\"provider_county\":\"Tooele County\",\"provider_num\":6},{\"provider_abbr\":\"CMHC\",\"provider_county\":\"Uintah County\",\"provider_num\":5},{\"provider_abbr\":\"CMHC\",\"provider_county\":\"Utah County\",\"provider_num\":46},{\"provider_abbr\":\"CMHC\",\"provider_county\":\"Wasatch County\",\"provider_num\":5},{\"provider_abbr\":\"CMHC\",\"provider_county\":\"Washington County\",\"provider_num\":22},{\"provider_abbr\":\"CMHC\",\"provider_county\":\"Wayne County\",\"provider_num\":5},{\"provider_abbr\":\"CMHC\",\"provider_county\":\"Weber County\",\"provider_num\":16},{\"provider_abbr\":\"CMHC\",\"provider_county\":\"Bear River MCD\",\"provider_num\":15},{\"provider_abbr\":\"CMHC\",\"provider_county\":\"Central MCD\",\"provider_num\":32},{\"provider_abbr\":\"CMHC\",\"provider_county\":\"Mountainland MCD\",\"provider_num\":60},{\"provider_abbr\":\"CMHC\",\"provider_county\":\"Southeast MCD\",\"provider_num\":20},{\"provider_abbr\":\"CMHC\",\"provider_county\":\"Southwest MCD\",\"provider_num\":48},{\"provider_abbr\":\"CMHC\",\"provider_county\":\"Uintah Basin MCD\",\"provider_num\":15},{\"provider_abbr\":\"CMHC\",\"provider_county\":\"Wasatch MCD\",\"provider_num\":201},{\"provider_abbr\":\"CMHC\",\"provider_county\":\"State of Utah\",\"provider_num\":391},{\"provider_abbr\":\"MFT\",\"provider_county\":\"Beaver County\",\"provider_num\":5},{\"provider_abbr\":\"MFT\",\"provider_county\":\"Box Elder County\",\"provider_num\":5},{\"provider_abbr\":\"MFT\",\"provider_county\":\"Cache County\",\"provider_num\":14},{\"provider_abbr\":\"MFT\",\"provider_county\":\"Carbon County\",\"provider_num\":5},{\"provider_abbr\":\"MFT\",\"provider_county\":\"Daggett County\",\"provider_num\":5},{\"provider_abbr\":\"MFT\",\"provider_county\":\"Davis County\",\"provider_num\":11},{\"provider_abbr\":\"MFT\",\"provider_county\":\"Duchesne County\",\"provider_num\":5},{\"provider_abbr\":\"MFT\",\"provider_county\":\"Emery County\",\"provider_num\":5},{\"provider_abbr\":\"MFT\",\"provider_county\":\"Garfield County\",\"provider_num\":5},{\"provider_abbr\":\"MFT\",\"provider_county\":\"Grand County\",\"provider_num\":5},{\"provider_abbr\":\"MFT\",\"provider_county\":\"Iron County\",\"provider_num\":5},{\"provider_abbr\":\"MFT\",\"provider_county\":\"Juab County\",\"provider_num\":5},{\"provider_abbr\":\"MFT\",\"provider_county\":\"Kane County\",\"provider_num\":5},{\"provider_abbr\":\"MFT\",\"provider_county\":\"Millard County\",\"provider_num\":5},{\"provider_abbr\":\"MFT\",\"provider_county\":\"Morgan County\",\"provider_num\":5},{\"provider_abbr\":\"MFT\",\"provider_county\":\"Piute County\",\"provider_num\":5},{\"provider_abbr\":\"MFT\",\"provider_county\":\"Rich County\",\"provider_num\":5},{\"provider_abbr\":\"MFT\",\"provider_county\":\"Salt Lake County\",\"provider_num\":51},{\"provider_abbr\":\"MFT\",\"provider_county\":\"San Juan County\",\"provider_num\":5},{\"provider_abbr\":\"MFT\",\"provider_county\":\"Sanpete County\",\"provider_num\":5},{\"provider_abbr\":\"MFT\",\"provider_county\":\"Sevier County\",\"provider_num\":5},{\"provider_abbr\":\"MFT\",\"provider_county\":\"Summit County\",\"provider_num\":8},{\"provider_abbr\":\"MFT\",\"provider_county\":\"Tooele County\",\"provider_num\":5},{\"provider_abbr\":\"MFT\",\"provider_county\":\"Uintah County\",\"provider_num\":5},{\"provider_abbr\":\"MFT\",\"provider_county\":\"Utah County\",\"provider_num\":45},{\"provider_abbr\":\"MFT\",\"provider_county\":\"Wasatch County\",\"provider_num\":5},{\"provider_abbr\":\"MFT\",\"provider_county\":\"Washington County\",\"provider_num\":16},{\"provider_abbr\":\"MFT\",\"provider_county\":\"Wayne County\",\"provider_num\":5},{\"provider_abbr\":\"MFT\",\"provider_county\":\"Weber County\",\"provider_num\":15},{\"provider_abbr\":\"MFT\",\"provider_county\":\"Bear River MCD\",\"provider_num\":24},{\"provider_abbr\":\"MFT\",\"provider_county\":\"Central MCD\",\"provider_num\":30},{\"provider_abbr\":\"MFT\",\"provider_county\":\"Mountainland MCD\",\"provider_num\":58},{\"provider_abbr\":\"MFT\",\"provider_county\":\"Southeast MCD\",\"provider_num\":20},{\"provider_abbr\":\"MFT\",\"provider_county\":\"Southwest MCD\",\"provider_num\":36},{\"provider_abbr\":\"MFT\",\"provider_county\":\"Uintah Basin MCD\",\"provider_num\":15},{\"provider_abbr\":\"MFT\",\"provider_county\":\"Wasatch MCD\",\"provider_num\":87},{\"provider_abbr\":\"MFT\",\"provider_county\":\"State of Utah\",\"provider_num\":270},{\"provider_abbr\":\"PharmD\",\"provider_county\":\"Beaver County\",\"provider_num\":5},{\"provider_abbr\":\"PharmD\",\"provider_county\":\"Box Elder County\",\"provider_num\":13},{\"provider_abbr\":\"PharmD\",\"provider_county\":\"Cache County\",\"provider_num\":39},{\"provider_abbr\":\"PharmD\",\"provider_county\":\"Carbon County\",\"provider_num\":8},{\"provider_abbr\":\"PharmD\",\"provider_county\":\"Daggett County\",\"provider_num\":5},{\"provider_abbr\":\"PharmD\",\"provider_county\":\"Davis County\",\"provider_num\":89},{\"provider_abbr\":\"PharmD\",\"provider_county\":\"Duchesne County\",\"provider_num\":10},{\"provider_abbr\":\"PharmD\",\"provider_county\":\"Emery County\",\"provider_num\":5},{\"provider_abbr\":\"PharmD\",\"provider_county\":\"Garfield County\",\"provider_num\":5},{\"provider_abbr\":\"PharmD\",\"provider_county\":\"Grand County\",\"provider_num\":5},{\"provider_abbr\":\"PharmD\",\"provider_county\":\"Iron County\",\"provider_num\":15},{\"provider_abbr\":\"PharmD\",\"provider_county\":\"Juab County\",\"provider_num\":5},{\"provider_abbr\":\"PharmD\",\"provider_county\":\"Kane County\",\"provider_num\":5},{\"provider_abbr\":\"PharmD\",\"provider_county\":\"Millard County\",\"provider_num\":5},{\"provider_abbr\":\"PharmD\",\"provider_county\":\"Morgan County\",\"provider_num\":5},{\"provider_abbr\":\"PharmD\",\"provider_county\":\"Piute County\",\"provider_num\":5},{\"provider_abbr\":\"PharmD\",\"provider_county\":\"Rich County\",\"provider_num\":5},{\"provider_abbr\":\"PharmD\",\"provider_county\":\"Salt Lake County\",\"provider_num\":538},{\"provider_abbr\":\"PharmD\",\"provider_county\":\"San Juan County\",\"provider_num\":6},{\"provider_abbr\":\"PharmD\",\"provider_county\":\"Sanpete County\",\"provider_num\":13},{\"provider_abbr\":\"PharmD\",\"provider_county\":\"Sevier County\",\"provider_num\":7},{\"provider_abbr\":\"PharmD\",\"provider_county\":\"Summit County\",\"provider_num\":13},{\"provider_abbr\":\"PharmD\",\"provider_county\":\"Tooele County\",\"provider_num\":13},{\"provider_abbr\":\"PharmD\",\"provider_county\":\"Uintah County\",\"provider_num\":7},{\"provider_abbr\":\"PharmD\",\"provider_county\":\"Utah County\",\"provider_num\":120},{\"provider_abbr\":\"PharmD\",\"provider_county\":\"Wasatch County\",\"provider_num\":10},{\"provider_abbr\":\"PharmD\",\"provider_county\":\"Washington County\",\"provider_num\":58},{\"provider_abbr\":\"PharmD\",\"provider_county\":\"Wayne County\",\"provider_num\":5},{\"provider_abbr\":\"PharmD\",\"provider_county\":\"Weber County\",\"provider_num\":83},{\"provider_abbr\":\"PharmD\",\"provider_county\":\"Bear River MCD\",\"provider_num\":57},{\"provider_abbr\":\"PharmD\",\"provider_county\":\"Central MCD\",\"provider_num\":40},{\"provider_abbr\":\"PharmD\",\"provider_county\":\"Mountainland MCD\",\"provider_num\":143},{\"provider_abbr\":\"PharmD\",\"provider_county\":\"Southeast MCD\",\"provider_num\":24},{\"provider_abbr\":\"PharmD\",\"provider_county\":\"Southwest MCD\",\"provider_num\":88},{\"provider_abbr\":\"PharmD\",\"provider_county\":\"Uintah Basin MCD\",\"provider_num\":22},{\"provider_abbr\":\"PharmD\",\"provider_county\":\"Wasatch MCD\",\"provider_num\":728},{\"provider_abbr\":\"PharmD\",\"provider_county\":\"State of Utah\",\"provider_num\":1102},{\"provider_abbr\":\"MA\",\"provider_county\":\"Beaver County\",\"provider_num\":8},{\"provider_abbr\":\"MA\",\"provider_county\":\"Box Elder County\",\"provider_num\":24},{\"provider_abbr\":\"MA\",\"provider_county\":\"Cache County\",\"provider_num\":28},{\"provider_abbr\":\"MA\",\"provider_county\":\"Carbon County\",\"provider_num\":6},{\"provider_abbr\":\"MA\",\"provider_county\":\"Daggett County\",\"provider_num\":5},{\"provider_abbr\":\"MA\",\"provider_county\":\"Davis County\",\"provider_num\":92},{\"provider_abbr\":\"MA\",\"provider_county\":\"Duchesne County\",\"provider_num\":5},{\"provider_abbr\":\"MA\",\"provider_county\":\"Emery County\",\"provider_num\":5},{\"provider_abbr\":\"MA\",\"provider_county\":\"Garfield County\",\"provider_num\":5},{\"provider_abbr\":\"MA\",\"provider_county\":\"Grand County\",\"provider_num\":12},{\"provider_abbr\":\"MA\",\"provider_county\":\"Iron County\",\"provider_num\":14},{\"provider_abbr\":\"MA\",\"provider_county\":\"Juab County\",\"provider_num\":6},{\"provider_abbr\":\"MA\",\"provider_county\":\"Kane County\",\"provider_num\":5},{\"provider_abbr\":\"MA\",\"provider_county\":\"Millard County\",\"provider_num\":10},{\"provider_abbr\":\"MA\",\"provider_county\":\"Morgan County\",\"provider_num\":5},{\"provider_abbr\":\"MA\",\"provider_county\":\"Piute County\",\"provider_num\":5},{\"provider_abbr\":\"MA\",\"provider_county\":\"Rich County\",\"provider_num\":5},{\"provider_abbr\":\"MA\",\"provider_county\":\"Salt Lake County\",\"provider_num\":330},{\"provider_abbr\":\"MA\",\"provider_county\":\"San Juan County\",\"provider_num\":14},{\"provider_abbr\":\"MA\",\"provider_county\":\"Sanpete County\",\"provider_num\":16},{\"provider_abbr\":\"MA\",\"provider_county\":\"Sevier County\",\"provider_num\":6},{\"provider_abbr\":\"MA\",\"provider_county\":\"Summit County\",\"provider_num\":20},{\"provider_abbr\":\"MA\",\"provider_county\":\"Tooele County\",\"provider_num\":8},{\"provider_abbr\":\"MA\",\"provider_county\":\"Uintah County\",\"provider_num\":14},{\"provider_abbr\":\"MA\",\"provider_county\":\"Utah County\",\"provider_num\":160},{\"provider_abbr\":\"MA\",\"provider_county\":\"Wasatch County\",\"provider_num\":12},{\"provider_abbr\":\"MA\",\"provider_county\":\"Washington County\",\"provider_num\":36},{\"provider_abbr\":\"MA\",\"provider_county\":\"Wayne County\",\"provider_num\":5},{\"provider_abbr\":\"MA\",\"provider_county\":\"Weber County\",\"provider_num\":82},{\"provider_abbr\":\"MA\",\"provider_county\":\"Bear River MCD\",\"provider_num\":57},{\"provider_abbr\":\"MA\",\"provider_county\":\"Central MCD\",\"provider_num\":48},{\"provider_abbr\":\"MA\",\"provider_county\":\"Mountainland MCD\",\"provider_num\":192},{\"provider_abbr\":\"MA\",\"provider_county\":\"Southeast MCD\",\"provider_num\":37},{\"provider_abbr\":\"MA\",\"provider_county\":\"Southwest MCD\",\"provider_num\":68},{\"provider_abbr\":\"MA\",\"provider_county\":\"Uintah Basin MCD\",\"provider_num\":24},{\"provider_abbr\":\"MA\",\"provider_county\":\"Wasatch MCD\",\"provider_num\":517},{\"provider_abbr\":\"MA\",\"provider_county\":\"State of Utah\",\"provider_num\":943},{\"provider_abbr\":\"Educ\",\"provider_county\":\"Beaver County\",\"provider_num\":6},{\"provider_abbr\":\"Educ\",\"provider_county\":\"Box Elder County\",\"provider_num\":8},{\"provider_abbr\":\"Educ\",\"provider_county\":\"Cache County\",\"provider_num\":19},{\"provider_abbr\":\"Educ\",\"provider_county\":\"Carbon County\",\"provider_num\":7},{\"provider_abbr\":\"Educ\",\"provider_county\":\"Daggett County\",\"provider_num\":5},{\"provider_abbr\":\"Educ\",\"provider_county\":\"Davis County\",\"provider_num\":73},{\"provider_abbr\":\"Educ\",\"provider_county\":\"Duchesne County\",\"provider_num\":6},{\"provider_abbr\":\"Educ\",\"provider_county\":\"Emery County\",\"provider_num\":5},{\"provider_abbr\":\"Educ\",\"provider_county\":\"Garfield County\",\"provider_num\":5},{\"provider_abbr\":\"Educ\",\"provider_county\":\"Grand County\",\"provider_num\":5},{\"provider_abbr\":\"Educ\",\"provider_county\":\"Iron County\",\"provider_num\":18},{\"provider_abbr\":\"Educ\",\"provider_county\":\"Juab County\",\"provider_num\":5},{\"provider_abbr\":\"Educ\",\"provider_county\":\"Kane County\",\"provider_num\":5},{\"provider_abbr\":\"Educ\",\"provider_county\":\"Millard County\",\"provider_num\":5},{\"provider_abbr\":\"Educ\",\"provider_county\":\"Morgan County\",\"provider_num\":5},{\"provider_abbr\":\"Educ\",\"provider_county\":\"Piute County\",\"provider_num\":5},{\"provider_abbr\":\"Educ\",\"provider_county\":\"Rich County\",\"provider_num\":5},{\"provider_abbr\":\"Educ\",\"provider_county\":\"Salt Lake County\",\"provider_num\":561},{\"provider_abbr\":\"Educ\",\"provider_county\":\"San Juan County\",\"provider_num\":5},{\"provider_abbr\":\"Educ\",\"provider_county\":\"Sanpete County\",\"provider_num\":7},{\"provider_abbr\":\"Educ\",\"provider_county\":\"Sevier County\",\"provider_num\":7},{\"provider_abbr\":\"Educ\",\"provider_county\":\"Summit County\",\"provider_num\":9},{\"provider_abbr\":\"Educ\",\"provider_county\":\"Tooele County\",\"provider_num\":9},{\"provider_abbr\":\"Educ\",\"provider_county\":\"Uintah County\",\"provider_num\":9},{\"provider_abbr\":\"Educ\",\"provider_county\":\"Utah County\",\"provider_num\":158},{\"provider_abbr\":\"Educ\",\"provider_county\":\"Wasatch County\",\"provider_num\":5},{\"provider_abbr\":\"Educ\",\"provider_county\":\"Washington County\",\"provider_num\":52},{\"provider_abbr\":\"Educ\",\"provider_county\":\"Wayne County\",\"provider_num\":5},{\"provider_abbr\":\"Educ\",\"provider_county\":\"Weber County\",\"provider_num\":79},{\"provider_abbr\":\"Educ\",\"provider_county\":\"Bear River MCD\",\"provider_num\":32},{\"provider_abbr\":\"Educ\",\"provider_county\":\"Central MCD\",\"provider_num\":34},{\"provider_abbr\":\"Educ\",\"provider_county\":\"Mountainland MCD\",\"provider_num\":172},{\"provider_abbr\":\"Educ\",\"provider_county\":\"Southeast MCD\",\"provider_num\":22},{\"provider_abbr\":\"Educ\",\"provider_county\":\"Southwest MCD\",\"provider_num\":86},{\"provider_abbr\":\"Educ\",\"provider_county\":\"Uintah Basin MCD\",\"provider_num\":20},{\"provider_abbr\":\"Educ\",\"provider_county\":\"Wasatch MCD\",\"provider_num\":727},{\"provider_abbr\":\"Educ\",\"provider_county\":\"State of Utah\",\"provider_num\":1093}],\"services\":[{\"acute_encounter\":\"Abdominal pain\",\"acute_cateogry\":\"Measurements\",\"acute_service\":\"BP\",\"Phys\":4,\"PA\":3,\"NP\":2,\"RN\":2.0,\"PharmD\":null,\"MA\":1.0},{\"acute_encounter\":\"Abdominal pain\",\"acute_cateogry\":\"Measurements\",\"acute_service\":\"Weight\",\"Phys\":4,\"PA\":3,\"NP\":2,\"RN\":2.0,\"PharmD\":null,\"MA\":1.0},{\"acute_encounter\":\"Abdominal pain\",\"acute_cateogry\":\"Measurements\",\"acute_service\":\"Temp\",\"Phys\":4,\"PA\":3,\"NP\":2,\"RN\":2.0,\"PharmD\":null,\"MA\":1.0},{\"acute_encounter\":\"Abdominal pain\",\"acute_cateogry\":\"Patient History\",\"acute_service\":\"Data Collection\",\"Phys\":4,\"PA\":3,\"NP\":2,\"RN\":2.0,\"PharmD\":null,\"MA\":1.0},{\"acute_encounter\":\"Abdominal pain\",\"acute_cateogry\":\"Physical Exam\",\"acute_service\":\"Problem Oriented Physical\",\"Phys\":4,\"PA\":3,\"NP\":2,\"RN\":1.0,\"PharmD\":null,\"MA\":null},{\"acute_encounter\":\"Abdominal pain\",\"acute_cateogry\":\"Lab\",\"acute_service\":\"Orders\",\"Phys\":4,\"PA\":3,\"NP\":2,\"RN\":1.0,\"PharmD\":null,\"MA\":null},{\"acute_encounter\":\"Abdominal pain\",\"acute_cateogry\":\"Lab\",\"acute_service\":\"Results Consultation:\",\"Phys\":4,\"PA\":3,\"NP\":2,\"RN\":1.0,\"PharmD\":null,\"MA\":null},{\"acute_encounter\":\"Abdominal pain\",\"acute_cateogry\":\"Pharmacological Treatment\\/Mgmt\",\"acute_service\":\"Orders\\/scripts\",\"Phys\":5,\"PA\":4,\"NP\":3,\"RN\":null,\"PharmD\":1.0,\"MA\":null},{\"acute_encounter\":\"Abdominal pain\",\"acute_cateogry\":\"Visit wrap-up\\/care planning\",\"acute_service\":\"Visit wrap-up\\/care planning\",\"Phys\":4,\"PA\":3,\"NP\":2,\"RN\":1.0,\"PharmD\":null,\"MA\":null},{\"acute_encounter\":\"Chest pain\",\"acute_cateogry\":\"Measurements\",\"acute_service\":\"BP\",\"Phys\":4,\"PA\":3,\"NP\":2,\"RN\":2.0,\"PharmD\":null,\"MA\":1.0},{\"acute_encounter\":\"Chest pain\",\"acute_cateogry\":\"Measurements\",\"acute_service\":\"Weight\",\"Phys\":4,\"PA\":3,\"NP\":2,\"RN\":2.0,\"PharmD\":null,\"MA\":1.0},{\"acute_encounter\":\"Chest pain\",\"acute_cateogry\":\"Measurements\",\"acute_service\":\"Temp\",\"Phys\":4,\"PA\":3,\"NP\":2,\"RN\":2.0,\"PharmD\":null,\"MA\":1.0},{\"acute_encounter\":\"Chest pain\",\"acute_cateogry\":\"Patient History\",\"acute_service\":\"Data Collection\",\"Phys\":4,\"PA\":3,\"NP\":2,\"RN\":2.0,\"PharmD\":null,\"MA\":1.0},{\"acute_encounter\":\"Chest pain\",\"acute_cateogry\":\"Physical Exam\",\"acute_service\":\"Problem Oriented Physical\",\"Phys\":4,\"PA\":3,\"NP\":2,\"RN\":1.0,\"PharmD\":null,\"MA\":null},{\"acute_encounter\":\"Chest pain\",\"acute_cateogry\":\"Lab\",\"acute_service\":\"Orders\",\"Phys\":4,\"PA\":3,\"NP\":2,\"RN\":1.0,\"PharmD\":null,\"MA\":null},{\"acute_encounter\":\"Chest pain\",\"acute_cateogry\":\"Lab\",\"acute_service\":\"Results Consultation:\",\"Phys\":4,\"PA\":3,\"NP\":2,\"RN\":1.0,\"PharmD\":null,\"MA\":null},{\"acute_encounter\":\"Chest pain\",\"acute_cateogry\":\"Pharmacological Treatment\\/Mgmt\",\"acute_service\":\"Orders\\/scripts\",\"Phys\":5,\"PA\":4,\"NP\":3,\"RN\":null,\"PharmD\":1.0,\"MA\":null},{\"acute_encounter\":\"Chest pain\",\"acute_cateogry\":\"Visit wrap-up\\/care planning\",\"acute_service\":\"Visit wrap-up\\/care planning\",\"Phys\":4,\"PA\":3,\"NP\":2,\"RN\":1.0,\"PharmD\":null,\"MA\":null},{\"acute_encounter\":\"Cough and bronchitis\",\"acute_cateogry\":\"Measurements\",\"acute_service\":\"BP\",\"Phys\":4,\"PA\":3,\"NP\":2,\"RN\":2.0,\"PharmD\":null,\"MA\":1.0},{\"acute_encounter\":\"Cough and bronchitis\",\"acute_cateogry\":\"Measurements\",\"acute_service\":\"Weight\",\"Phys\":4,\"PA\":3,\"NP\":2,\"RN\":2.0,\"PharmD\":null,\"MA\":1.0},{\"acute_encounter\":\"Cough and bronchitis\",\"acute_cateogry\":\"Measurements\",\"acute_service\":\"Temp\",\"Phys\":4,\"PA\":3,\"NP\":2,\"RN\":2.0,\"PharmD\":null,\"MA\":1.0},{\"acute_encounter\":\"Cough and bronchitis\",\"acute_cateogry\":\"Patient History\",\"acute_service\":\"Data Collection\",\"Phys\":4,\"PA\":3,\"NP\":2,\"RN\":2.0,\"PharmD\":null,\"MA\":1.0},{\"acute_encounter\":\"Cough and bronchitis\",\"acute_cateogry\":\"Physical Exam\",\"acute_service\":\"Problem Oriented Physical\",\"Phys\":4,\"PA\":3,\"NP\":2,\"RN\":1.0,\"PharmD\":null,\"MA\":null},{\"acute_encounter\":\"Cough and bronchitis\",\"acute_cateogry\":\"Lab\",\"acute_service\":\"Orders\",\"Phys\":4,\"PA\":3,\"NP\":2,\"RN\":1.0,\"PharmD\":null,\"MA\":null},{\"acute_encounter\":\"Cough and bronchitis\",\"acute_cateogry\":\"Lab\",\"acute_service\":\"Results Consultation:\",\"Phys\":4,\"PA\":3,\"NP\":2,\"RN\":1.0,\"PharmD\":null,\"MA\":null},{\"acute_encounter\":\"Cough and bronchitis\",\"acute_cateogry\":\"Pharmacological Treatment\\/Mgmt\",\"acute_service\":\"Orders\\/scripts\",\"Phys\":5,\"PA\":4,\"NP\":3,\"RN\":null,\"PharmD\":1.0,\"MA\":null},{\"acute_encounter\":\"Cough and bronchitis\",\"acute_cateogry\":\"Visit wrap-up\\/care planning\",\"acute_service\":\"Visit wrap-up\\/care planning\",\"Phys\":4,\"PA\":3,\"NP\":2,\"RN\":1.0,\"PharmD\":null,\"MA\":null},{\"acute_encounter\":\"Fever\",\"acute_cateogry\":\"Measurements\",\"acute_service\":\"BP\",\"Phys\":4,\"PA\":3,\"NP\":2,\"RN\":2.0,\"PharmD\":null,\"MA\":1.0},{\"acute_encounter\":\"Fever\",\"acute_cateogry\":\"Measurements\",\"acute_service\":\"Weight\",\"Phys\":4,\"PA\":3,\"NP\":2,\"RN\":2.0,\"PharmD\":null,\"MA\":1.0},{\"acute_encounter\":\"Fever\",\"acute_cateogry\":\"Measurements\",\"acute_service\":\"Temp\",\"Phys\":4,\"PA\":3,\"NP\":2,\"RN\":2.0,\"PharmD\":null,\"MA\":1.0},{\"acute_encounter\":\"Fever\",\"acute_cateogry\":\"Patient History\",\"acute_service\":\"Data Collection\",\"Phys\":4,\"PA\":3,\"NP\":2,\"RN\":2.0,\"PharmD\":null,\"MA\":1.0},{\"acute_encounter\":\"Fever\",\"acute_cateogry\":\"Physical Exam\",\"acute_service\":\"Problem Oriented Physical\",\"Phys\":4,\"PA\":3,\"NP\":2,\"RN\":1.0,\"PharmD\":null,\"MA\":null},{\"acute_encounter\":\"Fever\",\"acute_cateogry\":\"Lab\",\"acute_service\":\"Orders\",\"Phys\":4,\"PA\":3,\"NP\":2,\"RN\":1.0,\"PharmD\":null,\"MA\":null},{\"acute_encounter\":\"Fever\",\"acute_cateogry\":\"Lab\",\"acute_service\":\"Results Consultation:\",\"Phys\":4,\"PA\":3,\"NP\":2,\"RN\":1.0,\"PharmD\":null,\"MA\":null},{\"acute_encounter\":\"Fever\",\"acute_cateogry\":\"Pharmacological Treatment\\/Mgmt\",\"acute_service\":\"Orders\\/scripts\",\"Phys\":5,\"PA\":4,\"NP\":3,\"RN\":null,\"PharmD\":1.0,\"MA\":null},{\"acute_encounter\":\"Fever\",\"acute_cateogry\":\"Visit wrap-up\\/care planning\",\"acute_service\":\"Visit wrap-up\\/care planning\",\"Phys\":4,\"PA\":3,\"NP\":2,\"RN\":1.0,\"PharmD\":null,\"MA\":null},{\"acute_encounter\":\"Headache\",\"acute_cateogry\":\"Measurements\",\"acute_service\":\"BP\",\"Phys\":4,\"PA\":3,\"NP\":2,\"RN\":2.0,\"PharmD\":null,\"MA\":1.0},{\"acute_encounter\":\"Headache\",\"acute_cateogry\":\"Measurements\",\"acute_service\":\"Weight\",\"Phys\":4,\"PA\":3,\"NP\":2,\"RN\":2.0,\"PharmD\":null,\"MA\":1.0},{\"acute_encounter\":\"Headache\",\"acute_cateogry\":\"Measurements\",\"acute_service\":\"Temp\",\"Phys\":4,\"PA\":3,\"NP\":2,\"RN\":2.0,\"PharmD\":null,\"MA\":1.0},{\"acute_encounter\":\"Headache\",\"acute_cateogry\":\"Patient History\",\"acute_service\":\"Data Collection\",\"Phys\":4,\"PA\":3,\"NP\":2,\"RN\":2.0,\"PharmD\":null,\"MA\":1.0},{\"acute_encounter\":\"Headache\",\"acute_cateogry\":\"Physical Exam\",\"acute_service\":\"Problem Oriented Physical\",\"Phys\":4,\"PA\":3,\"NP\":2,\"RN\":1.0,\"PharmD\":null,\"MA\":null},{\"acute_encounter\":\"Headache\",\"acute_cateogry\":\"Lab\",\"acute_service\":\"Orders\",\"Phys\":4,\"PA\":3,\"NP\":2,\"RN\":1.0,\"PharmD\":null,\"MA\":null},{\"acute_encounter\":\"Headache\",\"acute_cateogry\":\"Lab\",\"acute_service\":\"Results Consultation:\",\"Phys\":4,\"PA\":3,\"NP\":2,\"RN\":1.0,\"PharmD\":null,\"MA\":null},{\"acute_encounter\":\"Headache\",\"acute_cateogry\":\"Pharmacological Treatment\\/Mgmt\",\"acute_service\":\"Orders\\/scripts\",\"Phys\":5,\"PA\":4,\"NP\":3,\"RN\":null,\"PharmD\":1.0,\"MA\":null},{\"acute_encounter\":\"Headache\",\"acute_cateogry\":\"Visit wrap-up\\/care planning\",\"acute_service\":\"Visit wrap-up\\/care planning\",\"Phys\":4,\"PA\":3,\"NP\":2,\"RN\":1.0,\"PharmD\":null,\"MA\":null},{\"acute_encounter\":\"Intestinal infectious diseases\",\"acute_cateogry\":\"Measurements\",\"acute_service\":\"BP\",\"Phys\":4,\"PA\":3,\"NP\":2,\"RN\":2.0,\"PharmD\":null,\"MA\":1.0},{\"acute_encounter\":\"Intestinal infectious diseases\",\"acute_cateogry\":\"Measurements\",\"acute_service\":\"Weight\",\"Phys\":4,\"PA\":3,\"NP\":2,\"RN\":2.0,\"PharmD\":null,\"MA\":1.0},{\"acute_encounter\":\"Intestinal infectious diseases\",\"acute_cateogry\":\"Measurements\",\"acute_service\":\"Temp\",\"Phys\":4,\"PA\":3,\"NP\":2,\"RN\":2.0,\"PharmD\":null,\"MA\":1.0},{\"acute_encounter\":\"Intestinal infectious diseases\",\"acute_cateogry\":\"Patient History\",\"acute_service\":\"Data Collection\",\"Phys\":4,\"PA\":3,\"NP\":2,\"RN\":2.0,\"PharmD\":null,\"MA\":1.0},{\"acute_encounter\":\"Intestinal infectious diseases\",\"acute_cateogry\":\"Physical Exam\",\"acute_service\":\"Problem Oriented Physical\",\"Phys\":4,\"PA\":3,\"NP\":2,\"RN\":1.0,\"PharmD\":null,\"MA\":null},{\"acute_encounter\":\"Intestinal infectious diseases\",\"acute_cateogry\":\"Lab\",\"acute_service\":\"Orders\",\"Phys\":4,\"PA\":3,\"NP\":2,\"RN\":1.0,\"PharmD\":null,\"MA\":null},{\"acute_encounter\":\"Intestinal infectious diseases\",\"acute_cateogry\":\"Lab\",\"acute_service\":\"Results Consultation:\",\"Phys\":4,\"PA\":3,\"NP\":2,\"RN\":1.0,\"PharmD\":null,\"MA\":null},{\"acute_encounter\":\"Intestinal infectious diseases\",\"acute_cateogry\":\"Pharmacological Treatment\\/Mgmt\",\"acute_service\":\"Orders\\/scripts\",\"Phys\":5,\"PA\":4,\"NP\":3,\"RN\":null,\"PharmD\":1.0,\"MA\":null},{\"acute_encounter\":\"Intestinal infectious diseases\",\"acute_cateogry\":\"Visit wrap-up\\/care planning\",\"acute_service\":\"Visit wrap-up\\/care planning\",\"Phys\":4,\"PA\":3,\"NP\":2,\"RN\":1.0,\"PharmD\":null,\"MA\":null},{\"acute_encounter\":\"Joint and muscle pain\",\"acute_cateogry\":\"Measurements\",\"acute_service\":\"BP\",\"Phys\":4,\"PA\":3,\"NP\":2,\"RN\":2.0,\"PharmD\":null,\"MA\":1.0},{\"acute_encounter\":\"Joint and muscle pain\",\"acute_cateogry\":\"Measurements\",\"acute_service\":\"Weight\",\"Phys\":4,\"PA\":3,\"NP\":2,\"RN\":2.0,\"PharmD\":null,\"MA\":1.0},{\"acute_encounter\":\"Joint and muscle pain\",\"acute_cateogry\":\"Measurements\",\"acute_service\":\"Temp\",\"Phys\":4,\"PA\":3,\"NP\":2,\"RN\":2.0,\"PharmD\":null,\"MA\":1.0},{\"acute_encounter\":\"Joint and muscle pain\",\"acute_cateogry\":\"Patient History\",\"acute_service\":\"Data Collection\",\"Phys\":4,\"PA\":3,\"NP\":2,\"RN\":2.0,\"PharmD\":null,\"MA\":1.0},{\"acute_encounter\":\"Joint and muscle pain\",\"acute_cateogry\":\"Physical Exam\",\"acute_service\":\"Problem Oriented Physical\",\"Phys\":4,\"PA\":3,\"NP\":2,\"RN\":1.0,\"PharmD\":null,\"MA\":null},{\"acute_encounter\":\"Joint and muscle pain\",\"acute_cateogry\":\"Lab\",\"acute_service\":\"Orders\",\"Phys\":4,\"PA\":3,\"NP\":2,\"RN\":1.0,\"PharmD\":null,\"MA\":null},{\"acute_encounter\":\"Joint and muscle pain\",\"acute_cateogry\":\"Lab\",\"acute_service\":\"Results Consultation:\",\"Phys\":4,\"PA\":3,\"NP\":2,\"RN\":1.0,\"PharmD\":null,\"MA\":null},{\"acute_encounter\":\"Joint and muscle pain\",\"acute_cateogry\":\"Pharmacological Treatment\\/Mgmt\",\"acute_service\":\"Orders\\/scripts\",\"Phys\":5,\"PA\":4,\"NP\":3,\"RN\":null,\"PharmD\":1.0,\"MA\":null},{\"acute_encounter\":\"Joint and muscle pain\",\"acute_cateogry\":\"Visit wrap-up\\/care planning\",\"acute_service\":\"Visit wrap-up\\/care planning\",\"Phys\":4,\"PA\":3,\"NP\":2,\"RN\":1.0,\"PharmD\":null,\"MA\":null},{\"acute_encounter\":\"Migraine\",\"acute_cateogry\":\"Measurements\",\"acute_service\":\"BP\",\"Phys\":4,\"PA\":3,\"NP\":2,\"RN\":2.0,\"PharmD\":null,\"MA\":1.0},{\"acute_encounter\":\"Migraine\",\"acute_cateogry\":\"Measurements\",\"acute_service\":\"Weight\",\"Phys\":4,\"PA\":3,\"NP\":2,\"RN\":2.0,\"PharmD\":null,\"MA\":1.0},{\"acute_encounter\":\"Migraine\",\"acute_cateogry\":\"Measurements\",\"acute_service\":\"Temp\",\"Phys\":4,\"PA\":3,\"NP\":2,\"RN\":2.0,\"PharmD\":null,\"MA\":1.0},{\"acute_encounter\":\"Migraine\",\"acute_cateogry\":\"Patient History\",\"acute_service\":\"Data Collection\",\"Phys\":4,\"PA\":3,\"NP\":2,\"RN\":2.0,\"PharmD\":null,\"MA\":1.0},{\"acute_encounter\":\"Migraine\",\"acute_cateogry\":\"Physical Exam\",\"acute_service\":\"Problem Oriented Physical\",\"Phys\":4,\"PA\":3,\"NP\":2,\"RN\":1.0,\"PharmD\":null,\"MA\":null},{\"acute_encounter\":\"Migraine\",\"acute_cateogry\":\"Lab\",\"acute_service\":\"Orders\",\"Phys\":4,\"PA\":3,\"NP\":2,\"RN\":1.0,\"PharmD\":null,\"MA\":null},{\"acute_encounter\":\"Migraine\",\"acute_cateogry\":\"Lab\",\"acute_service\":\"Results Consultation:\",\"Phys\":4,\"PA\":3,\"NP\":2,\"RN\":1.0,\"PharmD\":null,\"MA\":null},{\"acute_encounter\":\"Migraine\",\"acute_cateogry\":\"Pharmacological Treatment\\/Mgmt\",\"acute_service\":\"Orders\\/scripts\",\"Phys\":5,\"PA\":4,\"NP\":3,\"RN\":null,\"PharmD\":1.0,\"MA\":null},{\"acute_encounter\":\"Migraine\",\"acute_cateogry\":\"Visit wrap-up\\/care planning\",\"acute_service\":\"Visit wrap-up\\/care planning\",\"Phys\":4,\"PA\":3,\"NP\":2,\"RN\":1.0,\"PharmD\":null,\"MA\":null},{\"acute_encounter\":\"Minor trauma\",\"acute_cateogry\":\"Measurements\",\"acute_service\":\"BP\",\"Phys\":4,\"PA\":3,\"NP\":2,\"RN\":2.0,\"PharmD\":null,\"MA\":1.0},{\"acute_encounter\":\"Minor trauma\",\"acute_cateogry\":\"Measurements\",\"acute_service\":\"Weight\",\"Phys\":4,\"PA\":3,\"NP\":2,\"RN\":2.0,\"PharmD\":null,\"MA\":1.0},{\"acute_encounter\":\"Minor trauma\",\"acute_cateogry\":\"Measurements\",\"acute_service\":\"Temp\",\"Phys\":4,\"PA\":3,\"NP\":2,\"RN\":2.0,\"PharmD\":null,\"MA\":1.0},{\"acute_encounter\":\"Minor trauma\",\"acute_cateogry\":\"Patient History\",\"acute_service\":\"Data Collection\",\"Phys\":4,\"PA\":3,\"NP\":2,\"RN\":2.0,\"PharmD\":null,\"MA\":1.0},{\"acute_encounter\":\"Minor trauma\",\"acute_cateogry\":\"Physical Exam\",\"acute_service\":\"Problem Oriented Physical\",\"Phys\":4,\"PA\":3,\"NP\":2,\"RN\":1.0,\"PharmD\":null,\"MA\":null},{\"acute_encounter\":\"Minor trauma\",\"acute_cateogry\":\"Lab\",\"acute_service\":\"Orders\",\"Phys\":4,\"PA\":3,\"NP\":2,\"RN\":1.0,\"PharmD\":null,\"MA\":null},{\"acute_encounter\":\"Minor trauma\",\"acute_cateogry\":\"Lab\",\"acute_service\":\"Results Consultation:\",\"Phys\":4,\"PA\":3,\"NP\":2,\"RN\":1.0,\"PharmD\":null,\"MA\":null},{\"acute_encounter\":\"Minor trauma\",\"acute_cateogry\":\"Pharmacological Treatment\\/Mgmt\",\"acute_service\":\"Orders\\/scripts\",\"Phys\":5,\"PA\":4,\"NP\":3,\"RN\":null,\"PharmD\":1.0,\"MA\":null},{\"acute_encounter\":\"Minor trauma\",\"acute_cateogry\":\"Visit wrap-up\\/care planning\",\"acute_service\":\"Visit wrap-up\\/care planning\",\"Phys\":4,\"PA\":3,\"NP\":2,\"RN\":1.0,\"PharmD\":null,\"MA\":null},{\"acute_encounter\":\"Otitis media\",\"acute_cateogry\":\"Measurements\",\"acute_service\":\"BP\",\"Phys\":4,\"PA\":3,\"NP\":2,\"RN\":2.0,\"PharmD\":null,\"MA\":1.0},{\"acute_encounter\":\"Otitis media\",\"acute_cateogry\":\"Measurements\",\"acute_service\":\"Weight\",\"Phys\":4,\"PA\":3,\"NP\":2,\"RN\":2.0,\"PharmD\":null,\"MA\":1.0},{\"acute_encounter\":\"Otitis media\",\"acute_cateogry\":\"Measurements\",\"acute_service\":\"Temp\",\"Phys\":4,\"PA\":3,\"NP\":2,\"RN\":2.0,\"PharmD\":null,\"MA\":1.0},{\"acute_encounter\":\"Otitis media\",\"acute_cateogry\":\"Patient History\",\"acute_service\":\"Data Collection\",\"Phys\":4,\"PA\":3,\"NP\":2,\"RN\":2.0,\"PharmD\":null,\"MA\":1.0},{\"acute_encounter\":\"Otitis media\",\"acute_cateogry\":\"Physical Exam\",\"acute_service\":\"Problem Oriented Physical\",\"Phys\":4,\"PA\":3,\"NP\":2,\"RN\":1.0,\"PharmD\":null,\"MA\":null},{\"acute_encounter\":\"Otitis media\",\"acute_cateogry\":\"Lab\",\"acute_service\":\"Orders\",\"Phys\":4,\"PA\":3,\"NP\":2,\"RN\":1.0,\"PharmD\":null,\"MA\":null},{\"acute_encounter\":\"Otitis media\",\"acute_cateogry\":\"Lab\",\"acute_service\":\"Results Consultation:\",\"Phys\":4,\"PA\":3,\"NP\":2,\"RN\":1.0,\"PharmD\":null,\"MA\":null},{\"acute_encounter\":\"Otitis media\",\"acute_cateogry\":\"Pharmacological Treatment\\/Mgmt\",\"acute_service\":\"Orders\\/scripts\",\"Phys\":5,\"PA\":4,\"NP\":3,\"RN\":null,\"PharmD\":1.0,\"MA\":null},{\"acute_encounter\":\"Otitis media\",\"acute_cateogry\":\"Visit wrap-up\\/care planning\",\"acute_service\":\"Visit wrap-up\\/care planning\",\"Phys\":4,\"PA\":3,\"NP\":2,\"RN\":1.0,\"PharmD\":null,\"MA\":null},{\"acute_encounter\":\"Skin infection\",\"acute_cateogry\":\"Measurements\",\"acute_service\":\"BP\",\"Phys\":4,\"PA\":3,\"NP\":2,\"RN\":2.0,\"PharmD\":null,\"MA\":1.0},{\"acute_encounter\":\"Skin infection\",\"acute_cateogry\":\"Measurements\",\"acute_service\":\"Weight\",\"Phys\":4,\"PA\":3,\"NP\":2,\"RN\":2.0,\"PharmD\":null,\"MA\":1.0},{\"acute_encounter\":\"Skin infection\",\"acute_cateogry\":\"Measurements\",\"acute_service\":\"Temp\",\"Phys\":4,\"PA\":3,\"NP\":2,\"RN\":2.0,\"PharmD\":null,\"MA\":1.0},{\"acute_encounter\":\"Skin infection\",\"acute_cateogry\":\"Patient History\",\"acute_service\":\"Data Collection\",\"Phys\":4,\"PA\":3,\"NP\":2,\"RN\":2.0,\"PharmD\":null,\"MA\":1.0},{\"acute_encounter\":\"Skin infection\",\"acute_cateogry\":\"Physical Exam\",\"acute_service\":\"Problem Oriented Physical\",\"Phys\":4,\"PA\":3,\"NP\":2,\"RN\":1.0,\"PharmD\":null,\"MA\":null},{\"acute_encounter\":\"Skin infection\",\"acute_cateogry\":\"Lab\",\"acute_service\":\"Orders\",\"Phys\":4,\"PA\":3,\"NP\":2,\"RN\":1.0,\"PharmD\":null,\"MA\":null},{\"acute_encounter\":\"Skin infection\",\"acute_cateogry\":\"Lab\",\"acute_service\":\"Results Consultation:\",\"Phys\":4,\"PA\":3,\"NP\":2,\"RN\":1.0,\"PharmD\":null,\"MA\":null},{\"acute_encounter\":\"Skin infection\",\"acute_cateogry\":\"Pharmacological Treatment\\/Mgmt\",\"acute_service\":\"Orders\\/scripts\",\"Phys\":5,\"PA\":4,\"NP\":3,\"RN\":null,\"PharmD\":1.0,\"MA\":null},{\"acute_encounter\":\"Skin infection\",\"acute_cateogry\":\"Visit wrap-up\\/care planning\",\"acute_service\":\"Visit wrap-up\\/care planning\",\"Phys\":4,\"PA\":3,\"NP\":2,\"RN\":1.0,\"PharmD\":null,\"MA\":null},{\"acute_encounter\":\"Urinary tract infections, vaginitis and urethritis\",\"acute_cateogry\":\"Measurements\",\"acute_service\":\"BP\",\"Phys\":4,\"PA\":3,\"NP\":2,\"RN\":2.0,\"PharmD\":null,\"MA\":1.0},{\"acute_encounter\":\"Urinary tract infections, vaginitis and urethritis\",\"acute_cateogry\":\"Measurements\",\"acute_service\":\"Weight\",\"Phys\":4,\"PA\":3,\"NP\":2,\"RN\":2.0,\"PharmD\":null,\"MA\":1.0},{\"acute_encounter\":\"Urinary tract infections, vaginitis and urethritis\",\"acute_cateogry\":\"Measurements\",\"acute_service\":\"Temp\",\"Phys\":4,\"PA\":3,\"NP\":2,\"RN\":2.0,\"PharmD\":null,\"MA\":1.0},{\"acute_encounter\":\"Urinary tract infections, vaginitis and urethritis\",\"acute_cateogry\":\"Patient History\",\"acute_service\":\"Data Collection\",\"Phys\":4,\"PA\":3,\"NP\":2,\"RN\":2.0,\"PharmD\":null,\"MA\":1.0},{\"acute_encounter\":\"Urinary tract infections, vaginitis and urethritis\",\"acute_cateogry\":\"Physical Exam\",\"acute_service\":\"Problem Oriented Physical\",\"Phys\":4,\"PA\":3,\"NP\":2,\"RN\":1.0,\"PharmD\":null,\"MA\":null},{\"acute_encounter\":\"Urinary tract infections, vaginitis and urethritis\",\"acute_cateogry\":\"Lab\",\"acute_service\":\"Orders\",\"Phys\":4,\"PA\":3,\"NP\":2,\"RN\":1.0,\"PharmD\":null,\"MA\":null},{\"acute_encounter\":\"Urinary tract infections, vaginitis and urethritis\",\"acute_cateogry\":\"Lab\",\"acute_service\":\"Results Consultation:\",\"Phys\":4,\"PA\":3,\"NP\":2,\"RN\":1.0,\"PharmD\":null,\"MA\":null},{\"acute_encounter\":\"Urinary tract infections, vaginitis and urethritis\",\"acute_cateogry\":\"Pharmacological Treatment\\/Mgmt\",\"acute_service\":\"Orders\\/scripts\",\"Phys\":5,\"PA\":4,\"NP\":3,\"RN\":null,\"PharmD\":1.0,\"MA\":null},{\"acute_encounter\":\"Urinary tract infections, vaginitis and urethritis\",\"acute_cateogry\":\"Visit wrap-up\\/care planning\",\"acute_service\":\"Visit wrap-up\\/care planning\",\"Phys\":4,\"PA\":3,\"NP\":2,\"RN\":1.0,\"PharmD\":null,\"MA\":null}]}}\n"
     ]
    },
    {
     "ename": "SystemExit",
     "evalue": "0",
     "output_type": "error",
     "traceback": [
      "An exception has occurred, use %tb to see the full traceback.\n",
      "\u001b[0;31mSystemExit\u001b[0m\u001b[0;31m:\u001b[0m 0\n"
     ]
    },
    {
     "name": "stderr",
     "output_type": "stream",
     "text": [
      "/Users/hopkira/anaconda3/lib/python3.6/site-packages/IPython/core/interactiveshell.py:2971: UserWarning: To exit: use 'exit', 'quit', or Ctrl-D.\n",
      "  warn(\"To exit: use 'exit', 'quit', or Ctrl-D.\", stacklevel=1)\n"
     ]
    }
   ],
   "source": [
    "# check to see if command is understood\n",
    "if command == \"provider_profile\":\n",
    "    result = provider.get_provider_profile(value,provider_list,provider_supply,acute_service_prov_priority)\n",
    "elif command == \"provider_list\":\n",
    "    result = provider.get_provider_list(provider_list)\n",
    "elif command == \"provider_details\":\n",
    "    result = provider.get_all_providers(provider_list,provider_supply,acute_service_prov_priority)   \n",
    "else:\n",
    "    respond(None,command,provider_type, \"ERROR: Unknown function call.\")\n",
    "respond(result,command,value)"
   ]
  },
  {
   "cell_type": "markdown",
   "metadata": {},
   "source": [
    "class GeographicArea:\n",
    "    def __init__(self):\n",
    "        # do stuff\n",
    "    def get_area_list():\n",
    "        # retrieve list of counties\n",
    "    def get_county_data(county):\n",
    "        # get county data\n",
    "    def get_all():\n",
    "        # get all data\n",
    "    def change_state():\n",
    "        # update geo data\n",
    "    def __change_wage(county,provider)\n",
    "        # private function to change wage in pandas\n",
    "        "
   ]
  },
  {
   "cell_type": "code",
   "execution_count": 1,
   "metadata": {},
   "outputs": [],
   "source": [
    "# coding: utf-8\n",
    "#\n",
    "# This is the bare bones of the component 4.1.1 Model Manipulation\n",
    "# It receives a JSON formatted instruction via the command line in\n",
    "# the form:\n",
    "#\n",
    "# python model_manip.py\n",
    "#\n",
    "# Then send a string similar to the following in via std in:\n",
    "# {\"request_type\": \"provider_profile\", \"value\": \"Psych\"}\n",
    "#\n",
    "# It responds via std out with a JSON string that includes the originating call\n",
    "# and an additional response string (which in itself is a JSON string)\n",
    "\n",
    "import pandas as pd\n",
    "import json\n",
    "import sys\n",
    "import os\n",
    "\n",
    "#directory = os.path.abspath(os.path.dirname(os.path.realpath(__file__)) + \"/../test/data_input_component_CSV/\")\n",
    "directory = \"../test/data_input_component_CSV/\"\n",
    "\n",
    "command=\"null\"\n",
    "provider_type=\"null\""
   ]
  },
  {
   "cell_type": "code",
   "execution_count": 2,
   "metadata": {},
   "outputs": [],
   "source": [
    "def respond(response_msg,verb,object,error_msg=None):\n",
    "    \"\"\"Prints a JSON formatted service response to std out and exits the program\n",
    "\n",
    "        Parameters\n",
    "        ----------\n",
    "        response_msg : str, mandatory\n",
    "            The message included in the response attribute of the JSON out\n",
    "        verb : str, mandatory\n",
    "            The command that was received (if any)\n",
    "        object: str, mandatory\n",
    "            The target for the command that was received (if any)\n",
    "        error_msg : str, optional\n",
    "            An error message string\n",
    "    \"\"\"\n",
    "    if (error_msg != None):\n",
    "      response_msg = '{\"error_msg\":\"' + error_msg + '\"}'\n",
    "    response = '{\"request\":[{\"request_type\":\"' + verb + '\", \"value\": \"' + object + '\"}],\"response\":[' + response_msg + ']}'\n",
    "    print (response)\n",
    "    sys.exit(0)"
   ]
  },
  {
   "cell_type": "code",
   "execution_count": 3,
   "metadata": {},
   "outputs": [
    {
     "name": "stdout",
     "output_type": "stream",
     "text": [
      "{\"request_type\": \"provider_profile\", \"value\": \"Psych\"}\n"
     ]
    }
   ],
   "source": [
    "command_string = input(\"\")"
   ]
  },
  {
   "cell_type": "code",
   "execution_count": 4,
   "metadata": {},
   "outputs": [],
   "source": [
    "# parse the command line argument into a JSON object\n",
    "try:\n",
    "    parsed_command = json.loads(command_string)\n",
    "    provider_type = str(parsed_command[\"value\"])\n",
    "    command = str(parsed_command[\"request_type\"])\n",
    "    command\n",
    "    provider_type\n",
    "except Exception as e:\n",
    "    respond(None,command,provider_type, \"ERROR: Could not parse argument: \"+str(e))"
   ]
  },
  {
   "cell_type": "code",
   "execution_count": 5,
   "metadata": {},
   "outputs": [],
   "source": [
    "# check to see if command is understood\n",
    "if command != \"provider_profile\":\n",
    "    respond(None,command,provider_type, \"ERROR: Unknown function call.\")"
   ]
  },
  {
   "cell_type": "code",
   "execution_count": 6,
   "metadata": {},
   "outputs": [],
   "source": [
    "# Next we import the relevant sheets from the Data Input Component (to begin with only three)\n",
    "try:\n",
    "    provider_list = pd.read_csv(directory + \"/provider_list.csv\")\n",
    "    provider_supply = pd.read_csv(directory + \"/provider_supply.csv\")\n",
    "    acute_service_prov_priority = pd.read_csv(directory + \"/acute_service_prov_priority.csv\")\n",
    "except Exception as e:\n",
    "    respond(None,command,provider_type, \"ERROR: Could not read input files.\"+str(e))"
   ]
  },
  {
   "cell_type": "code",
   "execution_count": 7,
   "metadata": {},
   "outputs": [
    {
     "data": {
      "text/html": [
       "<div>\n",
       "<style scoped>\n",
       "    .dataframe tbody tr th:only-of-type {\n",
       "        vertical-align: middle;\n",
       "    }\n",
       "\n",
       "    .dataframe tbody tr th {\n",
       "        vertical-align: top;\n",
       "    }\n",
       "\n",
       "    .dataframe thead th {\n",
       "        text-align: right;\n",
       "    }\n",
       "</style>\n",
       "<table border=\"1\" class=\"dataframe\">\n",
       "  <thead>\n",
       "    <tr style=\"text-align: right;\">\n",
       "      <th></th>\n",
       "      <th>provider_name</th>\n",
       "      <th>provider_abbr</th>\n",
       "      <th>provider_mean_wage</th>\n",
       "    </tr>\n",
       "  </thead>\n",
       "  <tbody>\n",
       "    <tr>\n",
       "      <th>0</th>\n",
       "      <td>Physician</td>\n",
       "      <td>Phys</td>\n",
       "      <td>$177,958.00</td>\n",
       "    </tr>\n",
       "    <tr>\n",
       "      <th>1</th>\n",
       "      <td>Physicial Assistant</td>\n",
       "      <td>PA</td>\n",
       "      <td>$105,690.00</td>\n",
       "    </tr>\n",
       "    <tr>\n",
       "      <th>2</th>\n",
       "      <td>Nurse Practitioner</td>\n",
       "      <td>NP</td>\n",
       "      <td>$95,994.00</td>\n",
       "    </tr>\n",
       "    <tr>\n",
       "      <th>3</th>\n",
       "      <td>Registered Nurse</td>\n",
       "      <td>RN</td>\n",
       "      <td>$57,595.00</td>\n",
       "    </tr>\n",
       "    <tr>\n",
       "      <th>4</th>\n",
       "      <td>Psychiatrist</td>\n",
       "      <td>Psych</td>\n",
       "      <td>$204,194.00</td>\n",
       "    </tr>\n",
       "  </tbody>\n",
       "</table>\n",
       "</div>"
      ],
      "text/plain": [
       "         provider_name provider_abbr provider_mean_wage\n",
       "0            Physician          Phys       $177,958.00 \n",
       "1  Physicial Assistant            PA       $105,690.00 \n",
       "2   Nurse Practitioner            NP        $95,994.00 \n",
       "3     Registered Nurse            RN        $57,595.00 \n",
       "4         Psychiatrist         Psych       $204,194.00 "
      ]
     },
     "execution_count": 7,
     "metadata": {},
     "output_type": "execute_result"
    }
   ],
   "source": [
    "provider_list.head(5)"
   ]
  },
  {
   "cell_type": "code",
   "execution_count": 8,
   "metadata": {},
   "outputs": [
    {
     "data": {
      "text/html": [
       "<div>\n",
       "<style scoped>\n",
       "    .dataframe tbody tr th:only-of-type {\n",
       "        vertical-align: middle;\n",
       "    }\n",
       "\n",
       "    .dataframe tbody tr th {\n",
       "        vertical-align: top;\n",
       "    }\n",
       "\n",
       "    .dataframe thead th {\n",
       "        text-align: right;\n",
       "    }\n",
       "</style>\n",
       "<table border=\"1\" class=\"dataframe\">\n",
       "  <thead>\n",
       "    <tr style=\"text-align: right;\">\n",
       "      <th></th>\n",
       "      <th>provider_name</th>\n",
       "      <th>provider_abbr</th>\n",
       "      <th>provider_mean_wage</th>\n",
       "    </tr>\n",
       "  </thead>\n",
       "  <tbody>\n",
       "    <tr>\n",
       "      <th>4</th>\n",
       "      <td>Psychiatrist</td>\n",
       "      <td>Psych</td>\n",
       "      <td>$204,194.00</td>\n",
       "    </tr>\n",
       "  </tbody>\n",
       "</table>\n",
       "</div>"
      ],
      "text/plain": [
       "  provider_name provider_abbr provider_mean_wage\n",
       "4  Psychiatrist         Psych       $204,194.00 "
      ]
     },
     "execution_count": 8,
     "metadata": {},
     "output_type": "execute_result"
    }
   ],
   "source": [
    "# First we create the header for the provider type with their full title and wage\n",
    "provider_head_profile = provider_list.loc[provider_list['provider_abbr'] == provider_type]\n",
    "# Then we check to see if the requested provider type is in the current provider list\n",
    "if len(provider_head_profile.index) != 1:\n",
    "    respond(None,command,provider_type, \"ERROR: Provider type is not known.\")\n",
    "provider_head_profile"
   ]
  },
  {
   "cell_type": "code",
   "execution_count": 9,
   "metadata": {},
   "outputs": [
    {
     "data": {
      "text/html": [
       "<div>\n",
       "<style scoped>\n",
       "    .dataframe tbody tr th:only-of-type {\n",
       "        vertical-align: middle;\n",
       "    }\n",
       "\n",
       "    .dataframe tbody tr th {\n",
       "        vertical-align: top;\n",
       "    }\n",
       "\n",
       "    .dataframe thead th {\n",
       "        text-align: right;\n",
       "    }\n",
       "</style>\n",
       "<table border=\"1\" class=\"dataframe\">\n",
       "  <thead>\n",
       "    <tr style=\"text-align: right;\">\n",
       "      <th></th>\n",
       "      <th>provider_abbr</th>\n",
       "      <th>provider_county</th>\n",
       "      <th>provider_num</th>\n",
       "      <th>Unnamed: 3</th>\n",
       "      <th>Unnamed: 4</th>\n",
       "      <th>Unnamed: 5</th>\n",
       "    </tr>\n",
       "  </thead>\n",
       "  <tbody>\n",
       "    <tr>\n",
       "      <th>0</th>\n",
       "      <td>Phys</td>\n",
       "      <td>Beaver County</td>\n",
       "      <td>4</td>\n",
       "      <td>NaN</td>\n",
       "      <td>NaN</td>\n",
       "      <td>NaN</td>\n",
       "    </tr>\n",
       "    <tr>\n",
       "      <th>1</th>\n",
       "      <td>Phys</td>\n",
       "      <td>Box Elder County</td>\n",
       "      <td>12</td>\n",
       "      <td>NaN</td>\n",
       "      <td>NaN</td>\n",
       "      <td>NaN</td>\n",
       "    </tr>\n",
       "    <tr>\n",
       "      <th>2</th>\n",
       "      <td>Phys</td>\n",
       "      <td>Cache County</td>\n",
       "      <td>14</td>\n",
       "      <td>NaN</td>\n",
       "      <td>NaN</td>\n",
       "      <td>NaN</td>\n",
       "    </tr>\n",
       "    <tr>\n",
       "      <th>3</th>\n",
       "      <td>Phys</td>\n",
       "      <td>Carbon County</td>\n",
       "      <td>3</td>\n",
       "      <td>NaN</td>\n",
       "      <td>NaN</td>\n",
       "      <td>NaN</td>\n",
       "    </tr>\n",
       "    <tr>\n",
       "      <th>4</th>\n",
       "      <td>Phys</td>\n",
       "      <td>Daggett County</td>\n",
       "      <td>0</td>\n",
       "      <td>NaN</td>\n",
       "      <td>NaN</td>\n",
       "      <td>NaN</td>\n",
       "    </tr>\n",
       "  </tbody>\n",
       "</table>\n",
       "</div>"
      ],
      "text/plain": [
       "  provider_abbr   provider_county  provider_num  Unnamed: 3  Unnamed: 4  \\\n",
       "0          Phys     Beaver County             4         NaN         NaN   \n",
       "1          Phys  Box Elder County            12         NaN         NaN   \n",
       "2          Phys      Cache County            14         NaN         NaN   \n",
       "3          Phys     Carbon County             3         NaN         NaN   \n",
       "4          Phys    Daggett County             0         NaN         NaN   \n",
       "\n",
       "   Unnamed: 5  \n",
       "0         NaN  \n",
       "1         NaN  \n",
       "2         NaN  \n",
       "3         NaN  \n",
       "4         NaN  "
      ]
     },
     "execution_count": 9,
     "metadata": {},
     "output_type": "execute_result"
    }
   ],
   "source": [
    "provider_supply.head(5)"
   ]
  },
  {
   "cell_type": "code",
   "execution_count": 10,
   "metadata": {},
   "outputs": [],
   "source": [
    "# Second, we want to create the geographic profile of the provider type\n",
    "# First we reduce the data frame to the three provider columns\n",
    "provider_supply = provider_supply[['provider_abbr','provider_county','provider_num']]\n",
    "# Then we reduce the data frame to just the rows relevant to the requested provider type\n",
    "provider_supply1 = provider_supply.loc[provider_supply['provider_abbr'] == provider_type]\n",
    "# Finally we strip out the provider abbrevialtion column as it is now redundant\n",
    "provider_supply_profile = provider_supply1[['provider_county','provider_num']]"
   ]
  },
  {
   "cell_type": "code",
   "execution_count": 11,
   "metadata": {},
   "outputs": [
    {
     "data": {
      "text/html": [
       "<div>\n",
       "<style scoped>\n",
       "    .dataframe tbody tr th:only-of-type {\n",
       "        vertical-align: middle;\n",
       "    }\n",
       "\n",
       "    .dataframe tbody tr th {\n",
       "        vertical-align: top;\n",
       "    }\n",
       "\n",
       "    .dataframe thead th {\n",
       "        text-align: right;\n",
       "    }\n",
       "</style>\n",
       "<table border=\"1\" class=\"dataframe\">\n",
       "  <thead>\n",
       "    <tr style=\"text-align: right;\">\n",
       "      <th></th>\n",
       "      <th>provider_county</th>\n",
       "      <th>provider_num</th>\n",
       "    </tr>\n",
       "  </thead>\n",
       "  <tbody>\n",
       "    <tr>\n",
       "      <th>148</th>\n",
       "      <td>Beaver County</td>\n",
       "      <td>0</td>\n",
       "    </tr>\n",
       "    <tr>\n",
       "      <th>149</th>\n",
       "      <td>Box Elder County</td>\n",
       "      <td>2</td>\n",
       "    </tr>\n",
       "    <tr>\n",
       "      <th>150</th>\n",
       "      <td>Cache County</td>\n",
       "      <td>22</td>\n",
       "    </tr>\n",
       "    <tr>\n",
       "      <th>151</th>\n",
       "      <td>Carbon County</td>\n",
       "      <td>1</td>\n",
       "    </tr>\n",
       "    <tr>\n",
       "      <th>152</th>\n",
       "      <td>Daggett County</td>\n",
       "      <td>0</td>\n",
       "    </tr>\n",
       "  </tbody>\n",
       "</table>\n",
       "</div>"
      ],
      "text/plain": [
       "      provider_county  provider_num\n",
       "148     Beaver County             0\n",
       "149  Box Elder County             2\n",
       "150      Cache County            22\n",
       "151     Carbon County             1\n",
       "152    Daggett County             0"
      ]
     },
     "execution_count": 11,
     "metadata": {},
     "output_type": "execute_result"
    }
   ],
   "source": [
    "provider_supply_profile.head(5)"
   ]
  },
  {
   "cell_type": "code",
   "execution_count": 12,
   "metadata": {},
   "outputs": [
    {
     "data": {
      "text/html": [
       "<div>\n",
       "<style scoped>\n",
       "    .dataframe tbody tr th:only-of-type {\n",
       "        vertical-align: middle;\n",
       "    }\n",
       "\n",
       "    .dataframe tbody tr th {\n",
       "        vertical-align: top;\n",
       "    }\n",
       "\n",
       "    .dataframe thead th {\n",
       "        text-align: right;\n",
       "    }\n",
       "</style>\n",
       "<table border=\"1\" class=\"dataframe\">\n",
       "  <thead>\n",
       "    <tr style=\"text-align: right;\">\n",
       "      <th></th>\n",
       "      <th>acute_encounter</th>\n",
       "      <th>acute_cateogry</th>\n",
       "      <th>acute_service</th>\n",
       "      <th>Phys</th>\n",
       "      <th>PA</th>\n",
       "      <th>NP</th>\n",
       "      <th>RN</th>\n",
       "      <th>Psych</th>\n",
       "      <th>LCSW</th>\n",
       "      <th>CMHC</th>\n",
       "      <th>MFT</th>\n",
       "      <th>PharmD</th>\n",
       "      <th>MA</th>\n",
       "      <th>Educ</th>\n",
       "      <th>Unnamed: 14</th>\n",
       "    </tr>\n",
       "  </thead>\n",
       "  <tbody>\n",
       "    <tr>\n",
       "      <th>0</th>\n",
       "      <td>Abdominal pain</td>\n",
       "      <td>Measurements</td>\n",
       "      <td>BP</td>\n",
       "      <td>4</td>\n",
       "      <td>3</td>\n",
       "      <td>2</td>\n",
       "      <td>2.0</td>\n",
       "      <td>NaN</td>\n",
       "      <td>NaN</td>\n",
       "      <td>NaN</td>\n",
       "      <td>NaN</td>\n",
       "      <td>NaN</td>\n",
       "      <td>1.0</td>\n",
       "      <td>NaN</td>\n",
       "      <td>NaN</td>\n",
       "    </tr>\n",
       "    <tr>\n",
       "      <th>1</th>\n",
       "      <td>Abdominal pain</td>\n",
       "      <td>Measurements</td>\n",
       "      <td>Weight</td>\n",
       "      <td>4</td>\n",
       "      <td>3</td>\n",
       "      <td>2</td>\n",
       "      <td>2.0</td>\n",
       "      <td>NaN</td>\n",
       "      <td>NaN</td>\n",
       "      <td>NaN</td>\n",
       "      <td>NaN</td>\n",
       "      <td>NaN</td>\n",
       "      <td>1.0</td>\n",
       "      <td>NaN</td>\n",
       "      <td>NaN</td>\n",
       "    </tr>\n",
       "    <tr>\n",
       "      <th>2</th>\n",
       "      <td>Abdominal pain</td>\n",
       "      <td>Measurements</td>\n",
       "      <td>Temp</td>\n",
       "      <td>4</td>\n",
       "      <td>3</td>\n",
       "      <td>2</td>\n",
       "      <td>2.0</td>\n",
       "      <td>NaN</td>\n",
       "      <td>NaN</td>\n",
       "      <td>NaN</td>\n",
       "      <td>NaN</td>\n",
       "      <td>NaN</td>\n",
       "      <td>1.0</td>\n",
       "      <td>NaN</td>\n",
       "      <td>NaN</td>\n",
       "    </tr>\n",
       "    <tr>\n",
       "      <th>3</th>\n",
       "      <td>Abdominal pain</td>\n",
       "      <td>Patient History</td>\n",
       "      <td>Data Collection</td>\n",
       "      <td>4</td>\n",
       "      <td>3</td>\n",
       "      <td>2</td>\n",
       "      <td>2.0</td>\n",
       "      <td>NaN</td>\n",
       "      <td>NaN</td>\n",
       "      <td>NaN</td>\n",
       "      <td>NaN</td>\n",
       "      <td>NaN</td>\n",
       "      <td>1.0</td>\n",
       "      <td>NaN</td>\n",
       "      <td>NaN</td>\n",
       "    </tr>\n",
       "    <tr>\n",
       "      <th>4</th>\n",
       "      <td>Abdominal pain</td>\n",
       "      <td>Physical Exam</td>\n",
       "      <td>Problem Oriented Physical</td>\n",
       "      <td>4</td>\n",
       "      <td>3</td>\n",
       "      <td>2</td>\n",
       "      <td>1.0</td>\n",
       "      <td>NaN</td>\n",
       "      <td>NaN</td>\n",
       "      <td>NaN</td>\n",
       "      <td>NaN</td>\n",
       "      <td>NaN</td>\n",
       "      <td>NaN</td>\n",
       "      <td>NaN</td>\n",
       "      <td>NaN</td>\n",
       "    </tr>\n",
       "  </tbody>\n",
       "</table>\n",
       "</div>"
      ],
      "text/plain": [
       "  acute_encounter   acute_cateogry              acute_service  Phys  PA  NP  \\\n",
       "0  Abdominal pain     Measurements                         BP     4   3   2   \n",
       "1  Abdominal pain     Measurements                     Weight     4   3   2   \n",
       "2  Abdominal pain     Measurements                       Temp     4   3   2   \n",
       "3  Abdominal pain  Patient History            Data Collection     4   3   2   \n",
       "4  Abdominal pain    Physical Exam  Problem Oriented Physical     4   3   2   \n",
       "\n",
       "    RN  Psych  LCSW  CMHC  MFT  PharmD   MA  Educ  Unnamed: 14  \n",
       "0  2.0    NaN   NaN   NaN  NaN     NaN  1.0   NaN          NaN  \n",
       "1  2.0    NaN   NaN   NaN  NaN     NaN  1.0   NaN          NaN  \n",
       "2  2.0    NaN   NaN   NaN  NaN     NaN  1.0   NaN          NaN  \n",
       "3  2.0    NaN   NaN   NaN  NaN     NaN  1.0   NaN          NaN  \n",
       "4  1.0    NaN   NaN   NaN  NaN     NaN  NaN   NaN          NaN  "
      ]
     },
     "execution_count": 12,
     "metadata": {},
     "output_type": "execute_result"
    }
   ],
   "source": [
    "acute_service_prov_priority.head(5)"
   ]
  },
  {
   "cell_type": "code",
   "execution_count": 13,
   "metadata": {},
   "outputs": [
    {
     "data": {
      "text/html": [
       "<div>\n",
       "<style scoped>\n",
       "    .dataframe tbody tr th:only-of-type {\n",
       "        vertical-align: middle;\n",
       "    }\n",
       "\n",
       "    .dataframe tbody tr th {\n",
       "        vertical-align: top;\n",
       "    }\n",
       "\n",
       "    .dataframe thead th {\n",
       "        text-align: right;\n",
       "    }\n",
       "</style>\n",
       "<table border=\"1\" class=\"dataframe\">\n",
       "  <thead>\n",
       "    <tr style=\"text-align: right;\">\n",
       "      <th></th>\n",
       "      <th>priority</th>\n",
       "      <th>acute_encounter</th>\n",
       "      <th>acute_cateogry</th>\n",
       "      <th>acute_service</th>\n",
       "    </tr>\n",
       "  </thead>\n",
       "  <tbody>\n",
       "    <tr>\n",
       "      <th>5</th>\n",
       "      <td>NaN</td>\n",
       "      <td>Abdominal pain</td>\n",
       "      <td>Lab</td>\n",
       "      <td>Orders</td>\n",
       "    </tr>\n",
       "    <tr>\n",
       "      <th>6</th>\n",
       "      <td>NaN</td>\n",
       "      <td>Abdominal pain</td>\n",
       "      <td>Lab</td>\n",
       "      <td>Results Consultation:</td>\n",
       "    </tr>\n",
       "    <tr>\n",
       "      <th>0</th>\n",
       "      <td>NaN</td>\n",
       "      <td>Abdominal pain</td>\n",
       "      <td>Measurements</td>\n",
       "      <td>BP</td>\n",
       "    </tr>\n",
       "    <tr>\n",
       "      <th>2</th>\n",
       "      <td>NaN</td>\n",
       "      <td>Abdominal pain</td>\n",
       "      <td>Measurements</td>\n",
       "      <td>Temp</td>\n",
       "    </tr>\n",
       "    <tr>\n",
       "      <th>1</th>\n",
       "      <td>NaN</td>\n",
       "      <td>Abdominal pain</td>\n",
       "      <td>Measurements</td>\n",
       "      <td>Weight</td>\n",
       "    </tr>\n",
       "    <tr>\n",
       "      <th>3</th>\n",
       "      <td>NaN</td>\n",
       "      <td>Abdominal pain</td>\n",
       "      <td>Patient History</td>\n",
       "      <td>Data Collection</td>\n",
       "    </tr>\n",
       "    <tr>\n",
       "      <th>7</th>\n",
       "      <td>NaN</td>\n",
       "      <td>Abdominal pain</td>\n",
       "      <td>Pharmacological Treatment/Mgmt</td>\n",
       "      <td>Orders/scripts</td>\n",
       "    </tr>\n",
       "    <tr>\n",
       "      <th>4</th>\n",
       "      <td>NaN</td>\n",
       "      <td>Abdominal pain</td>\n",
       "      <td>Physical Exam</td>\n",
       "      <td>Problem Oriented Physical</td>\n",
       "    </tr>\n",
       "    <tr>\n",
       "      <th>8</th>\n",
       "      <td>NaN</td>\n",
       "      <td>Abdominal pain</td>\n",
       "      <td>Visit wrap-up/care planning</td>\n",
       "      <td>Visit wrap-up/care planning</td>\n",
       "    </tr>\n",
       "    <tr>\n",
       "      <th>14</th>\n",
       "      <td>NaN</td>\n",
       "      <td>Chest pain</td>\n",
       "      <td>Lab</td>\n",
       "      <td>Orders</td>\n",
       "    </tr>\n",
       "  </tbody>\n",
       "</table>\n",
       "</div>"
      ],
      "text/plain": [
       "    priority acute_encounter                  acute_cateogry  \\\n",
       "5        NaN  Abdominal pain                             Lab   \n",
       "6        NaN  Abdominal pain                             Lab   \n",
       "0        NaN  Abdominal pain                    Measurements   \n",
       "2        NaN  Abdominal pain                    Measurements   \n",
       "1        NaN  Abdominal pain                    Measurements   \n",
       "3        NaN  Abdominal pain                 Patient History   \n",
       "7        NaN  Abdominal pain  Pharmacological Treatment/Mgmt   \n",
       "4        NaN  Abdominal pain                   Physical Exam   \n",
       "8        NaN  Abdominal pain     Visit wrap-up/care planning   \n",
       "14       NaN      Chest pain                             Lab   \n",
       "\n",
       "                  acute_service  \n",
       "5                        Orders  \n",
       "6         Results Consultation:  \n",
       "0                            BP  \n",
       "2                          Temp  \n",
       "1                        Weight  \n",
       "3               Data Collection  \n",
       "7                Orders/scripts  \n",
       "4     Problem Oriented Physical  \n",
       "8   Visit wrap-up/care planning  \n",
       "14                       Orders  "
      ]
     },
     "execution_count": 13,
     "metadata": {},
     "output_type": "execute_result"
    }
   ],
   "source": [
    "# For the final part of the profile, we change the provider type column in the service\n",
    "# to provider mapping matrix to the priority column that we will output\n",
    "acute_service_prov_priority.rename(columns={provider_type: 'priority'}, inplace=True)\n",
    "# We then order the services from the most suitable for that provider down to the\n",
    "# ones that they are not allowed to perform\n",
    "acute_service_prov_priority=acute_service_prov_priority.sort_values(by=['priority','acute_encounter','acute_cateogry','acute_service'])\n",
    "# We then reduce the output of the dataframe to the needed four columns\n",
    "profile_services = acute_service_prov_priority[['priority','acute_encounter','acute_cateogry','acute_service']]\n",
    "profile_services.head(10)"
   ]
  },
  {
   "cell_type": "code",
   "execution_count": 14,
   "metadata": {},
   "outputs": [],
   "source": [
    "def strip_brackets(JSON_string):\n",
    "    \"\"\"Strips the brackets\n",
    "\n",
    "        Parameters\n",
    "        ----------\n",
    "        JSON_string : str, mandatory\n",
    "            The JSON string to strip the leading and trailing end brackets from\n",
    "    \"\"\"\n",
    "    result = JSON_string.strip(\"[]\")\n",
    "    return result"
   ]
  },
  {
   "cell_type": "code",
   "execution_count": 15,
   "metadata": {},
   "outputs": [
    {
     "name": "stdout",
     "output_type": "stream",
     "text": [
      "{\"request\":[{\"request_type\":\"provider_profile\", \"value\": \"Psych\"}],\"response\":[{\"header\":[{\"provider_name\":\"Psychiatrist\",\"provider_abbr\":\"Psych\",\"provider_mean_wage\":\" $204,194.00 \"}],\"supply\":[{\"provider_county\":\"Beaver County\",\"provider_num\":0},{\"provider_county\":\"Box Elder County\",\"provider_num\":2},{\"provider_county\":\"Cache County\",\"provider_num\":22},{\"provider_county\":\"Carbon County\",\"provider_num\":1},{\"provider_county\":\"Daggett County\",\"provider_num\":0},{\"provider_county\":\"Davis County\",\"provider_num\":16},{\"provider_county\":\"Duchesne County\",\"provider_num\":1},{\"provider_county\":\"Emery County\",\"provider_num\":0},{\"provider_county\":\"Garfield County\",\"provider_num\":0},{\"provider_county\":\"Grand County\",\"provider_num\":2},{\"provider_county\":\"Iron County\",\"provider_num\":1},{\"provider_county\":\"Juab County\",\"provider_num\":0},{\"provider_county\":\"Kane County\",\"provider_num\":0},{\"provider_county\":\"Millard County\",\"provider_num\":0},{\"provider_county\":\"Morgan County\",\"provider_num\":0},{\"provider_county\":\"Piute County\",\"provider_num\":0},{\"provider_county\":\"Rich County\",\"provider_num\":0},{\"provider_county\":\"Salt Lake County\",\"provider_num\":12},{\"provider_county\":\"San Juan County\",\"provider_num\":175},{\"provider_county\":\"Sanpete County\",\"provider_num\":1},{\"provider_county\":\"Sevier County\",\"provider_num\":1},{\"provider_county\":\"Summit County\",\"provider_num\":6},{\"provider_county\":\"Tooele County\",\"provider_num\":1},{\"provider_county\":\"Uintah County\",\"provider_num\":1},{\"provider_county\":\"Utah County\",\"provider_num\":76},{\"provider_county\":\"Wasatch County\",\"provider_num\":0},{\"provider_county\":\"Washington County\",\"provider_num\":11},{\"provider_county\":\"Wayne County\",\"provider_num\":0},{\"provider_county\":\"Weber County\",\"provider_num\":18},{\"provider_county\":\"Bear River MCD\",\"provider_num\":24},{\"provider_county\":\"Central MCD\",\"provider_num\":2},{\"provider_county\":\"Mountainland MCD\",\"provider_num\":82},{\"provider_county\":\"Southeast MCD\",\"provider_num\":178},{\"provider_county\":\"Southwest MCD\",\"provider_num\":12},{\"provider_county\":\"Uintah Basin MCD\",\"provider_num\":2},{\"provider_county\":\"Wasatch MCD\",\"provider_num\":47},{\"provider_county\":\"State of Utah\",\"provider_num\":347}],\"services\":[{\"priority\":null,\"acute_encounter\":\"Abdominal pain\",\"acute_cateogry\":\"Lab\",\"acute_service\":\"Orders\"},{\"priority\":null,\"acute_encounter\":\"Abdominal pain\",\"acute_cateogry\":\"Lab\",\"acute_service\":\"Results Consultation:\"},{\"priority\":null,\"acute_encounter\":\"Abdominal pain\",\"acute_cateogry\":\"Measurements\",\"acute_service\":\"BP\"},{\"priority\":null,\"acute_encounter\":\"Abdominal pain\",\"acute_cateogry\":\"Measurements\",\"acute_service\":\"Temp\"},{\"priority\":null,\"acute_encounter\":\"Abdominal pain\",\"acute_cateogry\":\"Measurements\",\"acute_service\":\"Weight\"},{\"priority\":null,\"acute_encounter\":\"Abdominal pain\",\"acute_cateogry\":\"Patient History\",\"acute_service\":\"Data Collection\"},{\"priority\":null,\"acute_encounter\":\"Abdominal pain\",\"acute_cateogry\":\"Pharmacological Treatment\\/Mgmt\",\"acute_service\":\"Orders\\/scripts\"},{\"priority\":null,\"acute_encounter\":\"Abdominal pain\",\"acute_cateogry\":\"Physical Exam\",\"acute_service\":\"Problem Oriented Physical\"},{\"priority\":null,\"acute_encounter\":\"Abdominal pain\",\"acute_cateogry\":\"Visit wrap-up\\/care planning\",\"acute_service\":\"Visit wrap-up\\/care planning\"},{\"priority\":null,\"acute_encounter\":\"Chest pain\",\"acute_cateogry\":\"Lab\",\"acute_service\":\"Orders\"},{\"priority\":null,\"acute_encounter\":\"Chest pain\",\"acute_cateogry\":\"Lab\",\"acute_service\":\"Results Consultation:\"},{\"priority\":null,\"acute_encounter\":\"Chest pain\",\"acute_cateogry\":\"Measurements\",\"acute_service\":\"BP\"},{\"priority\":null,\"acute_encounter\":\"Chest pain\",\"acute_cateogry\":\"Measurements\",\"acute_service\":\"Temp\"},{\"priority\":null,\"acute_encounter\":\"Chest pain\",\"acute_cateogry\":\"Measurements\",\"acute_service\":\"Weight\"},{\"priority\":null,\"acute_encounter\":\"Chest pain\",\"acute_cateogry\":\"Patient History\",\"acute_service\":\"Data Collection\"},{\"priority\":null,\"acute_encounter\":\"Chest pain\",\"acute_cateogry\":\"Pharmacological Treatment\\/Mgmt\",\"acute_service\":\"Orders\\/scripts\"},{\"priority\":null,\"acute_encounter\":\"Chest pain\",\"acute_cateogry\":\"Physical Exam\",\"acute_service\":\"Problem Oriented Physical\"},{\"priority\":null,\"acute_encounter\":\"Chest pain\",\"acute_cateogry\":\"Visit wrap-up\\/care planning\",\"acute_service\":\"Visit wrap-up\\/care planning\"},{\"priority\":null,\"acute_encounter\":\"Cough and bronchitis\",\"acute_cateogry\":\"Lab\",\"acute_service\":\"Orders\"},{\"priority\":null,\"acute_encounter\":\"Cough and bronchitis\",\"acute_cateogry\":\"Lab\",\"acute_service\":\"Results Consultation:\"},{\"priority\":null,\"acute_encounter\":\"Cough and bronchitis\",\"acute_cateogry\":\"Measurements\",\"acute_service\":\"BP\"},{\"priority\":null,\"acute_encounter\":\"Cough and bronchitis\",\"acute_cateogry\":\"Measurements\",\"acute_service\":\"Temp\"},{\"priority\":null,\"acute_encounter\":\"Cough and bronchitis\",\"acute_cateogry\":\"Measurements\",\"acute_service\":\"Weight\"},{\"priority\":null,\"acute_encounter\":\"Cough and bronchitis\",\"acute_cateogry\":\"Patient History\",\"acute_service\":\"Data Collection\"},{\"priority\":null,\"acute_encounter\":\"Cough and bronchitis\",\"acute_cateogry\":\"Pharmacological Treatment\\/Mgmt\",\"acute_service\":\"Orders\\/scripts\"},{\"priority\":null,\"acute_encounter\":\"Cough and bronchitis\",\"acute_cateogry\":\"Physical Exam\",\"acute_service\":\"Problem Oriented Physical\"},{\"priority\":null,\"acute_encounter\":\"Cough and bronchitis\",\"acute_cateogry\":\"Visit wrap-up\\/care planning\",\"acute_service\":\"Visit wrap-up\\/care planning\"},{\"priority\":null,\"acute_encounter\":\"Fever\",\"acute_cateogry\":\"Lab\",\"acute_service\":\"Orders\"},{\"priority\":null,\"acute_encounter\":\"Fever\",\"acute_cateogry\":\"Lab\",\"acute_service\":\"Results Consultation:\"},{\"priority\":null,\"acute_encounter\":\"Fever\",\"acute_cateogry\":\"Measurements\",\"acute_service\":\"BP\"},{\"priority\":null,\"acute_encounter\":\"Fever\",\"acute_cateogry\":\"Measurements\",\"acute_service\":\"Temp\"},{\"priority\":null,\"acute_encounter\":\"Fever\",\"acute_cateogry\":\"Measurements\",\"acute_service\":\"Weight\"},{\"priority\":null,\"acute_encounter\":\"Fever\",\"acute_cateogry\":\"Patient History\",\"acute_service\":\"Data Collection\"},{\"priority\":null,\"acute_encounter\":\"Fever\",\"acute_cateogry\":\"Pharmacological Treatment\\/Mgmt\",\"acute_service\":\"Orders\\/scripts\"},{\"priority\":null,\"acute_encounter\":\"Fever\",\"acute_cateogry\":\"Physical Exam\",\"acute_service\":\"Problem Oriented Physical\"},{\"priority\":null,\"acute_encounter\":\"Fever\",\"acute_cateogry\":\"Visit wrap-up\\/care planning\",\"acute_service\":\"Visit wrap-up\\/care planning\"},{\"priority\":null,\"acute_encounter\":\"Headache\",\"acute_cateogry\":\"Lab\",\"acute_service\":\"Orders\"},{\"priority\":null,\"acute_encounter\":\"Headache\",\"acute_cateogry\":\"Lab\",\"acute_service\":\"Results Consultation:\"},{\"priority\":null,\"acute_encounter\":\"Headache\",\"acute_cateogry\":\"Measurements\",\"acute_service\":\"BP\"},{\"priority\":null,\"acute_encounter\":\"Headache\",\"acute_cateogry\":\"Measurements\",\"acute_service\":\"Temp\"},{\"priority\":null,\"acute_encounter\":\"Headache\",\"acute_cateogry\":\"Measurements\",\"acute_service\":\"Weight\"},{\"priority\":null,\"acute_encounter\":\"Headache\",\"acute_cateogry\":\"Patient History\",\"acute_service\":\"Data Collection\"},{\"priority\":null,\"acute_encounter\":\"Headache\",\"acute_cateogry\":\"Pharmacological Treatment\\/Mgmt\",\"acute_service\":\"Orders\\/scripts\"},{\"priority\":null,\"acute_encounter\":\"Headache\",\"acute_cateogry\":\"Physical Exam\",\"acute_service\":\"Problem Oriented Physical\"},{\"priority\":null,\"acute_encounter\":\"Headache\",\"acute_cateogry\":\"Visit wrap-up\\/care planning\",\"acute_service\":\"Visit wrap-up\\/care planning\"},{\"priority\":null,\"acute_encounter\":\"Intestinal infectious diseases\",\"acute_cateogry\":\"Lab\",\"acute_service\":\"Orders\"},{\"priority\":null,\"acute_encounter\":\"Intestinal infectious diseases\",\"acute_cateogry\":\"Lab\",\"acute_service\":\"Results Consultation:\"},{\"priority\":null,\"acute_encounter\":\"Intestinal infectious diseases\",\"acute_cateogry\":\"Measurements\",\"acute_service\":\"BP\"},{\"priority\":null,\"acute_encounter\":\"Intestinal infectious diseases\",\"acute_cateogry\":\"Measurements\",\"acute_service\":\"Temp\"},{\"priority\":null,\"acute_encounter\":\"Intestinal infectious diseases\",\"acute_cateogry\":\"Measurements\",\"acute_service\":\"Weight\"},{\"priority\":null,\"acute_encounter\":\"Intestinal infectious diseases\",\"acute_cateogry\":\"Patient History\",\"acute_service\":\"Data Collection\"},{\"priority\":null,\"acute_encounter\":\"Intestinal infectious diseases\",\"acute_cateogry\":\"Pharmacological Treatment\\/Mgmt\",\"acute_service\":\"Orders\\/scripts\"},{\"priority\":null,\"acute_encounter\":\"Intestinal infectious diseases\",\"acute_cateogry\":\"Physical Exam\",\"acute_service\":\"Problem Oriented Physical\"},{\"priority\":null,\"acute_encounter\":\"Intestinal infectious diseases\",\"acute_cateogry\":\"Visit wrap-up\\/care planning\",\"acute_service\":\"Visit wrap-up\\/care planning\"},{\"priority\":null,\"acute_encounter\":\"Joint and muscle pain\",\"acute_cateogry\":\"Lab\",\"acute_service\":\"Orders\"},{\"priority\":null,\"acute_encounter\":\"Joint and muscle pain\",\"acute_cateogry\":\"Lab\",\"acute_service\":\"Results Consultation:\"},{\"priority\":null,\"acute_encounter\":\"Joint and muscle pain\",\"acute_cateogry\":\"Measurements\",\"acute_service\":\"BP\"},{\"priority\":null,\"acute_encounter\":\"Joint and muscle pain\",\"acute_cateogry\":\"Measurements\",\"acute_service\":\"Temp\"},{\"priority\":null,\"acute_encounter\":\"Joint and muscle pain\",\"acute_cateogry\":\"Measurements\",\"acute_service\":\"Weight\"},{\"priority\":null,\"acute_encounter\":\"Joint and muscle pain\",\"acute_cateogry\":\"Patient History\",\"acute_service\":\"Data Collection\"},{\"priority\":null,\"acute_encounter\":\"Joint and muscle pain\",\"acute_cateogry\":\"Pharmacological Treatment\\/Mgmt\",\"acute_service\":\"Orders\\/scripts\"},{\"priority\":null,\"acute_encounter\":\"Joint and muscle pain\",\"acute_cateogry\":\"Physical Exam\",\"acute_service\":\"Problem Oriented Physical\"},{\"priority\":null,\"acute_encounter\":\"Joint and muscle pain\",\"acute_cateogry\":\"Visit wrap-up\\/care planning\",\"acute_service\":\"Visit wrap-up\\/care planning\"},{\"priority\":null,\"acute_encounter\":\"Migraine\",\"acute_cateogry\":\"Lab\",\"acute_service\":\"Orders\"},{\"priority\":null,\"acute_encounter\":\"Migraine\",\"acute_cateogry\":\"Lab\",\"acute_service\":\"Results Consultation:\"},{\"priority\":null,\"acute_encounter\":\"Migraine\",\"acute_cateogry\":\"Measurements\",\"acute_service\":\"BP\"},{\"priority\":null,\"acute_encounter\":\"Migraine\",\"acute_cateogry\":\"Measurements\",\"acute_service\":\"Temp\"},{\"priority\":null,\"acute_encounter\":\"Migraine\",\"acute_cateogry\":\"Measurements\",\"acute_service\":\"Weight\"},{\"priority\":null,\"acute_encounter\":\"Migraine\",\"acute_cateogry\":\"Patient History\",\"acute_service\":\"Data Collection\"},{\"priority\":null,\"acute_encounter\":\"Migraine\",\"acute_cateogry\":\"Pharmacological Treatment\\/Mgmt\",\"acute_service\":\"Orders\\/scripts\"},{\"priority\":null,\"acute_encounter\":\"Migraine\",\"acute_cateogry\":\"Physical Exam\",\"acute_service\":\"Problem Oriented Physical\"},{\"priority\":null,\"acute_encounter\":\"Migraine\",\"acute_cateogry\":\"Visit wrap-up\\/care planning\",\"acute_service\":\"Visit wrap-up\\/care planning\"},{\"priority\":null,\"acute_encounter\":\"Minor trauma\",\"acute_cateogry\":\"Lab\",\"acute_service\":\"Orders\"},{\"priority\":null,\"acute_encounter\":\"Minor trauma\",\"acute_cateogry\":\"Lab\",\"acute_service\":\"Results Consultation:\"},{\"priority\":null,\"acute_encounter\":\"Minor trauma\",\"acute_cateogry\":\"Measurements\",\"acute_service\":\"BP\"},{\"priority\":null,\"acute_encounter\":\"Minor trauma\",\"acute_cateogry\":\"Measurements\",\"acute_service\":\"Temp\"},{\"priority\":null,\"acute_encounter\":\"Minor trauma\",\"acute_cateogry\":\"Measurements\",\"acute_service\":\"Weight\"},{\"priority\":null,\"acute_encounter\":\"Minor trauma\",\"acute_cateogry\":\"Patient History\",\"acute_service\":\"Data Collection\"},{\"priority\":null,\"acute_encounter\":\"Minor trauma\",\"acute_cateogry\":\"Pharmacological Treatment\\/Mgmt\",\"acute_service\":\"Orders\\/scripts\"},{\"priority\":null,\"acute_encounter\":\"Minor trauma\",\"acute_cateogry\":\"Physical Exam\",\"acute_service\":\"Problem Oriented Physical\"},{\"priority\":null,\"acute_encounter\":\"Minor trauma\",\"acute_cateogry\":\"Visit wrap-up\\/care planning\",\"acute_service\":\"Visit wrap-up\\/care planning\"},{\"priority\":null,\"acute_encounter\":\"Otitis media\",\"acute_cateogry\":\"Lab\",\"acute_service\":\"Orders\"},{\"priority\":null,\"acute_encounter\":\"Otitis media\",\"acute_cateogry\":\"Lab\",\"acute_service\":\"Results Consultation:\"},{\"priority\":null,\"acute_encounter\":\"Otitis media\",\"acute_cateogry\":\"Measurements\",\"acute_service\":\"BP\"},{\"priority\":null,\"acute_encounter\":\"Otitis media\",\"acute_cateogry\":\"Measurements\",\"acute_service\":\"Temp\"},{\"priority\":null,\"acute_encounter\":\"Otitis media\",\"acute_cateogry\":\"Measurements\",\"acute_service\":\"Weight\"},{\"priority\":null,\"acute_encounter\":\"Otitis media\",\"acute_cateogry\":\"Patient History\",\"acute_service\":\"Data Collection\"},{\"priority\":null,\"acute_encounter\":\"Otitis media\",\"acute_cateogry\":\"Pharmacological Treatment\\/Mgmt\",\"acute_service\":\"Orders\\/scripts\"},{\"priority\":null,\"acute_encounter\":\"Otitis media\",\"acute_cateogry\":\"Physical Exam\",\"acute_service\":\"Problem Oriented Physical\"},{\"priority\":null,\"acute_encounter\":\"Otitis media\",\"acute_cateogry\":\"Visit wrap-up\\/care planning\",\"acute_service\":\"Visit wrap-up\\/care planning\"},{\"priority\":null,\"acute_encounter\":\"Skin infection\",\"acute_cateogry\":\"Lab\",\"acute_service\":\"Orders\"},{\"priority\":null,\"acute_encounter\":\"Skin infection\",\"acute_cateogry\":\"Lab\",\"acute_service\":\"Results Consultation:\"},{\"priority\":null,\"acute_encounter\":\"Skin infection\",\"acute_cateogry\":\"Measurements\",\"acute_service\":\"BP\"},{\"priority\":null,\"acute_encounter\":\"Skin infection\",\"acute_cateogry\":\"Measurements\",\"acute_service\":\"Temp\"},{\"priority\":null,\"acute_encounter\":\"Skin infection\",\"acute_cateogry\":\"Measurements\",\"acute_service\":\"Weight\"},{\"priority\":null,\"acute_encounter\":\"Skin infection\",\"acute_cateogry\":\"Patient History\",\"acute_service\":\"Data Collection\"},{\"priority\":null,\"acute_encounter\":\"Skin infection\",\"acute_cateogry\":\"Pharmacological Treatment\\/Mgmt\",\"acute_service\":\"Orders\\/scripts\"},{\"priority\":null,\"acute_encounter\":\"Skin infection\",\"acute_cateogry\":\"Physical Exam\",\"acute_service\":\"Problem Oriented Physical\"},{\"priority\":null,\"acute_encounter\":\"Skin infection\",\"acute_cateogry\":\"Visit wrap-up\\/care planning\",\"acute_service\":\"Visit wrap-up\\/care planning\"},{\"priority\":null,\"acute_encounter\":\"Urinary tract infections, vaginitis and urethritis\",\"acute_cateogry\":\"Lab\",\"acute_service\":\"Orders\"},{\"priority\":null,\"acute_encounter\":\"Urinary tract infections, vaginitis and urethritis\",\"acute_cateogry\":\"Lab\",\"acute_service\":\"Results Consultation:\"},{\"priority\":null,\"acute_encounter\":\"Urinary tract infections, vaginitis and urethritis\",\"acute_cateogry\":\"Measurements\",\"acute_service\":\"BP\"},{\"priority\":null,\"acute_encounter\":\"Urinary tract infections, vaginitis and urethritis\",\"acute_cateogry\":\"Measurements\",\"acute_service\":\"Temp\"},{\"priority\":null,\"acute_encounter\":\"Urinary tract infections, vaginitis and urethritis\",\"acute_cateogry\":\"Measurements\",\"acute_service\":\"Weight\"},{\"priority\":null,\"acute_encounter\":\"Urinary tract infections, vaginitis and urethritis\",\"acute_cateogry\":\"Patient History\",\"acute_service\":\"Data Collection\"},{\"priority\":null,\"acute_encounter\":\"Urinary tract infections, vaginitis and urethritis\",\"acute_cateogry\":\"Pharmacological Treatment\\/Mgmt\",\"acute_service\":\"Orders\\/scripts\"},{\"priority\":null,\"acute_encounter\":\"Urinary tract infections, vaginitis and urethritis\",\"acute_cateogry\":\"Physical Exam\",\"acute_service\":\"Problem Oriented Physical\"},{\"priority\":null,\"acute_encounter\":\"Urinary tract infections, vaginitis and urethritis\",\"acute_cateogry\":\"Visit wrap-up\\/care planning\",\"acute_service\":\"Visit wrap-up\\/care planning\"}]}]}\n"
     ]
    },
    {
     "ename": "SystemExit",
     "evalue": "0",
     "output_type": "error",
     "traceback": [
      "An exception has occurred, use %tb to see the full traceback.\n",
      "\u001b[0;31mSystemExit\u001b[0m\u001b[0;31m:\u001b[0m 0\n"
     ]
    },
    {
     "name": "stderr",
     "output_type": "stream",
     "text": [
      "/Users/hopkira/anaconda3/lib/python3.6/site-packages/IPython/core/interactiveshell.py:2971: UserWarning: To exit: use 'exit', 'quit', or Ctrl-D.\n",
      "  warn(\"To exit: use 'exit', 'quit', or Ctrl-D.\", stacklevel=1)\n"
     ]
    }
   ],
   "source": [
    "# Finally we assemble the final JSON output from the three separate bits of the profile\n",
    "out = '{\"header\":' + provider_head_profile.to_json(orient='records') + ','\n",
    "out = out + '\"supply\":' + provider_supply_profile.to_json(orient='records') + ','\n",
    "out = out + '\"services\":' + profile_services.to_json(orient='records') + '}'\n",
    "# And issue them via std out and exit\n",
    "#respond(out,command,provider_type)\n",
    "respond(out,command,provider_type)"
   ]
  },
  {
   "cell_type": "code",
   "execution_count": null,
   "metadata": {},
   "outputs": [],
   "source": []
  }
 ],
 "metadata": {
  "kernelspec": {
   "display_name": "Python 3",
   "language": "python",
   "name": "python3"
  },
  "language_info": {
   "codemirror_mode": {
    "name": "ipython",
    "version": 3
   },
   "file_extension": ".py",
   "mimetype": "text/x-python",
   "name": "python",
   "nbconvert_exporter": "python",
   "pygments_lexer": "ipython3",
   "version": "3.6.5"
  }
 },
 "nbformat": 4,
 "nbformat_minor": 2
}
