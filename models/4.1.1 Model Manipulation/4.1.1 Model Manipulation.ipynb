{
 "cells": [
  {
   "cell_type": "markdown",
   "metadata": {},
   "source": [
    "# Provider Profile"
   ]
  },
  {
   "cell_type": "markdown",
   "metadata": {},
   "source": [
    "To begin with we are going to try and provide a Provider Profile.  First of all import Pandas to manipulate the spreadsheet data as a set of tables."
   ]
  },
  {
   "cell_type": "code",
   "execution_count": 372,
   "metadata": {},
   "outputs": [
    {
     "data": {
      "text/plain": [
       "'provider_profile'"
      ]
     },
     "execution_count": 372,
     "metadata": {},
     "output_type": "execute_result"
    }
   ],
   "source": [
    "import pandas as pd\n",
    "import json\n",
    "command_string='{\"request_type\": \"provider_profile\", \"value\": \"RN\"}'\n",
    "parsed_command = json.loads(command_string)\n",
    "provider_type = str(parsed_command[\"value\"])\n",
    "command = str(parsed_command[\"request_type\"])\n",
    "directory = \"/Users/hopkira/Documents/healthcare-workforce/models/test/Data Input Component CSV/\"\n",
    "command"
   ]
  },
  {
   "cell_type": "code",
   "execution_count": 373,
   "metadata": {},
   "outputs": [
    {
     "data": {
      "text/plain": [
       "'RN'"
      ]
     },
     "execution_count": 373,
     "metadata": {},
     "output_type": "execute_result"
    }
   ],
   "source": [
    "provider_type"
   ]
  },
  {
   "cell_type": "code",
   "execution_count": 374,
   "metadata": {},
   "outputs": [],
   "source": [
    "def respond(response_msg):\n",
    "    response = '[{\"request_type\":' + command + ', \"value\": \"' + provider_type + '\"}{\"response\":\"' + response_msg + '\"}]'\n",
    "    print (response)"
   ]
  },
  {
   "cell_type": "code",
   "execution_count": 375,
   "metadata": {},
   "outputs": [],
   "source": [
    "if command != \"provider_profile\":\n",
    "    respond(\"ERROR: Unknown function call.\")"
   ]
  },
  {
   "cell_type": "markdown",
   "metadata": {},
   "source": [
    "Next we import the relevant sheets from the Data Input Component (to begin with only three)"
   ]
  },
  {
   "cell_type": "code",
   "execution_count": 376,
   "metadata": {},
   "outputs": [],
   "source": [
    "provider_list = pd.read_csv(directory + \"provider_list.csv\")\n",
    "provider_supply = pd.read_csv(directory + \"provider_supply.csv\")\n",
    "acute_service_prov_priority = pd.read_csv(directory + \"acute_service_prov_priority.csv\")\n"
   ]
  },
  {
   "cell_type": "code",
   "execution_count": 378,
   "metadata": {},
   "outputs": [
    {
     "data": {
      "text/html": [
       "<div>\n",
       "<style scoped>\n",
       "    .dataframe tbody tr th:only-of-type {\n",
       "        vertical-align: middle;\n",
       "    }\n",
       "\n",
       "    .dataframe tbody tr th {\n",
       "        vertical-align: top;\n",
       "    }\n",
       "\n",
       "    .dataframe thead th {\n",
       "        text-align: right;\n",
       "    }\n",
       "</style>\n",
       "<table border=\"1\" class=\"dataframe\">\n",
       "  <thead>\n",
       "    <tr style=\"text-align: right;\">\n",
       "      <th></th>\n",
       "      <th>provider_name</th>\n",
       "      <th>provider_abbr</th>\n",
       "      <th>provider_mean_wage</th>\n",
       "    </tr>\n",
       "  </thead>\n",
       "  <tbody>\n",
       "    <tr>\n",
       "      <th>0</th>\n",
       "      <td>Physician</td>\n",
       "      <td>Phys</td>\n",
       "      <td>$177,958.00</td>\n",
       "    </tr>\n",
       "    <tr>\n",
       "      <th>1</th>\n",
       "      <td>Physicial Assistant</td>\n",
       "      <td>PA</td>\n",
       "      <td>$105,690.00</td>\n",
       "    </tr>\n",
       "    <tr>\n",
       "      <th>2</th>\n",
       "      <td>Nurse Practitioner</td>\n",
       "      <td>NP</td>\n",
       "      <td>$95,994.00</td>\n",
       "    </tr>\n",
       "    <tr>\n",
       "      <th>3</th>\n",
       "      <td>Registered Nurse</td>\n",
       "      <td>RN</td>\n",
       "      <td>$57,595.00</td>\n",
       "    </tr>\n",
       "    <tr>\n",
       "      <th>4</th>\n",
       "      <td>Psychiatrist</td>\n",
       "      <td>Psych</td>\n",
       "      <td>$204,194.00</td>\n",
       "    </tr>\n",
       "  </tbody>\n",
       "</table>\n",
       "</div>"
      ],
      "text/plain": [
       "         provider_name provider_abbr provider_mean_wage\n",
       "0            Physician          Phys       $177,958.00 \n",
       "1  Physicial Assistant            PA       $105,690.00 \n",
       "2   Nurse Practitioner            NP        $95,994.00 \n",
       "3     Registered Nurse            RN        $57,595.00 \n",
       "4         Psychiatrist         Psych       $204,194.00 "
      ]
     },
     "execution_count": 378,
     "metadata": {},
     "output_type": "execute_result"
    }
   ],
   "source": [
    "provider_list.head(5)"
   ]
  },
  {
   "cell_type": "code",
   "execution_count": 379,
   "metadata": {},
   "outputs": [
    {
     "data": {
      "text/html": [
       "<div>\n",
       "<style scoped>\n",
       "    .dataframe tbody tr th:only-of-type {\n",
       "        vertical-align: middle;\n",
       "    }\n",
       "\n",
       "    .dataframe tbody tr th {\n",
       "        vertical-align: top;\n",
       "    }\n",
       "\n",
       "    .dataframe thead th {\n",
       "        text-align: right;\n",
       "    }\n",
       "</style>\n",
       "<table border=\"1\" class=\"dataframe\">\n",
       "  <thead>\n",
       "    <tr style=\"text-align: right;\">\n",
       "      <th></th>\n",
       "      <th>provider_name</th>\n",
       "      <th>provider_abbr</th>\n",
       "      <th>provider_mean_wage</th>\n",
       "    </tr>\n",
       "  </thead>\n",
       "  <tbody>\n",
       "    <tr>\n",
       "      <th>3</th>\n",
       "      <td>Registered Nurse</td>\n",
       "      <td>RN</td>\n",
       "      <td>$57,595.00</td>\n",
       "    </tr>\n",
       "  </tbody>\n",
       "</table>\n",
       "</div>"
      ],
      "text/plain": [
       "      provider_name provider_abbr provider_mean_wage\n",
       "3  Registered Nurse            RN        $57,595.00 "
      ]
     },
     "execution_count": 379,
     "metadata": {},
     "output_type": "execute_result"
    }
   ],
   "source": [
    "provider_head_profile = provider_list.loc[provider_list['provider_abbr'] == provider_type]\n",
    "if len(provider_head_profile.index) != 1:\n",
    "    respond(\"ERROR: Provider type is not known.\")\n",
    "provider_head_profile"
   ]
  },
  {
   "cell_type": "code",
   "execution_count": 380,
   "metadata": {},
   "outputs": [],
   "source": [
    "provider_supply.head(5)\n",
    "provider_supply = provider_supply[['provider_abbr','provider_county','provider_num']]"
   ]
  },
  {
   "cell_type": "code",
   "execution_count": 381,
   "metadata": {},
   "outputs": [],
   "source": [
    "provider_supply1 = provider_supply.loc[provider_supply['provider_abbr'] == provider_type]"
   ]
  },
  {
   "cell_type": "code",
   "execution_count": 382,
   "metadata": {},
   "outputs": [
    {
     "data": {
      "text/html": [
       "<div>\n",
       "<style scoped>\n",
       "    .dataframe tbody tr th:only-of-type {\n",
       "        vertical-align: middle;\n",
       "    }\n",
       "\n",
       "    .dataframe tbody tr th {\n",
       "        vertical-align: top;\n",
       "    }\n",
       "\n",
       "    .dataframe thead th {\n",
       "        text-align: right;\n",
       "    }\n",
       "</style>\n",
       "<table border=\"1\" class=\"dataframe\">\n",
       "  <thead>\n",
       "    <tr style=\"text-align: right;\">\n",
       "      <th></th>\n",
       "      <th>provider_county</th>\n",
       "      <th>provider_num</th>\n",
       "    </tr>\n",
       "  </thead>\n",
       "  <tbody>\n",
       "    <tr>\n",
       "      <th>111</th>\n",
       "      <td>Beaver County</td>\n",
       "      <td>1</td>\n",
       "    </tr>\n",
       "    <tr>\n",
       "      <th>112</th>\n",
       "      <td>Box Elder County</td>\n",
       "      <td>15</td>\n",
       "    </tr>\n",
       "    <tr>\n",
       "      <th>113</th>\n",
       "      <td>Cache County</td>\n",
       "      <td>87</td>\n",
       "    </tr>\n",
       "    <tr>\n",
       "      <th>114</th>\n",
       "      <td>Carbon County</td>\n",
       "      <td>23</td>\n",
       "    </tr>\n",
       "    <tr>\n",
       "      <th>115</th>\n",
       "      <td>Daggett County</td>\n",
       "      <td>2</td>\n",
       "    </tr>\n",
       "  </tbody>\n",
       "</table>\n",
       "</div>"
      ],
      "text/plain": [
       "      provider_county  provider_num\n",
       "111     Beaver County             1\n",
       "112  Box Elder County            15\n",
       "113      Cache County            87\n",
       "114     Carbon County            23\n",
       "115    Daggett County             2"
      ]
     },
     "execution_count": 382,
     "metadata": {},
     "output_type": "execute_result"
    }
   ],
   "source": [
    "provider_supply_profile = provider_supply1[['provider_county','provider_num']]\n",
    "provider_supply_profile.head(5)"
   ]
  },
  {
   "cell_type": "code",
   "execution_count": 383,
   "metadata": {},
   "outputs": [
    {
     "data": {
      "text/html": [
       "<div>\n",
       "<style scoped>\n",
       "    .dataframe tbody tr th:only-of-type {\n",
       "        vertical-align: middle;\n",
       "    }\n",
       "\n",
       "    .dataframe tbody tr th {\n",
       "        vertical-align: top;\n",
       "    }\n",
       "\n",
       "    .dataframe thead th {\n",
       "        text-align: right;\n",
       "    }\n",
       "</style>\n",
       "<table border=\"1\" class=\"dataframe\">\n",
       "  <thead>\n",
       "    <tr style=\"text-align: right;\">\n",
       "      <th></th>\n",
       "      <th>acute_encounter</th>\n",
       "      <th>acute_cateogry</th>\n",
       "      <th>acute_service</th>\n",
       "      <th>Phys</th>\n",
       "      <th>PA</th>\n",
       "      <th>NP</th>\n",
       "      <th>RN</th>\n",
       "      <th>Psych</th>\n",
       "      <th>LCSW</th>\n",
       "      <th>CMHC</th>\n",
       "      <th>MFT</th>\n",
       "      <th>PharmD</th>\n",
       "      <th>MA</th>\n",
       "      <th>Educ</th>\n",
       "      <th>Unnamed: 14</th>\n",
       "    </tr>\n",
       "  </thead>\n",
       "  <tbody>\n",
       "    <tr>\n",
       "      <th>0</th>\n",
       "      <td>Abdominal pain</td>\n",
       "      <td>Measurements</td>\n",
       "      <td>BP</td>\n",
       "      <td>4</td>\n",
       "      <td>3</td>\n",
       "      <td>2</td>\n",
       "      <td>2.0</td>\n",
       "      <td>NaN</td>\n",
       "      <td>NaN</td>\n",
       "      <td>NaN</td>\n",
       "      <td>NaN</td>\n",
       "      <td>NaN</td>\n",
       "      <td>1.0</td>\n",
       "      <td>NaN</td>\n",
       "      <td>NaN</td>\n",
       "    </tr>\n",
       "    <tr>\n",
       "      <th>1</th>\n",
       "      <td>Abdominal pain</td>\n",
       "      <td>Measurements</td>\n",
       "      <td>Weight</td>\n",
       "      <td>4</td>\n",
       "      <td>3</td>\n",
       "      <td>2</td>\n",
       "      <td>2.0</td>\n",
       "      <td>NaN</td>\n",
       "      <td>NaN</td>\n",
       "      <td>NaN</td>\n",
       "      <td>NaN</td>\n",
       "      <td>NaN</td>\n",
       "      <td>1.0</td>\n",
       "      <td>NaN</td>\n",
       "      <td>NaN</td>\n",
       "    </tr>\n",
       "    <tr>\n",
       "      <th>2</th>\n",
       "      <td>Abdominal pain</td>\n",
       "      <td>Measurements</td>\n",
       "      <td>Temp</td>\n",
       "      <td>4</td>\n",
       "      <td>3</td>\n",
       "      <td>2</td>\n",
       "      <td>2.0</td>\n",
       "      <td>NaN</td>\n",
       "      <td>NaN</td>\n",
       "      <td>NaN</td>\n",
       "      <td>NaN</td>\n",
       "      <td>NaN</td>\n",
       "      <td>1.0</td>\n",
       "      <td>NaN</td>\n",
       "      <td>NaN</td>\n",
       "    </tr>\n",
       "    <tr>\n",
       "      <th>3</th>\n",
       "      <td>Abdominal pain</td>\n",
       "      <td>Patient History</td>\n",
       "      <td>Data Collection</td>\n",
       "      <td>4</td>\n",
       "      <td>3</td>\n",
       "      <td>2</td>\n",
       "      <td>2.0</td>\n",
       "      <td>NaN</td>\n",
       "      <td>NaN</td>\n",
       "      <td>NaN</td>\n",
       "      <td>NaN</td>\n",
       "      <td>NaN</td>\n",
       "      <td>1.0</td>\n",
       "      <td>NaN</td>\n",
       "      <td>NaN</td>\n",
       "    </tr>\n",
       "    <tr>\n",
       "      <th>4</th>\n",
       "      <td>Abdominal pain</td>\n",
       "      <td>Physical Exam</td>\n",
       "      <td>Problem Oriented Physical</td>\n",
       "      <td>4</td>\n",
       "      <td>3</td>\n",
       "      <td>2</td>\n",
       "      <td>1.0</td>\n",
       "      <td>NaN</td>\n",
       "      <td>NaN</td>\n",
       "      <td>NaN</td>\n",
       "      <td>NaN</td>\n",
       "      <td>NaN</td>\n",
       "      <td>NaN</td>\n",
       "      <td>NaN</td>\n",
       "      <td>NaN</td>\n",
       "    </tr>\n",
       "  </tbody>\n",
       "</table>\n",
       "</div>"
      ],
      "text/plain": [
       "  acute_encounter   acute_cateogry              acute_service  Phys  PA  NP  \\\n",
       "0  Abdominal pain     Measurements                         BP     4   3   2   \n",
       "1  Abdominal pain     Measurements                     Weight     4   3   2   \n",
       "2  Abdominal pain     Measurements                       Temp     4   3   2   \n",
       "3  Abdominal pain  Patient History            Data Collection     4   3   2   \n",
       "4  Abdominal pain    Physical Exam  Problem Oriented Physical     4   3   2   \n",
       "\n",
       "    RN  Psych  LCSW  CMHC  MFT  PharmD   MA  Educ  Unnamed: 14  \n",
       "0  2.0    NaN   NaN   NaN  NaN     NaN  1.0   NaN          NaN  \n",
       "1  2.0    NaN   NaN   NaN  NaN     NaN  1.0   NaN          NaN  \n",
       "2  2.0    NaN   NaN   NaN  NaN     NaN  1.0   NaN          NaN  \n",
       "3  2.0    NaN   NaN   NaN  NaN     NaN  1.0   NaN          NaN  \n",
       "4  1.0    NaN   NaN   NaN  NaN     NaN  NaN   NaN          NaN  "
      ]
     },
     "execution_count": 383,
     "metadata": {},
     "output_type": "execute_result"
    }
   ],
   "source": [
    "acute_service_prov_priority.head(5)"
   ]
  },
  {
   "cell_type": "code",
   "execution_count": 384,
   "metadata": {
    "scrolled": false
   },
   "outputs": [
    {
     "data": {
      "text/html": [
       "<div>\n",
       "<style scoped>\n",
       "    .dataframe tbody tr th:only-of-type {\n",
       "        vertical-align: middle;\n",
       "    }\n",
       "\n",
       "    .dataframe tbody tr th {\n",
       "        vertical-align: top;\n",
       "    }\n",
       "\n",
       "    .dataframe thead th {\n",
       "        text-align: right;\n",
       "    }\n",
       "</style>\n",
       "<table border=\"1\" class=\"dataframe\">\n",
       "  <thead>\n",
       "    <tr style=\"text-align: right;\">\n",
       "      <th></th>\n",
       "      <th>priority</th>\n",
       "      <th>acute_encounter</th>\n",
       "      <th>acute_cateogry</th>\n",
       "      <th>acute_service</th>\n",
       "    </tr>\n",
       "  </thead>\n",
       "  <tbody>\n",
       "    <tr>\n",
       "      <th>5</th>\n",
       "      <td>1.0</td>\n",
       "      <td>Abdominal pain</td>\n",
       "      <td>Lab</td>\n",
       "      <td>Orders</td>\n",
       "    </tr>\n",
       "    <tr>\n",
       "      <th>6</th>\n",
       "      <td>1.0</td>\n",
       "      <td>Abdominal pain</td>\n",
       "      <td>Lab</td>\n",
       "      <td>Results Consultation:</td>\n",
       "    </tr>\n",
       "    <tr>\n",
       "      <th>4</th>\n",
       "      <td>1.0</td>\n",
       "      <td>Abdominal pain</td>\n",
       "      <td>Physical Exam</td>\n",
       "      <td>Problem Oriented Physical</td>\n",
       "    </tr>\n",
       "    <tr>\n",
       "      <th>8</th>\n",
       "      <td>1.0</td>\n",
       "      <td>Abdominal pain</td>\n",
       "      <td>Visit wrap-up/care planning</td>\n",
       "      <td>Visit wrap-up/care planning</td>\n",
       "    </tr>\n",
       "    <tr>\n",
       "      <th>14</th>\n",
       "      <td>1.0</td>\n",
       "      <td>Chest pain</td>\n",
       "      <td>Lab</td>\n",
       "      <td>Orders</td>\n",
       "    </tr>\n",
       "    <tr>\n",
       "      <th>15</th>\n",
       "      <td>1.0</td>\n",
       "      <td>Chest pain</td>\n",
       "      <td>Lab</td>\n",
       "      <td>Results Consultation:</td>\n",
       "    </tr>\n",
       "    <tr>\n",
       "      <th>13</th>\n",
       "      <td>1.0</td>\n",
       "      <td>Chest pain</td>\n",
       "      <td>Physical Exam</td>\n",
       "      <td>Problem Oriented Physical</td>\n",
       "    </tr>\n",
       "    <tr>\n",
       "      <th>17</th>\n",
       "      <td>1.0</td>\n",
       "      <td>Chest pain</td>\n",
       "      <td>Visit wrap-up/care planning</td>\n",
       "      <td>Visit wrap-up/care planning</td>\n",
       "    </tr>\n",
       "    <tr>\n",
       "      <th>23</th>\n",
       "      <td>1.0</td>\n",
       "      <td>Cough and bronchitis</td>\n",
       "      <td>Lab</td>\n",
       "      <td>Orders</td>\n",
       "    </tr>\n",
       "    <tr>\n",
       "      <th>24</th>\n",
       "      <td>1.0</td>\n",
       "      <td>Cough and bronchitis</td>\n",
       "      <td>Lab</td>\n",
       "      <td>Results Consultation:</td>\n",
       "    </tr>\n",
       "  </tbody>\n",
       "</table>\n",
       "</div>"
      ],
      "text/plain": [
       "    priority       acute_encounter               acute_cateogry  \\\n",
       "5        1.0        Abdominal pain                          Lab   \n",
       "6        1.0        Abdominal pain                          Lab   \n",
       "4        1.0        Abdominal pain                Physical Exam   \n",
       "8        1.0        Abdominal pain  Visit wrap-up/care planning   \n",
       "14       1.0            Chest pain                          Lab   \n",
       "15       1.0            Chest pain                          Lab   \n",
       "13       1.0            Chest pain                Physical Exam   \n",
       "17       1.0            Chest pain  Visit wrap-up/care planning   \n",
       "23       1.0  Cough and bronchitis                          Lab   \n",
       "24       1.0  Cough and bronchitis                          Lab   \n",
       "\n",
       "                  acute_service  \n",
       "5                        Orders  \n",
       "6         Results Consultation:  \n",
       "4     Problem Oriented Physical  \n",
       "8   Visit wrap-up/care planning  \n",
       "14                       Orders  \n",
       "15        Results Consultation:  \n",
       "13    Problem Oriented Physical  \n",
       "17  Visit wrap-up/care planning  \n",
       "23                       Orders  \n",
       "24        Results Consultation:  "
      ]
     },
     "execution_count": 384,
     "metadata": {},
     "output_type": "execute_result"
    }
   ],
   "source": [
    "acute_service_prov_priority.rename(columns={provider_type: 'priority'}, inplace=True)\n",
    "acute_service_prov_priority=acute_service_prov_priority.sort_values(by=['priority','acute_encounter','acute_cateogry','acute_service'])\n",
    "profile_services = acute_service_prov_priority[['priority','acute_encounter','acute_cateogry','acute_service']]\n",
    "profile_services.head(10)\n"
   ]
  },
  {
   "cell_type": "code",
   "execution_count": 385,
   "metadata": {},
   "outputs": [],
   "source": [
    "def strip_brackets(JSON_string):\n",
    "    result = JSON_string.strip(\"[]\")\n",
    "    return result"
   ]
  },
  {
   "cell_type": "code",
   "execution_count": 386,
   "metadata": {},
   "outputs": [
    {
     "name": "stdout",
     "output_type": "stream",
     "text": [
      "[{\"request_type\":provider_profile, \"value\": \"RN\"}{\"response\":\"[{\"provider_name\":\"Registered Nurse\",\"provider_abbr\":\"RN\",\"provider_mean_wage\":\" $57,595.00 \"}][{\"provider_county\":\"Beaver County\",\"provider_num\":1},{\"provider_county\":\"Box Elder County\",\"provider_num\":15},{\"provider_county\":\"Cache County\",\"provider_num\":87},{\"provider_county\":\"Carbon County\",\"provider_num\":23},{\"provider_county\":\"Daggett County\",\"provider_num\":2},{\"provider_county\":\"Davis County\",\"provider_num\":155},{\"provider_county\":\"Duchesne County\",\"provider_num\":8},{\"provider_county\":\"Emery County\",\"provider_num\":6},{\"provider_county\":\"Garfield County\",\"provider_num\":2},{\"provider_county\":\"Grand County\",\"provider_num\":8},{\"provider_county\":\"Iron County\",\"provider_num\":30},{\"provider_county\":\"Juab County\",\"provider_num\":4},{\"provider_county\":\"Kane County\",\"provider_num\":3},{\"provider_county\":\"Millard County\",\"provider_num\":7},{\"provider_county\":\"Morgan County\",\"provider_num\":5},{\"provider_county\":\"Piute County\",\"provider_num\":2},{\"provider_county\":\"Rich County\",\"provider_num\":4},{\"provider_county\":\"Salt Lake County\",\"provider_num\":977},{\"provider_county\":\"San Juan County\",\"provider_num\":10},{\"provider_county\":\"Sanpete County\",\"provider_num\":8},{\"provider_county\":\"Sevier County\",\"provider_num\":14},{\"provider_county\":\"Summit County\",\"provider_num\":25},{\"provider_county\":\"Tooele County\",\"provider_num\":15},{\"provider_county\":\"Uintah County\",\"provider_num\":15},{\"provider_county\":\"Utah County\",\"provider_num\":352},{\"provider_county\":\"Wasatch County\",\"provider_num\":12},{\"provider_county\":\"Washington County\",\"provider_num\":103},{\"provider_county\":\"Wayne County\",\"provider_num\":2},{\"provider_county\":\"Weber County\",\"provider_num\":230},{\"provider_county\":\"Bear River MCD\",\"provider_num\":106},{\"provider_county\":\"Central MCD\",\"provider_num\":37},{\"provider_county\":\"Mountainland MCD\",\"provider_num\":389},{\"provider_county\":\"Southeast MCD\",\"provider_num\":47},{\"provider_county\":\"Southwest MCD\",\"provider_num\":139},{\"provider_county\":\"Uintah Basin MCD\",\"provider_num\":25},{\"provider_county\":\"Wasatch MCD\",\"provider_num\":1382},{\"provider_county\":\"State of Utah\",\"provider_num\":2125}][{\"priority\":1.0,\"acute_encounter\":\"Abdominal pain\",\"acute_cateogry\":\"Lab\",\"acute_service\":\"Orders\"},{\"priority\":1.0,\"acute_encounter\":\"Abdominal pain\",\"acute_cateogry\":\"Lab\",\"acute_service\":\"Results Consultation:\"},{\"priority\":1.0,\"acute_encounter\":\"Abdominal pain\",\"acute_cateogry\":\"Physical Exam\",\"acute_service\":\"Problem Oriented Physical\"},{\"priority\":1.0,\"acute_encounter\":\"Abdominal pain\",\"acute_cateogry\":\"Visit wrap-up\\/care planning\",\"acute_service\":\"Visit wrap-up\\/care planning\"},{\"priority\":1.0,\"acute_encounter\":\"Chest pain\",\"acute_cateogry\":\"Lab\",\"acute_service\":\"Orders\"},{\"priority\":1.0,\"acute_encounter\":\"Chest pain\",\"acute_cateogry\":\"Lab\",\"acute_service\":\"Results Consultation:\"},{\"priority\":1.0,\"acute_encounter\":\"Chest pain\",\"acute_cateogry\":\"Physical Exam\",\"acute_service\":\"Problem Oriented Physical\"},{\"priority\":1.0,\"acute_encounter\":\"Chest pain\",\"acute_cateogry\":\"Visit wrap-up\\/care planning\",\"acute_service\":\"Visit wrap-up\\/care planning\"},{\"priority\":1.0,\"acute_encounter\":\"Cough and bronchitis\",\"acute_cateogry\":\"Lab\",\"acute_service\":\"Orders\"},{\"priority\":1.0,\"acute_encounter\":\"Cough and bronchitis\",\"acute_cateogry\":\"Lab\",\"acute_service\":\"Results Consultation:\"},{\"priority\":1.0,\"acute_encounter\":\"Cough and bronchitis\",\"acute_cateogry\":\"Physical Exam\",\"acute_service\":\"Problem Oriented Physical\"},{\"priority\":1.0,\"acute_encounter\":\"Cough and bronchitis\",\"acute_cateogry\":\"Visit wrap-up\\/care planning\",\"acute_service\":\"Visit wrap-up\\/care planning\"},{\"priority\":1.0,\"acute_encounter\":\"Fever\",\"acute_cateogry\":\"Lab\",\"acute_service\":\"Orders\"},{\"priority\":1.0,\"acute_encounter\":\"Fever\",\"acute_cateogry\":\"Lab\",\"acute_service\":\"Results Consultation:\"},{\"priority\":1.0,\"acute_encounter\":\"Fever\",\"acute_cateogry\":\"Physical Exam\",\"acute_service\":\"Problem Oriented Physical\"},{\"priority\":1.0,\"acute_encounter\":\"Fever\",\"acute_cateogry\":\"Visit wrap-up\\/care planning\",\"acute_service\":\"Visit wrap-up\\/care planning\"},{\"priority\":1.0,\"acute_encounter\":\"Headache\",\"acute_cateogry\":\"Lab\",\"acute_service\":\"Orders\"},{\"priority\":1.0,\"acute_encounter\":\"Headache\",\"acute_cateogry\":\"Lab\",\"acute_service\":\"Results Consultation:\"},{\"priority\":1.0,\"acute_encounter\":\"Headache\",\"acute_cateogry\":\"Physical Exam\",\"acute_service\":\"Problem Oriented Physical\"},{\"priority\":1.0,\"acute_encounter\":\"Headache\",\"acute_cateogry\":\"Visit wrap-up\\/care planning\",\"acute_service\":\"Visit wrap-up\\/care planning\"},{\"priority\":1.0,\"acute_encounter\":\"Intestinal infectious diseases\",\"acute_cateogry\":\"Lab\",\"acute_service\":\"Orders\"},{\"priority\":1.0,\"acute_encounter\":\"Intestinal infectious diseases\",\"acute_cateogry\":\"Lab\",\"acute_service\":\"Results Consultation:\"},{\"priority\":1.0,\"acute_encounter\":\"Intestinal infectious diseases\",\"acute_cateogry\":\"Physical Exam\",\"acute_service\":\"Problem Oriented Physical\"},{\"priority\":1.0,\"acute_encounter\":\"Intestinal infectious diseases\",\"acute_cateogry\":\"Visit wrap-up\\/care planning\",\"acute_service\":\"Visit wrap-up\\/care planning\"},{\"priority\":1.0,\"acute_encounter\":\"Joint and muscle pain\",\"acute_cateogry\":\"Lab\",\"acute_service\":\"Orders\"},{\"priority\":1.0,\"acute_encounter\":\"Joint and muscle pain\",\"acute_cateogry\":\"Lab\",\"acute_service\":\"Results Consultation:\"},{\"priority\":1.0,\"acute_encounter\":\"Joint and muscle pain\",\"acute_cateogry\":\"Physical Exam\",\"acute_service\":\"Problem Oriented Physical\"},{\"priority\":1.0,\"acute_encounter\":\"Joint and muscle pain\",\"acute_cateogry\":\"Visit wrap-up\\/care planning\",\"acute_service\":\"Visit wrap-up\\/care planning\"},{\"priority\":1.0,\"acute_encounter\":\"Migraine\",\"acute_cateogry\":\"Lab\",\"acute_service\":\"Orders\"},{\"priority\":1.0,\"acute_encounter\":\"Migraine\",\"acute_cateogry\":\"Lab\",\"acute_service\":\"Results Consultation:\"},{\"priority\":1.0,\"acute_encounter\":\"Migraine\",\"acute_cateogry\":\"Physical Exam\",\"acute_service\":\"Problem Oriented Physical\"},{\"priority\":1.0,\"acute_encounter\":\"Migraine\",\"acute_cateogry\":\"Visit wrap-up\\/care planning\",\"acute_service\":\"Visit wrap-up\\/care planning\"},{\"priority\":1.0,\"acute_encounter\":\"Minor trauma\",\"acute_cateogry\":\"Lab\",\"acute_service\":\"Orders\"},{\"priority\":1.0,\"acute_encounter\":\"Minor trauma\",\"acute_cateogry\":\"Lab\",\"acute_service\":\"Results Consultation:\"},{\"priority\":1.0,\"acute_encounter\":\"Minor trauma\",\"acute_cateogry\":\"Physical Exam\",\"acute_service\":\"Problem Oriented Physical\"},{\"priority\":1.0,\"acute_encounter\":\"Minor trauma\",\"acute_cateogry\":\"Visit wrap-up\\/care planning\",\"acute_service\":\"Visit wrap-up\\/care planning\"},{\"priority\":1.0,\"acute_encounter\":\"Otitis media\",\"acute_cateogry\":\"Lab\",\"acute_service\":\"Orders\"},{\"priority\":1.0,\"acute_encounter\":\"Otitis media\",\"acute_cateogry\":\"Lab\",\"acute_service\":\"Results Consultation:\"},{\"priority\":1.0,\"acute_encounter\":\"Otitis media\",\"acute_cateogry\":\"Physical Exam\",\"acute_service\":\"Problem Oriented Physical\"},{\"priority\":1.0,\"acute_encounter\":\"Otitis media\",\"acute_cateogry\":\"Visit wrap-up\\/care planning\",\"acute_service\":\"Visit wrap-up\\/care planning\"},{\"priority\":1.0,\"acute_encounter\":\"Skin infection\",\"acute_cateogry\":\"Lab\",\"acute_service\":\"Orders\"},{\"priority\":1.0,\"acute_encounter\":\"Skin infection\",\"acute_cateogry\":\"Lab\",\"acute_service\":\"Results Consultation:\"},{\"priority\":1.0,\"acute_encounter\":\"Skin infection\",\"acute_cateogry\":\"Physical Exam\",\"acute_service\":\"Problem Oriented Physical\"},{\"priority\":1.0,\"acute_encounter\":\"Skin infection\",\"acute_cateogry\":\"Visit wrap-up\\/care planning\",\"acute_service\":\"Visit wrap-up\\/care planning\"},{\"priority\":1.0,\"acute_encounter\":\"Urinary tract infections, vaginitis and urethritis\",\"acute_cateogry\":\"Lab\",\"acute_service\":\"Orders\"},{\"priority\":1.0,\"acute_encounter\":\"Urinary tract infections, vaginitis and urethritis\",\"acute_cateogry\":\"Lab\",\"acute_service\":\"Results Consultation:\"},{\"priority\":1.0,\"acute_encounter\":\"Urinary tract infections, vaginitis and urethritis\",\"acute_cateogry\":\"Physical Exam\",\"acute_service\":\"Problem Oriented Physical\"},{\"priority\":1.0,\"acute_encounter\":\"Urinary tract infections, vaginitis and urethritis\",\"acute_cateogry\":\"Visit wrap-up\\/care planning\",\"acute_service\":\"Visit wrap-up\\/care planning\"},{\"priority\":2.0,\"acute_encounter\":\"Abdominal pain\",\"acute_cateogry\":\"Measurements\",\"acute_service\":\"BP\"},{\"priority\":2.0,\"acute_encounter\":\"Abdominal pain\",\"acute_cateogry\":\"Measurements\",\"acute_service\":\"Temp\"},{\"priority\":2.0,\"acute_encounter\":\"Abdominal pain\",\"acute_cateogry\":\"Measurements\",\"acute_service\":\"Weight\"},{\"priority\":2.0,\"acute_encounter\":\"Abdominal pain\",\"acute_cateogry\":\"Patient History\",\"acute_service\":\"Data Collection\"},{\"priority\":2.0,\"acute_encounter\":\"Chest pain\",\"acute_cateogry\":\"Measurements\",\"acute_service\":\"BP\"},{\"priority\":2.0,\"acute_encounter\":\"Chest pain\",\"acute_cateogry\":\"Measurements\",\"acute_service\":\"Temp\"},{\"priority\":2.0,\"acute_encounter\":\"Chest pain\",\"acute_cateogry\":\"Measurements\",\"acute_service\":\"Weight\"},{\"priority\":2.0,\"acute_encounter\":\"Chest pain\",\"acute_cateogry\":\"Patient History\",\"acute_service\":\"Data Collection\"},{\"priority\":2.0,\"acute_encounter\":\"Cough and bronchitis\",\"acute_cateogry\":\"Measurements\",\"acute_service\":\"BP\"},{\"priority\":2.0,\"acute_encounter\":\"Cough and bronchitis\",\"acute_cateogry\":\"Measurements\",\"acute_service\":\"Temp\"},{\"priority\":2.0,\"acute_encounter\":\"Cough and bronchitis\",\"acute_cateogry\":\"Measurements\",\"acute_service\":\"Weight\"},{\"priority\":2.0,\"acute_encounter\":\"Cough and bronchitis\",\"acute_cateogry\":\"Patient History\",\"acute_service\":\"Data Collection\"},{\"priority\":2.0,\"acute_encounter\":\"Fever\",\"acute_cateogry\":\"Measurements\",\"acute_service\":\"BP\"},{\"priority\":2.0,\"acute_encounter\":\"Fever\",\"acute_cateogry\":\"Measurements\",\"acute_service\":\"Temp\"},{\"priority\":2.0,\"acute_encounter\":\"Fever\",\"acute_cateogry\":\"Measurements\",\"acute_service\":\"Weight\"},{\"priority\":2.0,\"acute_encounter\":\"Fever\",\"acute_cateogry\":\"Patient History\",\"acute_service\":\"Data Collection\"},{\"priority\":2.0,\"acute_encounter\":\"Headache\",\"acute_cateogry\":\"Measurements\",\"acute_service\":\"BP\"},{\"priority\":2.0,\"acute_encounter\":\"Headache\",\"acute_cateogry\":\"Measurements\",\"acute_service\":\"Temp\"},{\"priority\":2.0,\"acute_encounter\":\"Headache\",\"acute_cateogry\":\"Measurements\",\"acute_service\":\"Weight\"},{\"priority\":2.0,\"acute_encounter\":\"Headache\",\"acute_cateogry\":\"Patient History\",\"acute_service\":\"Data Collection\"},{\"priority\":2.0,\"acute_encounter\":\"Intestinal infectious diseases\",\"acute_cateogry\":\"Measurements\",\"acute_service\":\"BP\"},{\"priority\":2.0,\"acute_encounter\":\"Intestinal infectious diseases\",\"acute_cateogry\":\"Measurements\",\"acute_service\":\"Temp\"},{\"priority\":2.0,\"acute_encounter\":\"Intestinal infectious diseases\",\"acute_cateogry\":\"Measurements\",\"acute_service\":\"Weight\"},{\"priority\":2.0,\"acute_encounter\":\"Intestinal infectious diseases\",\"acute_cateogry\":\"Patient History\",\"acute_service\":\"Data Collection\"},{\"priority\":2.0,\"acute_encounter\":\"Joint and muscle pain\",\"acute_cateogry\":\"Measurements\",\"acute_service\":\"BP\"},{\"priority\":2.0,\"acute_encounter\":\"Joint and muscle pain\",\"acute_cateogry\":\"Measurements\",\"acute_service\":\"Temp\"},{\"priority\":2.0,\"acute_encounter\":\"Joint and muscle pain\",\"acute_cateogry\":\"Measurements\",\"acute_service\":\"Weight\"},{\"priority\":2.0,\"acute_encounter\":\"Joint and muscle pain\",\"acute_cateogry\":\"Patient History\",\"acute_service\":\"Data Collection\"},{\"priority\":2.0,\"acute_encounter\":\"Migraine\",\"acute_cateogry\":\"Measurements\",\"acute_service\":\"BP\"},{\"priority\":2.0,\"acute_encounter\":\"Migraine\",\"acute_cateogry\":\"Measurements\",\"acute_service\":\"Temp\"},{\"priority\":2.0,\"acute_encounter\":\"Migraine\",\"acute_cateogry\":\"Measurements\",\"acute_service\":\"Weight\"},{\"priority\":2.0,\"acute_encounter\":\"Migraine\",\"acute_cateogry\":\"Patient History\",\"acute_service\":\"Data Collection\"},{\"priority\":2.0,\"acute_encounter\":\"Minor trauma\",\"acute_cateogry\":\"Measurements\",\"acute_service\":\"BP\"},{\"priority\":2.0,\"acute_encounter\":\"Minor trauma\",\"acute_cateogry\":\"Measurements\",\"acute_service\":\"Temp\"},{\"priority\":2.0,\"acute_encounter\":\"Minor trauma\",\"acute_cateogry\":\"Measurements\",\"acute_service\":\"Weight\"},{\"priority\":2.0,\"acute_encounter\":\"Minor trauma\",\"acute_cateogry\":\"Patient History\",\"acute_service\":\"Data Collection\"},{\"priority\":2.0,\"acute_encounter\":\"Otitis media\",\"acute_cateogry\":\"Measurements\",\"acute_service\":\"BP\"},{\"priority\":2.0,\"acute_encounter\":\"Otitis media\",\"acute_cateogry\":\"Measurements\",\"acute_service\":\"Temp\"},{\"priority\":2.0,\"acute_encounter\":\"Otitis media\",\"acute_cateogry\":\"Measurements\",\"acute_service\":\"Weight\"},{\"priority\":2.0,\"acute_encounter\":\"Otitis media\",\"acute_cateogry\":\"Patient History\",\"acute_service\":\"Data Collection\"},{\"priority\":2.0,\"acute_encounter\":\"Skin infection\",\"acute_cateogry\":\"Measurements\",\"acute_service\":\"BP\"},{\"priority\":2.0,\"acute_encounter\":\"Skin infection\",\"acute_cateogry\":\"Measurements\",\"acute_service\":\"Temp\"},{\"priority\":2.0,\"acute_encounter\":\"Skin infection\",\"acute_cateogry\":\"Measurements\",\"acute_service\":\"Weight\"},{\"priority\":2.0,\"acute_encounter\":\"Skin infection\",\"acute_cateogry\":\"Patient History\",\"acute_service\":\"Data Collection\"},{\"priority\":2.0,\"acute_encounter\":\"Urinary tract infections, vaginitis and urethritis\",\"acute_cateogry\":\"Measurements\",\"acute_service\":\"BP\"},{\"priority\":2.0,\"acute_encounter\":\"Urinary tract infections, vaginitis and urethritis\",\"acute_cateogry\":\"Measurements\",\"acute_service\":\"Temp\"},{\"priority\":2.0,\"acute_encounter\":\"Urinary tract infections, vaginitis and urethritis\",\"acute_cateogry\":\"Measurements\",\"acute_service\":\"Weight\"},{\"priority\":2.0,\"acute_encounter\":\"Urinary tract infections, vaginitis and urethritis\",\"acute_cateogry\":\"Patient History\",\"acute_service\":\"Data Collection\"},{\"priority\":null,\"acute_encounter\":\"Abdominal pain\",\"acute_cateogry\":\"Pharmacological Treatment\\/Mgmt\",\"acute_service\":\"Orders\\/scripts\"},{\"priority\":null,\"acute_encounter\":\"Chest pain\",\"acute_cateogry\":\"Pharmacological Treatment\\/Mgmt\",\"acute_service\":\"Orders\\/scripts\"},{\"priority\":null,\"acute_encounter\":\"Cough and bronchitis\",\"acute_cateogry\":\"Pharmacological Treatment\\/Mgmt\",\"acute_service\":\"Orders\\/scripts\"},{\"priority\":null,\"acute_encounter\":\"Fever\",\"acute_cateogry\":\"Pharmacological Treatment\\/Mgmt\",\"acute_service\":\"Orders\\/scripts\"},{\"priority\":null,\"acute_encounter\":\"Headache\",\"acute_cateogry\":\"Pharmacological Treatment\\/Mgmt\",\"acute_service\":\"Orders\\/scripts\"},{\"priority\":null,\"acute_encounter\":\"Intestinal infectious diseases\",\"acute_cateogry\":\"Pharmacological Treatment\\/Mgmt\",\"acute_service\":\"Orders\\/scripts\"},{\"priority\":null,\"acute_encounter\":\"Joint and muscle pain\",\"acute_cateogry\":\"Pharmacological Treatment\\/Mgmt\",\"acute_service\":\"Orders\\/scripts\"},{\"priority\":null,\"acute_encounter\":\"Migraine\",\"acute_cateogry\":\"Pharmacological Treatment\\/Mgmt\",\"acute_service\":\"Orders\\/scripts\"},{\"priority\":null,\"acute_encounter\":\"Minor trauma\",\"acute_cateogry\":\"Pharmacological Treatment\\/Mgmt\",\"acute_service\":\"Orders\\/scripts\"},{\"priority\":null,\"acute_encounter\":\"Otitis media\",\"acute_cateogry\":\"Pharmacological Treatment\\/Mgmt\",\"acute_service\":\"Orders\\/scripts\"},{\"priority\":null,\"acute_encounter\":\"Skin infection\",\"acute_cateogry\":\"Pharmacological Treatment\\/Mgmt\",\"acute_service\":\"Orders\\/scripts\"},{\"priority\":null,\"acute_encounter\":\"Urinary tract infections, vaginitis and urethritis\",\"acute_cateogry\":\"Pharmacological Treatment\\/Mgmt\",\"acute_service\":\"Orders\\/scripts\"}]\"}]\n"
     ]
    }
   ],
   "source": [
    "out = provider_head_profile.to_json(orient='records')\n",
    "out = out + provider_supply_profile.to_json(orient='records')\n",
    "out = out + profile_services.to_json(orient='records')\n",
    "respond(out)"
   ]
  }
 ],
 "metadata": {
  "kernelspec": {
   "display_name": "Python 3",
   "language": "python",
   "name": "python3"
  },
  "language_info": {
   "codemirror_mode": {
    "name": "ipython",
    "version": 3
   },
   "file_extension": ".py",
   "mimetype": "text/x-python",
   "name": "python",
   "nbconvert_exporter": "python",
   "pygments_lexer": "ipython3",
   "version": "3.6.5"
  }
 },
 "nbformat": 4,
 "nbformat_minor": 2
}
